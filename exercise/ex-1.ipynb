{
 "cells": [
  {
   "cell_type": "markdown",
   "source": [
    "# Exercise set 1"
   ],
   "metadata": {
    "collapsed": false
   }
  },
  {
   "cell_type": "code",
   "execution_count": 8,
   "outputs": [],
   "source": [
    "from utils import ListNode"
   ],
   "metadata": {
    "collapsed": false
   }
  },
  {
   "cell_type": "markdown",
   "source": [
    "## 5. 最长回文子串\n",
    "\n",
    "[力扣](https://leetcode.cn/problems/longest-palindromic-substring/)"
   ],
   "metadata": {
    "collapsed": false
   }
  },
  {
   "cell_type": "markdown",
   "source": [
    "### 方法一: 动态规划\n",
    "\n",
    "很容易得知，状态转移方程为:\n",
    "\n",
    "  $$dp[i][j] = (s[i]==s[j]) \\land dp[i-1][j+1]$$\n",
    "\n",
    "但是关键在于，如何 sweep 整个 dp 空间呢？从状态转移方程中，我们可以看到，dp 的依赖关系是：长子串依赖于短子串。因此我们的遍历方式选择从子串长度入手！大致思路为:\n",
    "```python\n",
    "# dp init\n",
    "# calculate dp elements for L = 1, i.e. dp[i][i] for i in range(len(s))\n",
    "\n",
    "# dp sweep\n",
    "for L in range(2, len(s)+1):\n",
    "    # calcualte dp elements for substring with length `L`\n",
    "    for i in range(len(s) - L):\n",
    "        j = i + L - 1 # because L = j - i + 1\n",
    "        pass\n",
    "```"
   ],
   "metadata": {
    "collapsed": false
   }
  },
  {
   "cell_type": "code",
   "execution_count": 9,
   "outputs": [
    {
     "name": "stdout",
     "output_type": "stream",
     "text": [
      "expected: bab\n"
     ]
    },
    {
     "data": {
      "text/plain": "'bab'"
     },
     "execution_count": 9,
     "metadata": {},
     "output_type": "execute_result"
    }
   ],
   "source": [
    "def longestPalindrome(s):\n",
    "    n = len(s)\n",
    "\n",
    "    # dp init for L = 1\n",
    "    dp = [[False] * n for _ in range(n)]\n",
    "    for i in range(n):\n",
    "        dp[i][i] = True\n",
    "    sub_str = s[0]\n",
    "\n",
    "    # dp sweep, L --> L-2, so we iterate from L = 2...n\n",
    "    # dp[i][j] = s[i] == s[j] && s[i+1][j-1]\n",
    "    for L in range(2, n+1):\n",
    "        cnt = False\n",
    "        for i in range(n+1-L):\n",
    "            # i = 0... n-L, j = L-1...n-1\n",
    "            j = i + L - 1  # L = j - i + 1\n",
    "            dp[i][j] = (s[i] == s[j])\n",
    "            if L > 2:\n",
    "                dp[i][j] = dp[i][j] and dp[i+1][j-1]\n",
    "            # update max_len\n",
    "            if not cnt and dp[i][j]:\n",
    "                cnt = True\n",
    "                sub_str = s[i:j+1]\n",
    "    return sub_str\n",
    "\n",
    "print(\"expected: bab\")\n",
    "longestPalindrome(\"babad\")"
   ],
   "metadata": {
    "collapsed": false
   }
  },
  {
   "cell_type": "markdown",
   "source": [
    "### 方法二: 中心扩散\n",
    "\n",
    "仔细观察动态规划的状态转移方程，我们会发现，dp 依赖不仅有： 长串依赖短串的规律，还有这里的长短串是相同中心的！\n",
    "\n",
    "因此，我们完全可以改变刚才 dp sweep 的内外循环顺序。先遍历各个点作为回文中心，再逐渐增加长度。"
   ],
   "metadata": {
    "collapsed": false
   }
  },
  {
   "cell_type": "code",
   "execution_count": 10,
   "metadata": {
    "collapsed": true
   },
   "outputs": [
    {
     "name": "stdout",
     "output_type": "stream",
     "text": [
      "expected: a\n"
     ]
    },
    {
     "data": {
      "text/plain": "'a'"
     },
     "execution_count": 10,
     "metadata": {},
     "output_type": "execute_result"
    }
   ],
   "source": [
    "# center_expand 不容易写对\n",
    "def center_expand(s, l, r):\n",
    "    while l>=0 and r < len(s) and s[l] == s[r]:\n",
    "        l -= 1\n",
    "        r += 1\n",
    "    return l+1, r-1\n",
    "\n",
    "def longestPalindrome(s):\n",
    "    max_len = 0\n",
    "    sub_str = \"\"\n",
    "    for i in range(len(s)):\n",
    "        # 以 s[i] 为中心，尝试中心拓展\n",
    "        l1, r1 = center_expand(s, i, i)\n",
    "        l2, r2 = center_expand(s, i, i+1)\n",
    "        if r1 - l1 + 1 > max_len:\n",
    "            max_len, sub_str = (r1-l1+1), s[l1:r1+1]\n",
    "        if r2 - l2 + 1 > max_len:\n",
    "            max_len, sub_str = (r2-l2+1), s[l2:r2+1]\n",
    "    return sub_str\n",
    "\n",
    "print(\"expected: a\")\n",
    "longestPalindrome(\"a\")"
   ]
  },
  {
   "cell_type": "markdown",
   "source": [
    "## 6. N 字形变换\n",
    "\n",
    "思路还是找规律。\n",
    "\n",
    "`row` = 2:\n",
    "\n",
    "0|2|4|6\n",
    "1|3|5|7\n",
    "\n",
    "`row` = 3:\n",
    "0| |4| |8|\n",
    "1|3|5|7|9|\n",
    "2| |6| |\n",
    "\n"
   ],
   "metadata": {
    "collapsed": false
   }
  },
  {
   "cell_type": "code",
   "execution_count": 11,
   "outputs": [
    {
     "name": "stdout",
     "output_type": "stream",
     "text": [
      "expected result: PAHNAPLSIIGYIR\n"
     ]
    },
    {
     "data": {
      "text/plain": "'PAHNAPLSIIGYIR'"
     },
     "execution_count": 11,
     "metadata": {},
     "output_type": "execute_result"
    }
   ],
   "source": [
    "def convert( s, numRows):\n",
    "    \"\"\"\n",
    "    :type s: str\n",
    "    :type numRows: int\n",
    "    :rtype: str\n",
    "    \"\"\"\n",
    "    if numRows == 1:\n",
    "        return s\n",
    "    # numRows >= 2\n",
    "    ans = []\n",
    "    margin = 2 * (numRows - 1)\n",
    "\n",
    "    for row in range(0, numRows):\n",
    "        i = row\n",
    "        sub_margin = row * 2\n",
    "        odd = False\n",
    "        while i < len(s):\n",
    "            ans.append(s[i])\n",
    "            if row == 0 or row == numRows-1:\n",
    "                i += margin\n",
    "            else:\n",
    "                if odd:\n",
    "                    i += sub_margin\n",
    "                else:\n",
    "                    i += (margin - sub_margin)\n",
    "            odd = not odd\n",
    "    return \"\".join(ans)\n",
    "\n",
    "print(\"expected result: PAHNAPLSIIGYIR\")\n",
    "convert(\"PAYPALISHIRING\", 3)"
   ],
   "metadata": {
    "collapsed": false
   }
  },
  {
   "cell_type": "markdown",
   "source": [
    "## 7. 整数反转\n",
    "\n",
    "这道题不难，关键在于边界条件能不能按照题目要求处理好。\n",
    "\n",
    "题目要求：假设环境中不能存储 64 位正数，若反转后值溢出，则返回 0 . 通常处理溢出，我们可以通过结果变号来识别，但是事实是：我们的环境可以存储 64 位整数，因此我们无法通过这个结果变号来判断，而是手工判断。"
   ],
   "metadata": {
    "collapsed": false
   }
  },
  {
   "cell_type": "code",
   "execution_count": 12,
   "outputs": [
    {
     "name": "stdout",
     "output_type": "stream",
     "text": [
      "expected result: -392175\n"
     ]
    },
    {
     "data": {
      "text/plain": "-392175"
     },
     "execution_count": 12,
     "metadata": {},
     "output_type": "execute_result"
    }
   ],
   "source": [
    "def reverse(x):\n",
    "    \"\"\"\n",
    "    :type x: int\n",
    "    :rtype: int\n",
    "    \"\"\"\n",
    "    # 1. save sign, convert positive for convinience\n",
    "    INT_MIN, INT_MAX = -2**31, 2**31-1\n",
    "    positive = (x>0)\n",
    "    x = x if positive else (-x)\n",
    "\n",
    "    # 2. reverse\n",
    "    stack = []\n",
    "    base = 1\n",
    "    result = 0\n",
    "    while x > 0:\n",
    "        stack.append(x % 10)\n",
    "        x //= 10\n",
    "\n",
    "    for i in range(len(stack)):\n",
    "        if positive and result > INT_MAX // 10:\n",
    "            return 0\n",
    "        if not positive and (-result < INT_MIN // 10 + 1):\n",
    "            return 0\n",
    "        result = 10 * result + stack[i]\n",
    "\n",
    "    # handle overflow, we have to notice that: we are pretending that the env cannot save 64-bit integer while it can\n",
    "    # so, the following check is actually a cheat\n",
    "    # if result >> 31 != 0:\n",
    "    #     return 0\n",
    "\n",
    "    return result if positive else (-result)\n",
    "\n",
    "print('expected result: -392175')\n",
    "reverse(-571293)"
   ],
   "metadata": {
    "collapsed": false
   }
  },
  {
   "cell_type": "markdown",
   "source": [
    "## 2. 两数相加\n",
    "\n",
    "这道题简单，但是非常考察细心程度。\n",
    "\n",
    "1. 要使用同样逆序的链表返回\n",
    "3. 要注意 `l1`, `l2` 都到达末尾后，仍存在的进位！！"
   ],
   "metadata": {
    "collapsed": false
   }
  },
  {
   "cell_type": "code",
   "execution_count": 13,
   "outputs": [],
   "source": [
    "\n",
    "\n",
    "def addTwoNumbers(self, l1, l2):\n",
    "    \"\"\"\n",
    "    :type l1: ListNode\n",
    "    :type l2: ListNode\n",
    "    :rtype: ListNode\n",
    "    \"\"\"\n",
    "    head = ListNode()\n",
    "    cur_node = head\n",
    "    outflow = 0\n",
    "    while l1 or l2:\n",
    "        digit_1 = int(l1.val) if l1 else 0\n",
    "        digit_2 = int(l2.val) if l2 else 0\n",
    "        digit_sum = digit_1 + digit_2 + outflow\n",
    "        outflow = digit_sum // 10\n",
    "        cur_node.next = ListNode(digit_sum % 10)\n",
    "        cur_node = cur_node.next\n",
    "        if l1:\n",
    "            l1 = l1.next\n",
    "        if l2:\n",
    "            l2 = l2.next\n",
    "    if outflow > 0:\n",
    "        cur_node.next = ListNode(outflow)\n",
    "    return head.next"
   ],
   "metadata": {
    "collapsed": false
   }
  },
  {
   "cell_type": "markdown",
   "source": [
    "## 1. 两数之和\n",
    "\n",
    "关键点: 使用 hash 结构，空间换时间"
   ],
   "metadata": {
    "collapsed": false
   }
  },
  {
   "cell_type": "markdown",
   "source": [
    "### 版本一: 返回一组解(下标)"
   ],
   "metadata": {
    "collapsed": false
   }
  },
  {
   "cell_type": "code",
   "execution_count": 14,
   "outputs": [
    {
     "data": {
      "text/plain": "{0, 2}"
     },
     "execution_count": 14,
     "metadata": {},
     "output_type": "execute_result"
    }
   ],
   "source": [
    "def two_sum(nums, target):\n",
    "    cache = {}\n",
    "    for i, num in enumerate(nums):\n",
    "        if num in cache:\n",
    "            return {cache[num], i}\n",
    "        else:\n",
    "            cache[target-num] = i\n",
    "\n",
    "two_sum([2, 7, 12, 2, 12, 11, 15, 1,5, 14, 3, 3, 4, 13], 14)"
   ],
   "metadata": {
    "collapsed": false
   }
  },
  {
   "cell_type": "markdown",
   "source": [
    "### 版本二: 返回所有解(下标)"
   ],
   "metadata": {
    "collapsed": false
   }
  },
  {
   "cell_type": "code",
   "execution_count": 15,
   "outputs": [
    {
     "data": {
      "text/plain": "[[0, 2], [2, 3], [0, 4], [3, 4], [5, 10], [5, 11], [7, 13]]"
     },
     "execution_count": 15,
     "metadata": {},
     "output_type": "execute_result"
    }
   ],
   "source": [
    "def two_sum(nums, target):\n",
    "    from collections import defaultdict\n",
    "    ans = []\n",
    "    cache = defaultdict(lambda: [])\n",
    "    for i, num in enumerate(nums):\n",
    "        if num in cache:\n",
    "            for idx in cache[num]:\n",
    "                ans.append([idx, i])\n",
    "        cache[target-num].append(i)\n",
    "    return ans\n",
    "\n",
    "two_sum([2, 7, 12, 2, 12, 11, 15, 1, 5, 14, 3, 3, 4, 13], 14)"
   ],
   "metadata": {
    "collapsed": false
   }
  },
  {
   "cell_type": "markdown",
   "source": [
    "### 版本三: 返回所有解(值)"
   ],
   "metadata": {
    "collapsed": false
   }
  },
  {
   "cell_type": "code",
   "execution_count": 16,
   "outputs": [
    {
     "data": {
      "text/plain": "[[2, 12], [12, 2], [2, 12], [2, 12], [11, 3], [11, 3], [1, 13]]"
     },
     "execution_count": 16,
     "metadata": {},
     "output_type": "execute_result"
    }
   ],
   "source": [
    "def two_sum(nums, target):\n",
    "    from collections import defaultdict\n",
    "    ans = []\n",
    "    cache = defaultdict(lambda: [])\n",
    "\n",
    "    for i, num in enumerate(nums):\n",
    "        if num in cache:\n",
    "            for idx in cache[num]:\n",
    "                ans.append([idx, i])\n",
    "        cache[target-num].append(i)\n",
    "\n",
    "    ans = [[nums[pair[0]], nums[pair[1]]] for pair in ans]\n",
    "    return ans\n",
    "\n",
    "two_sum([2, 7, 12, 2, 12, 11, 15, 1, 5, 14, 3, 3, 4, 13], 14)"
   ],
   "metadata": {
    "collapsed": false
   }
  },
  {
   "cell_type": "markdown",
   "source": [
    "## 15. 三数之和\n",
    "\n",
    "[力扣](https://leetcode-cn.com/problems/3sum/)\n",
    "\n",
    "三数之和与两数之和的问题完全不同： 排序 + 双指针\n",
    "\n",
    "关键点： 先排序，再借助双指针。将 $O(N^3) $ 转化为 $O(N^2)$"
   ],
   "metadata": {
    "collapsed": false
   }
  },
  {
   "cell_type": "markdown",
   "source": [
    "### 方法一: 有序枚举"
   ],
   "metadata": {
    "collapsed": false
   }
  },
  {
   "cell_type": "code",
   "execution_count": 17,
   "outputs": [],
   "source": [
    "def threeSum(nums):\n",
    "    ans = []\n",
    "    nums = sorted(nums)\n",
    "    n = len(nums)\n",
    "\n",
    "    # first, second, third\n",
    "    # given first, if second increase, third must decrease\n",
    "    # iterate first over 0...n-3\n",
    "    for first in range(n-2):\n",
    "        # guarentee non-duplicity of first\n",
    "        if first > 0 and nums[first] == nums[first-1]:\n",
    "            continue\n",
    "\n",
    "        third = n-1\n",
    "        # iterate second over first+1...n-2\n",
    "        for second in range(first+1, n-1):\n",
    "            # guarentee non-duplicity of second:\n",
    "            if second > first+1 and nums[second] == nums[second-1]:\n",
    "                continue\n",
    "            # find the proper third\n",
    "            while second < third and nums[first] + nums[second] + nums[third] > 0:\n",
    "                third -= 1\n",
    "            # if end while because of finding no solution\n",
    "            if second == third:\n",
    "                continue\n",
    "            # if finding a correct solution, add the solution to solution set\n",
    "            if nums[first] + nums[second] + nums[third] == 0:\n",
    "                ans.append([nums[first], nums[second], nums[third]])\n",
    "    return ans\n"
   ],
   "metadata": {
    "collapsed": false
   }
  },
  {
   "cell_type": "markdown",
   "source": [
    "### 方法二: 双指针法"
   ],
   "metadata": {
    "collapsed": false
   }
  },
  {
   "cell_type": "code",
   "execution_count": 18,
   "outputs": [],
   "source": [
    "def threeSum(nums):\n",
    "        \"\"\"\n",
    "        :type nums: List[int]\n",
    "        :rtype: List[List[int]]\n",
    "        \"\"\"\n",
    "        ans = []\n",
    "        nums = sorted(nums)\n",
    "        n = len(nums)\n",
    "\n",
    "        # iterate first over 0...n-3\n",
    "        for first in range(n-2):\n",
    "            # guarentee non-duplicity of first\n",
    "            if first > 0 and nums[first] == nums[first-1]:\n",
    "                continue\n",
    "\n",
    "            # find all proper second and third by two pointers methods\n",
    "            L, R = first+1, n-1\n",
    "            while L < R:\n",
    "                temp_sum = nums[first] + nums[L] + nums[R]\n",
    "                if temp_sum == 0:\n",
    "                    ans.append([nums[first], nums[L], nums[R]])\n",
    "                    while L<R and nums[L] == nums[L+1]: L += 1\n",
    "                    while L<R and nums[R] == nums[R-1]: R -= 1\n",
    "                    L, R = L+1, R-1\n",
    "                elif temp_sum > 0:\n",
    "                    R -= 1\n",
    "                else:  # temp_sum < 0\n",
    "                    L += 1\n",
    "        return ans"
   ],
   "metadata": {
    "collapsed": false
   }
  },
  {
   "cell_type": "markdown",
   "source": [
    "## 22. 括号生成\n",
    "\n",
    "[力扣](https://leetcode-cn.com/problems/generate-parentheses/)"
   ],
   "metadata": {
    "collapsed": false
   }
  },
  {
   "cell_type": "markdown",
   "source": [
    "### 回溯法"
   ],
   "metadata": {
    "collapsed": false
   }
  },
  {
   "cell_type": "code",
   "execution_count": 19,
   "outputs": [
    {
     "data": {
      "text/plain": "['(((())))',\n '((()()))',\n '((())())',\n '((()))()',\n '(()(()))',\n '(()()())',\n '(()())()',\n '(())(())',\n '(())()()',\n '()((()))',\n '()(()())',\n '()(())()',\n '()()(())',\n '()()()()']"
     },
     "execution_count": 19,
     "metadata": {},
     "output_type": "execute_result"
    }
   ],
   "source": [
    "class Solution():\n",
    "    ans = []\n",
    "\n",
    "    def generate_parenthesis(self, n):\n",
    "        self.ans = []\n",
    "        self.backtrace(\"\", n, n)\n",
    "        return self.ans\n",
    "\n",
    "    def backtrace(self, s, bra, ket):\n",
    "        if bra  == 0 and ket == 0:\n",
    "            self.ans.append(s)\n",
    "            return\n",
    "        # remaining bra must <= ket\n",
    "        if bra == ket:\n",
    "            self.backtrace(s + \"(\", bra-1, ket)\n",
    "        elif bra < ket:\n",
    "            if bra > 0:\n",
    "                self.backtrace(s + \"(\", bra-1, ket)\n",
    "            self.backtrace(s + \")\", bra, ket-1)\n",
    "\n",
    "\n",
    "Solution().generate_parenthesis(4)"
   ],
   "metadata": {
    "collapsed": false
   }
  },
  {
   "cell_type": "markdown",
   "source": [
    "## 21. 归并 2 个有序链表\n",
    "\n",
    "[力扣](https://leetcode-cn.com/problems/merge-two-sorted-lists/)"
   ],
   "metadata": {
    "collapsed": false
   }
  },
  {
   "cell_type": "markdown",
   "source": [
    "### 方法一: 递归"
   ],
   "metadata": {
    "collapsed": false
   }
  },
  {
   "cell_type": "code",
   "execution_count": 20,
   "outputs": [],
   "source": [
    "# Definition for singly-linked list.\n",
    "# class ListNode(object):\n",
    "#     def __init__(self, val=0, next=None):\n",
    "#         self.val = val\n",
    "#         self.next = next\n",
    "class Solution(object):\n",
    "    def mergeTwoLists(self, list1, list2):\n",
    "        \"\"\"\n",
    "        :type list1: Optional[ListNode]\n",
    "        :type list2: Optional[ListNode]\n",
    "        :rtype: Optional[ListNode]\n",
    "        \"\"\"\n",
    "        if list1 is None:\n",
    "            return list2\n",
    "        if list2 is None:\n",
    "            return list1\n",
    "\n",
    "        if list1.val <= list2.val:\n",
    "            list1.next = self.mergeTwoLists(list1.next, list2)\n",
    "            return list1\n",
    "        else:\n",
    "            list2.next = self.mergeTwoLists(list1, list2.next)\n",
    "            return list2"
   ],
   "metadata": {
    "collapsed": false
   }
  },
  {
   "cell_type": "markdown",
   "source": [
    "### 方法二: 迭代"
   ],
   "metadata": {
    "collapsed": false
   }
  },
  {
   "cell_type": "code",
   "execution_count": 21,
   "outputs": [],
   "source": [
    "# Definition for singly-linked list.\n",
    "# class ListNode(object):\n",
    "#     def __init__(self, val=0, next=None):\n",
    "#         self.val = val\n",
    "#         self.next = next\n",
    "class Solution(object):\n",
    "    def mergeTwoLists(self, list1, list2):\n",
    "        \"\"\"\n",
    "        :type list1: Optional[ListNode]\n",
    "        :type list2: Optional[ListNode]\n",
    "        :rtype: Optional[ListNode]\n",
    "        \"\"\"\n",
    "        head = ListNode()\n",
    "        cur_node = head\n",
    "        while list1 is not None or list2 is not None:\n",
    "            if list1 is None:\n",
    "                cur_node.next = list2\n",
    "                break\n",
    "            if list2 is None:\n",
    "                cur_node.next = list1\n",
    "                break\n",
    "            if list1.val <= list2.val:\n",
    "                cur_node.next = ListNode(list1.val)\n",
    "                list1 = list1.next\n",
    "            else:\n",
    "                cur_node.next = ListNode(list2.val)\n",
    "                list2 = list2.next\n",
    "            cur_node = cur_node.next\n",
    "        return head.next"
   ],
   "metadata": {
    "collapsed": false
   }
  },
  {
   "cell_type": "markdown",
   "source": [
    "## 23. 归并 K 个有序链表\n",
    "\n",
    "[力扣](https://leetcode-cn.com/problems/merge-k-sorted-lists/)"
   ],
   "metadata": {
    "collapsed": false
   }
  },
  {
   "cell_type": "markdown",
   "source": [
    "中心思想： 二分，分而治之"
   ],
   "metadata": {
    "collapsed": false
   }
  },
  {
   "cell_type": "markdown",
   "source": [
    "### 方法一: 递归"
   ],
   "metadata": {
    "collapsed": false
   }
  },
  {
   "cell_type": "code",
   "execution_count": 22,
   "outputs": [],
   "source": [
    "def mergeKList(linked_list:list):\n",
    "    n = len(linked_list)\n",
    "    if n == 0:\n",
    "        return []\n",
    "    if n == 1:\n",
    "        return linked_list[0]\n",
    "    if n == 2:\n",
    "        return merge2List(linked_list[0], linked_list[1])\n",
    "\n",
    "\n",
    "\n",
    "\n",
    "def merge2List(node_a:ListNode, node_b:ListNode):\n",
    "    if node_a is None:\n",
    "        return node_b\n",
    "    if node_b is None:\n",
    "        return node_a\n",
    "    if node_a.val <= node_b.val:\n",
    "        node_a.next = merge2List(node_a.next, node_b)\n",
    "        return node_a\n",
    "    else:\n",
    "        node_b.next = merge2List(node_a, node_b.next)\n",
    "        return node_b\n"
   ],
   "metadata": {
    "collapsed": false,
    "pycharm": {
     "name": "#%%a\n"
    }
   }
  },
  {
   "cell_type": "markdown",
   "source": [
    "### 方法二: 迭代"
   ],
   "metadata": {
    "collapsed": false
   }
  },
  {
   "cell_type": "markdown",
   "source": [
    "## 25. K个一组翻转链表\n",
    "\n",
    "[力扣](https://leetcode-cn.com/problems/reverse-nodes-in-k-group/)"
   ],
   "metadata": {
    "collapsed": false
   }
  },
  {
   "cell_type": "markdown",
   "source": [
    "### 方法一：递归"
   ],
   "metadata": {
    "collapsed": false
   }
  },
  {
   "cell_type": "code",
   "execution_count": 23,
   "outputs": [],
   "source": [
    "# Definition for singly-linked list.\n",
    "# class ListNode(object):\n",
    "#     def __init__(self, val=0, next=None):\n",
    "#         self.val = val\n",
    "#         self.next = next\n",
    "class Solution(object):\n",
    "    def reverseKGroup(self, head, k):\n",
    "        \"\"\"\n",
    "        :type head: ListNode\n",
    "        :type k: int\n",
    "        :rtype: ListNode\n",
    "        \"\"\"\n",
    "        # 0. 特殊情况\n",
    "        if k == 1:\n",
    "            return head\n",
    "        # 现在 k >= 2\n",
    "        i = k\n",
    "        next_start = head\n",
    "        # 1. 检查有没有 K 个\n",
    "        while i > 1 and next_start is not None:\n",
    "            next_start = next_start.next\n",
    "            i -= 1\n",
    "        # 1.(1) 如果没有，则直接返回\n",
    "        if next_start is None:\n",
    "            return head\n",
    "        # 2.(2) 如果有, 则开始反转\n",
    "        next_start = next_start.next  # next_start 指向下一组开始\n",
    "        prev, cur, nex = None, head, head.next\n",
    "        while cur != next_start:\n",
    "            nex = cur.next\n",
    "            cur.next = prev\n",
    "            prev, cur = cur, nex\n",
    "        # 循环结束时, prev 指向反转后列表的新头节点, head 现在指向第一组的尾节点\n",
    "        head.next = self.reverseKGroup(next_start, k)\n",
    "        return prev\n"
   ],
   "metadata": {
    "collapsed": false
   }
  },
  {
   "cell_type": "markdown",
   "source": [
    "### 方法二: 迭代\n",
    "\n",
    "编写一个 `reverse` 函数，返回反转后的链表头节点 `head` 和尾节点 `tail`，然后在 `reverseKGroup` 中调用 `reverse` 函数即可。\n",
    "\n",
    "主要是维护下面几个指针:\n",
    "- `pre` 指向上一组的最后一个元素\n",
    "- `head` 指向当前组的第一个元素\n",
    "- `tail` 指向当前组的最后一个元素\n",
    "- `next_start` 指向下一组的第一个元素"
   ],
   "metadata": {
    "collapsed": false
   }
  },
  {
   "cell_type": "code",
   "execution_count": 24,
   "outputs": [],
   "source": [
    "class Solution:\n",
    "    # 翻转从 head 至 tail 的链表，返回新的头尾节点\n",
    "    def reverse(self, head, tail):\n",
    "        pre, cur = None, head\n",
    "        while cur and pre!=tail:\n",
    "            nex = cur.next\n",
    "            cur.next = pre\n",
    "            pre, cur = cur, nex\n",
    "        return tail, head\n",
    "\n",
    "    def reverseKGroup(self, head, k):\n",
    "        hair = ListNode()\n",
    "        hair.next = head\n",
    "        pre = hair  # pre 指向上一组的最后一个元素\n",
    "\n",
    "        while head:\n",
    "            tail = pre  # tail 要指向当前组的最后一个元素\n",
    "            for i in range(k):\n",
    "                tail = tail.next\n",
    "                if tail is None:\n",
    "                    return hair.next\n",
    "            next_start = tail.next  # next_start 指向下一组的第一个元素\n",
    "            head, tail = self.reverse(head, tail)  # 调用时，while 可以保证 head 不为空, for 可以保证 tail 不为空\n",
    "            pre.next = head\n",
    "            tail.next = next_start\n",
    "            pre, head = tail, next_start\n",
    "        return hair.next\n"
   ],
   "metadata": {
    "collapsed": false
   }
  },
  {
   "cell_type": "markdown",
   "source": [
    "## 8. atoi\n",
    "\n",
    "[力扣](https://leetcode.cn/problems/string-to-integer-atoi/)"
   ],
   "metadata": {
    "collapsed": false
   }
  },
  {
   "cell_type": "markdown",
   "source": [
    "### 解法一: 细心即可"
   ],
   "metadata": {
    "collapsed": false
   }
  },
  {
   "cell_type": "code",
   "execution_count": 25,
   "outputs": [],
   "source": [
    "class Solution(object):\n",
    "    INT_MAX = 2**31-1\n",
    "    INT_MIN = -2**31\n",
    "\n",
    "    def myAtoi(self, s):\n",
    "        \"\"\"\n",
    "        :type s: str\n",
    "        :rtype: int\n",
    "        \"\"\"\n",
    "        # step 1\n",
    "        s = s.strip()\n",
    "        n = len(s)\n",
    "        num = 0\n",
    "\n",
    "        # special case\n",
    "        if n == 0:\n",
    "            return 0\n",
    "\n",
    "        i = 0\n",
    "        is_neg = False\n",
    "        # step 2:\n",
    "        if s[i] == '-':\n",
    "            is_neg = True\n",
    "            i += 1\n",
    "        elif s[i] == '+':\n",
    "            i += 1\n",
    "\n",
    "        # step 3: ignore all prior 0\n",
    "        while i<n and ord(s[i])==ord('0'):\n",
    "            i += 1\n",
    "\n",
    "        # read until end or non-numeric element\n",
    "        digits = []\n",
    "        while i<n and ord(s[i])<=ord('9') and ord(s[i])>=ord('0'):\n",
    "            digits.append(ord(s[i]) - ord('0'))\n",
    "            i += 1\n",
    "\n",
    "        # step 4, 5: convert digits to an integer\n",
    "        for digit in digits:\n",
    "            # positive overflow\n",
    "            if not is_neg and (num>self.INT_MAX//10 or (num==self.INT_MAX//10 and digit>=8)):\n",
    "                return self.INT_MAX\n",
    "            if is_neg and (num>(-self.INT_MIN)//10 or (num==(-self.INT_MIN)//10 and digit>=8)):\n",
    "                return self.INT_MIN\n",
    "            num = num * 10 + digit\n",
    "\n",
    "        return -num if is_neg else num"
   ],
   "metadata": {
    "collapsed": false
   }
  },
  {
   "cell_type": "markdown",
   "source": [
    "### 解法二: 有限状态机 DSM"
   ],
   "metadata": {
    "collapsed": false
   }
  },
  {
   "cell_type": "markdown",
   "source": [
    "## 17. 电话号码的字母组合\n",
    "\n",
    "显然，可以使用回溯法，还不用剪枝。"
   ],
   "metadata": {
    "collapsed": false
   }
  },
  {
   "cell_type": "markdown",
   "source": [
    "### 解法一: 回溯法\n",
    "\n",
    "denote `len(digits)` as $n$\n",
    "\n",
    "时间复杂度: $O(3^n)$\n",
    "空间复杂度: $O(3^n)$\n",
    "\n",
    "> p.s. 本身正好有 $3^n$ 种组合。因此这个时空复杂度是 ok 的。"
   ],
   "metadata": {
    "collapsed": false
   }
  },
  {
   "cell_type": "code",
   "execution_count": 26,
   "outputs": [],
   "source": [
    "class Solution(object):\n",
    "    ans = []\n",
    "    num2char = {\n",
    "            '2': ['a', 'b', 'c'],\n",
    "            '3': ['d', 'e', 'f'],\n",
    "            '4': ['g', 'h', 'i'],\n",
    "            '5': ['j', 'k', 'l'],\n",
    "            '6': ['m', 'n', 'o'],\n",
    "            '7': ['p', 'q', 'r', 's'],\n",
    "            '8': ['t', 'u', 'v'],\n",
    "            '9': ['w', 'x', 'y', 'z']\n",
    "    }\n",
    "    def letterCombinations(self, digits):\n",
    "        \"\"\"\n",
    "        :type digits: str\n",
    "        :rtype: List[str]\n",
    "        \"\"\"\n",
    "        # 这显然是不剪枝的回溯\n",
    "        self.ans = []\n",
    "        if len(digits) > 0:\n",
    "            self.get_combination(digits, \"\")\n",
    "        return self.ans\n",
    "\n",
    "    def get_combination(self, digits, s):\n",
    "        if len(digits) == 0:\n",
    "            self.ans.append(s)\n",
    "            return\n",
    "        # len(digits) >= 1\n",
    "        for c in self.num2char[digits[0]]:\n",
    "            self.get_combination(digits[1:], s+c)\n",
    "        return"
   ],
   "metadata": {
    "collapsed": false
   }
  },
  {
   "cell_type": "markdown",
   "source": [
    "### 解法二: 队列\n",
    "\n"
   ],
   "metadata": {
    "collapsed": false
   }
  },
  {
   "cell_type": "code",
   "execution_count": 27,
   "outputs": [],
   "source": [
    "class Solution(object):\n",
    "    num2char = {\n",
    "            '2': ['a', 'b', 'c'],\n",
    "            '3': ['d', 'e', 'f'],\n",
    "            '4': ['g', 'h', 'i'],\n",
    "            '5': ['j', 'k', 'l'],\n",
    "            '6': ['m', 'n', 'o'],\n",
    "            '7': ['p', 'q', 'r', 's'],\n",
    "            '8': ['t', 'u', 'v'],\n",
    "            '9': ['w', 'x', 'y', 'z']\n",
    "    }\n",
    "    def letterCombinations(self, digits):\n",
    "        \"\"\"\n",
    "        :type digits: str\n",
    "        :rtype: List[str]\n",
    "        \"\"\"\n",
    "        # 再来尝试队列\n",
    "        if len(digits) == 0:\n",
    "            return []\n",
    "        queue = [\"\"]\n",
    "\n",
    "        for digit in digits:\n",
    "            cur = []\n",
    "            while len(queue) > 0:\n",
    "                cur.append(queue.pop(0))\n",
    "            for s_prev in cur:\n",
    "                for c in self.num2char[digit]:\n",
    "                    queue.append(s_prev + c)\n",
    "        return queue"
   ],
   "metadata": {
    "collapsed": false
   }
  },
  {
   "cell_type": "markdown",
   "source": [
    "## 33. 搜索旋转排序数组\n",
    "\n",
    "二分查找的进阶版（尚未解决）"
   ],
   "metadata": {
    "collapsed": false
   }
  },
  {
   "cell_type": "markdown",
   "source": [
    "## 86 分隔链表\n",
    "\n",
    "[力扣](https://leetcode.cn/problems/partition-list/)\n",
    "\n",
    "简单分割，算法含量较低"
   ],
   "metadata": {
    "collapsed": false
   }
  },
  {
   "cell_type": "code",
   "execution_count": 28,
   "outputs": [],
   "source": [
    "# Definition for singly-linked list.\n",
    "# class ListNode(object):\n",
    "#     def __init__(self, val=0, next=None):\n",
    "#         self.val = val\n",
    "#         self.next = next\n",
    "class Solution(object):\n",
    "    def partition(self, head, x):\n",
    "        \"\"\"\n",
    "        :type head: ListNode\n",
    "        :type x: int\n",
    "        :rtype: ListNode\n",
    "        \"\"\"\n",
    "        # special case\n",
    "        if head is None or head.next is None:\n",
    "            return head\n",
    "\n",
    "        # 2 lists\n",
    "        sm_list, lg_list = ListNode(), ListNode()\n",
    "        sm_cur, lg_cur = sm_list, lg_list\n",
    "\n",
    "        while head:\n",
    "            if head.val < x:\n",
    "                sm_cur.next = ListNode(head.val)\n",
    "                sm_cur = sm_cur.next\n",
    "            else:\n",
    "                lg_cur.next = ListNode(head.val)\n",
    "                lg_cur = lg_cur.next\n",
    "            head = head.next\n",
    "        sm_cur.next = lg_list.next\n",
    "        return sm_list.next\n"
   ],
   "metadata": {
    "collapsed": false
   }
  },
  {
   "cell_type": "markdown",
   "source": [
    "## 142. 环形链表 2\n",
    "\n",
    "[力扣](https://leetcode.cn/problems/linked-list-cycle-ii/)\n",
    "\n",
    "写出数学公式，寻找相遇方法"
   ],
   "metadata": {
    "collapsed": false
   }
  },
  {
   "cell_type": "code",
   "execution_count": 29,
   "outputs": [],
   "source": [
    "# Definition for singly-linked list.\n",
    "# class ListNode(object):\n",
    "#     def __init__(self, x):\n",
    "#         self.val = x\n",
    "#         self.next = None\n",
    "\n",
    "class Solution(object):\n",
    "    def detectCycle(self, head):\n",
    "        \"\"\"\n",
    "        :type head: ListNode\n",
    "        :rtype: ListNode\n",
    "        \"\"\"\n",
    "        if head is None:\n",
    "            return None\n",
    "\n",
    "        slow, fast = head, head.next\n",
    "\n",
    "        while slow and fast:\n",
    "            if slow == fast:\n",
    "                # 找到一个交点，则进一步找入口\n",
    "                slow = slow.next\n",
    "                while slow != head:\n",
    "                    slow = slow.next\n",
    "                    head = head.next\n",
    "                return slow\n",
    "            slow = slow.next\n",
    "            fast = fast.next\n",
    "            if fast:\n",
    "                fast = fast.next\n",
    "            else:\n",
    "                return None\n",
    "        return None"
   ],
   "metadata": {
    "collapsed": false
   }
  },
  {
   "cell_type": "markdown",
   "source": [
    "### 92. 反转链表 II\n",
    "\n",
    "[力扣](https://leetcode.cn/problems/reverse-linked-list-ii/)"
   ],
   "metadata": {
    "collapsed": false
   }
  },
  {
   "cell_type": "code",
   "execution_count": 30,
   "outputs": [],
   "source": [
    "# Definition for singly-linked list.\n",
    "# class ListNode(object):\n",
    "#     def __init__(self, val=0, next=None):\n",
    "#         self.val = val\n",
    "#         self.next = next\n",
    "class Solution(object):\n",
    "    def reverseBetween(self, head, left, right):\n",
    "        \"\"\"\n",
    "        :type head: ListNode\n",
    "        :type left: int\n",
    "        :type right: int\n",
    "        :rtype: ListNode\n",
    "        \"\"\"\n",
    "        # 1. Find left\n",
    "        prev_left, cur_left = None, head\n",
    "        l, r = left, right\n",
    "        while cur_left and l > 1:\n",
    "            prev_left = cur_left\n",
    "            cur_left = cur_left.next\n",
    "            l -= 1\n",
    "            r -= 1\n",
    "\n",
    "        if cur_left is None:\n",
    "            return head\n",
    "\n",
    "        # 2. Left is not None, than start inversion\n",
    "        prev, cur, nex = prev_left, cur_left, cur_left.next\n",
    "        while cur and r >= 1:\n",
    "            nex = cur.next\n",
    "            cur.next = prev\n",
    "            prev, cur = cur, nex\n",
    "            r -= 1\n",
    "\n",
    "        # prev 指向 right, cur_left 现在是 尾部\n",
    "        cur_left.next = cur\n",
    "        if left == 1:\n",
    "            return prev\n",
    "        else:\n",
    "            prev_left.next = prev\n",
    "            return head"
   ],
   "metadata": {
    "collapsed": false
   }
  },
  {
   "cell_type": "markdown",
   "source": [
    "## 739. 每日温度\n",
    "\n",
    "[力扣](https://leetcode.cn/problems/daily-temperatures/)\n",
    "\n",
    "方法一: 栈"
   ],
   "metadata": {
    "collapsed": false
   }
  },
  {
   "cell_type": "code",
   "execution_count": 31,
   "outputs": [],
   "source": [
    "class Solution(object):\n",
    "    def dailyTemperatures(self, temperatures):\n",
    "        \"\"\"\n",
    "        :type temperatures: List[int]\n",
    "        :rtype: List[int]\n",
    "        \"\"\"\n",
    "        stack = [[0,temperatures[0]]]\n",
    "        answer = [0] * len(temperatures)\n",
    "        for i, temp in enumerate(temperatures):\n",
    "            if len(stack) == 0 or temp <= stack[-1][1]:\n",
    "                stack.append([i, temp])\n",
    "            else:  # 更高的气温出现了\n",
    "                while len(stack)>0 and stack[-1][1] < temp:\n",
    "                    j, _ = stack.pop()\n",
    "                    answer[j] = (i-j)\n",
    "                stack.append([i, temp])\n",
    "        return answer"
   ],
   "metadata": {
    "collapsed": false
   }
  },
  {
   "cell_type": "markdown",
   "source": [
    "### 方法二: 动态规划"
   ],
   "metadata": {
    "collapsed": false
   }
  },
  {
   "cell_type": "markdown",
   "source": [
    "## 28. 实现 strStr()\n",
    "\n",
    "[力扣](https://leetcode-cn.com/problems/implement-strstr/)\n",
    "\n",
    "### 方法一: 暴力法"
   ],
   "metadata": {
    "collapsed": false
   }
  },
  {
   "cell_type": "code",
   "execution_count": 32,
   "outputs": [],
   "source": [
    "class Solution(object):\n",
    "    def strStr(self, haystack, needle):\n",
    "        \"\"\"\n",
    "        :type haystack: str\n",
    "        :type needle: str\n",
    "        :rtype: int\n",
    "        \"\"\"\n",
    "        m, n = len(haystack), len(needle)\n",
    "        if m < n:\n",
    "            return -1\n",
    "\n",
    "        for i in range(m-n+1):\n",
    "            # i = 0...m-n\n",
    "            solved = True\n",
    "            for j in range(n):\n",
    "                # j = 0...n-1\n",
    "                if haystack[i+j] != needle[j]:\n",
    "                    solved = False\n",
    "            # 匹配成功\n",
    "            if solved:\n",
    "                return i\n",
    "        return -1"
   ],
   "metadata": {
    "collapsed": false
   }
  },
  {
   "cell_type": "markdown",
   "source": [
    "### 方法二: KMP\n",
    "\n",
    "参考知乎“如何更好地理解和掌握KMP算法”的[回答](https://www.zhihu.com/question/21923021/answer/281346746)\n",
    "\n",
    "KMP 算法的核心思想是：**如果存在公共前后缀，那么就可以跳步匹配**，实现这一思想的核心在于 PMT 表(Partial Match Table)。\n",
    "\n",
    "因此，理解 KMP 算法，也就是需要理解两个问题：\n",
    "\n",
    "1. 什么是PMT 表\n",
    "2. 如何利用 PMT 表进行匹配\n",
    "\n",
    "首先，我们看看什么是 PMT 表。\n",
    "\n",
    "#### 1. 什么是 PMT 表\n",
    "\n",
    "PMT 表的含义是：对于字符串的每一个位置，从 0 到当前位置的子串的最长公共前后缀的长度。\n",
    "\n",
    "假设我们有一个字符串 `abababca`，那么它的 PMT 表如下：\n",
    "\n",
    "![](../imgs/PMT.png)\n",
    "\n",
    "例如 index 为 2 的位置，对应的子串是 `aba`，它的最长公共前后缀是 `a`，长度为 1。而 index 为 5 的位置，对应的子串是 `ababa`，它的最长公共前后缀是 `aba`，长度为 3。\n",
    "\n",
    "#### 2. 如何利用 PMT 表进行匹配\n",
    "\n",
    "abcdabcdcababab\n",
    "\n",
    "abcdabcdab\n",
    "\n",
    "i 不动, j 从 index 变化到 pmt 位置与 i 进行比较\n",
    "\n",
    "i = 0...n-1\n",
    "j=0\n",
    "hay[i] 与 needle[j] 匹配：\n",
    "若匹配成功：\n",
    "  则 i+=1, j += 1\n",
    "若匹配失败：\n",
    "  则 j = next[j]\n",
    "  若 j == -1, 则 continue"
   ],
   "metadata": {
    "collapsed": false
   }
  },
  {
   "cell_type": "code",
   "execution_count": 33,
   "outputs": [],
   "source": [
    "class Solution(object):\n",
    "    def strStr(self, haystack, needle):\n",
    "        \"\"\"\n",
    "        :type haystack: str\n",
    "        :type needle: str\n",
    "        :rtype: int\n",
    "        \"\"\"\n",
    "        m, n = len(haystack), len(needle)\n",
    "        if m < n:\n",
    "            return -1\n",
    "\n",
    "        # a b c a b a b a\n",
    "        # 构建 next 数组\n",
    "        pmt = [0] * n\n",
    "        for i in range(1, n):\n",
    "            # calculate pmt[i]\n",
    "            last_pmt = pmt[i-1]\n",
    "            if needle[last_pmt] == needle[i]:\n",
    "                pmt[i] = pmt[i-1] + 1\n",
    "            else:\n",
    "                pass\n",
    "\n",
    "\n",
    "        # 利用 next 数组进行匹配\n",
    "        i, j = 0, 0\n",
    "        while i<m and j<n:\n",
    "            if j==-1 or haystack[i]==needle[j]:\n",
    "                i += 1\n",
    "                j += 1\n",
    "            else:\n",
    "                j = next[j]\n",
    "\n",
    "        if j == n:\n",
    "            return i-j\n",
    "        else:\n",
    "            return -1\n"
   ],
   "metadata": {
    "collapsed": false
   }
  },
  {
   "cell_type": "markdown",
   "source": [
    "## 50. Pow(x, n)\n",
    "\n",
    "[力扣](https://leetcode-cn.com/problems/powx-n/)"
   ],
   "metadata": {
    "collapsed": false
   }
  },
  {
   "cell_type": "markdown",
   "source": [
    "**思路**\n",
    "\n",
    "先算出 `powers` 数组, 也就是需要的 $[x^0, x^1, x^2, ...]$ 数组\n",
    "然后再基于这个数组去算。"
   ],
   "metadata": {
    "collapsed": false
   }
  },
  {
   "cell_type": "code",
   "execution_count": 34,
   "outputs": [],
   "source": [
    "class Solution(object):\n",
    "    def myPow(self, x, n):\n",
    "        \"\"\"\n",
    "        :type x: float\n",
    "        :type n: int\n",
    "        :rtype: float\n",
    "        \"\"\"\n",
    "        # 基础情况\n",
    "        if n == 0:\n",
    "            return 1\n",
    "\n",
    "        is_neg = n < 0\n",
    "        abs_n = n if n >= 0 else -n\n",
    "\n",
    "        res = 1\n",
    "        i = 0\n",
    "        powers = [1, x]\n",
    "        while i < abs_n:\n",
    "            if i == 0:\n",
    "                res *= x\n",
    "                i += 1\n",
    "            else:  # i > 0\n",
    "                if i * 2 <= abs_n:\n",
    "                    res *= res\n",
    "                    i = i*2\n",
    "                    powers.append(res)\n",
    "                else:  # 进入收尾阶段，最大的 power 已经算出来了\n",
    "                    j = len(powers)-2\n",
    "                    i_inc = i // 2\n",
    "                    while i < abs_n:\n",
    "                        if i+i_inc>abs_n:\n",
    "                            j = j-1\n",
    "                            i_inc = i_inc // 2\n",
    "                            continue\n",
    "                        # i+i_inc<=abs_n\n",
    "                        res *= powers[j]\n",
    "                        i += i_inc\n",
    "\n",
    "        return 1./res if is_neg else res\n"
   ],
   "metadata": {
    "collapsed": false
   }
  },
  {
   "cell_type": "markdown",
   "source": [
    "## 有效三角形的个数\n",
    "\n",
    "[力扣](https://leetcode-cn.com/problems/valid-triangle-number/)"
   ],
   "metadata": {
    "collapsed": false
   }
  },
  {
   "cell_type": "markdown",
   "source": [
    "**思路**\n",
    "\n",
    "排序，双指针"
   ],
   "metadata": {
    "collapsed": false
   }
  },
  {
   "cell_type": "code",
   "execution_count": 35,
   "outputs": [],
   "source": [
    "class Solution(object):\n",
    "    def triangleNumber(self, nums):\n",
    "        \"\"\"\n",
    "        :type nums: List[int]\n",
    "        :rtype: int\n",
    "        \"\"\"\n",
    "        num_tris, n = 0, len(nums)\n",
    "        nums.sort()\n",
    "\n",
    "        for i in range(n-2):\n",
    "            if nums[i] == 0:\n",
    "                continue\n",
    "            k = i + 2  # k 是第一个不能组成三角形的下标, 范围: i+2...n\n",
    "            for j in range(i+1, n-1):\n",
    "                while k<n and nums[i]+nums[j]>nums[k]:\n",
    "                    k += 1\n",
    "                num_tris += (k-j-1)  # e.g. 2, 2, 3, 3, i=0, j=1, 共有 2 种, k=4, k-j-1 才对\n",
    "        return num_tris"
   ],
   "metadata": {
    "collapsed": false
   }
  },
  {
   "cell_type": "markdown",
   "source": [
    "稍微改变写法, 提高效率\n",
    "\n",
    "给定 right 和 mid, 让 left 向右边凑。这种做法利用了: nums[left] + nums[middle] > nums[right] 的对称性！\n",
    "\n",
    "我们应当选择 `left` 和 `middle` 作为双指针, 才可以利用对称性！！\n",
    "\n",
    "AC 时间从 1000 ms 骤降至 500 ms"
   ],
   "metadata": {
    "collapsed": false
   }
  },
  {
   "cell_type": "code",
   "execution_count": 36,
   "outputs": [],
   "source": [
    "class Solution(object):\n",
    "    def triangleNumber(self, nums):\n",
    "        nums.sort()\n",
    "        n = len(nums)\n",
    "        res = 0\n",
    "        for right in range(2, n):\n",
    "            left = 0\n",
    "            mid = right - 1\n",
    "            while left < mid:\n",
    "                if nums[left] + nums[mid] > nums[right]:\n",
    "                    res += mid - left\n",
    "                    mid -= 1\n",
    "                else:\n",
    "                    left += 1\n",
    "        return res"
   ],
   "metadata": {
    "collapsed": false
   }
  },
  {
   "cell_type": "markdown",
   "source": [
    "## 罗马转数字\n",
    "\n",
    "[力扣 13](https://leetcode.cn/problems/roman-to-integer/)"
   ],
   "metadata": {
    "collapsed": false
   }
  },
  {
   "cell_type": "markdown",
   "source": [
    "### 方法一: 使用优先列表比对\n",
    "\n",
    "![](../imgs/13_naive.png)"
   ],
   "metadata": {
    "collapsed": false
   }
  },
  {
   "cell_type": "code",
   "execution_count": 37,
   "outputs": [],
   "source": [
    "class Solution(object):\n",
    "    def romanToInt(self, s):\n",
    "        \"\"\"\n",
    "        :type s: str\n",
    "        :rtype: int\n",
    "        \"\"\"\n",
    "        rom_2_num = (\n",
    "            ['IV',   4], ['IX',   9], ['I',   1], ['V',   5],\n",
    "            ['XL',  40], ['XC',  90], ['X',  10],['L',  50],\n",
    "            ['CD', 400], ['CM', 900], ['C', 100],['D', 500],\n",
    "            ['M', 1000]\n",
    "        )\n",
    "\n",
    "\n",
    "\n",
    "        i, n, res = 0, len(s), 0\n",
    "        while i < n:\n",
    "            for rom, val in rom_2_num:\n",
    "                if len(rom) <= n-i and rom == s[i:i+len(rom)]:\n",
    "                    res += val\n",
    "                    i += len(rom)\n",
    "                    break\n",
    "        return res"
   ],
   "metadata": {
    "collapsed": false
   }
  },
  {
   "cell_type": "markdown",
   "source": [
    "### 方法二: 直接求值\n",
    "\n",
    "![](../imgs/13.png)"
   ],
   "metadata": {
    "collapsed": false
   }
  },
  {
   "cell_type": "code",
   "execution_count": 38,
   "outputs": [],
   "source": [
    "class Solution(object):\n",
    "    def romanToInt(self, s):\n",
    "        \"\"\"\n",
    "        :type s: str\n",
    "        :rtype: int\n",
    "        \"\"\"\n",
    "        rom_2_val = {\n",
    "            'I':1, 'V':5, 'IV':4, 'X':10, 'IX': 9,\n",
    "            'L':50, 'C': 100, 'XL': 40, 'XC': 90,\n",
    "            'D':500, 'M':1000, 'CD':400, 'CM':900\n",
    "        }\n",
    "\n",
    "        match = {'I': ['V', 'X'], 'X': ['L', 'C'], 'C': ['D', 'M']}\n",
    "\n",
    "        i, res, n, val = 0, 0, len(s), 0\n",
    "\n",
    "        while i < n:\n",
    "            if (s[i] in match) and i+1<n:\n",
    "                if s[i+1] in match[s[i]]:\n",
    "                    val = rom_2_val[s[i:i+2]]\n",
    "                    i += 2\n",
    "                    res += val\n",
    "                    continue\n",
    "            val = rom_2_val[s[i]]\n",
    "            i += 1\n",
    "            res += val\n",
    "        return res"
   ],
   "metadata": {
    "collapsed": false
   }
  },
  {
   "cell_type": "markdown",
   "source": [
    "## 数字转罗马\n",
    "\n",
    "[力扣 12](https://leetcode-cn.com/problems/integer-to-roman/)\n",
    "\n",
    "## 方法一: 优先列表比对\n",
    "\n",
    "![](../imgs/12.png)"
   ],
   "metadata": {
    "collapsed": false
   }
  },
  {
   "cell_type": "code",
   "execution_count": 39,
   "outputs": [],
   "source": [
    "class Solution(object):\n",
    "    romans = [\n",
    "        ['I', 'V', 'X'],\n",
    "        ['X', 'L', 'C'],\n",
    "        ['C', 'D', 'M'],\n",
    "        ['M', 'M', 'M']\n",
    "    ]\n",
    "\n",
    "    def intToRoman(self, num):\n",
    "        \"\"\"\n",
    "        :type num: int\n",
    "        :rtype: str\n",
    "        \"\"\"\n",
    "        res = \"\"\n",
    "        i = 0\n",
    "        while num > 0:\n",
    "            digit = num % 10\n",
    "            num = num // 10\n",
    "            res = self.digitToRoman(digit, self.romans[i]) + res\n",
    "            i+=1\n",
    "        return res\n",
    "\n",
    "    def digitToRoman(self, digit, roms):\n",
    "        # roms = ['I', 'V', 'X'], digit = 0...9\n",
    "        if digit < 4:\n",
    "            return roms[0] * digit\n",
    "        elif digit == 4:\n",
    "            return roms[0] + roms[1]\n",
    "        elif digit == 5:\n",
    "            return roms[1]\n",
    "        elif digit < 9:\n",
    "            return roms[1] + (roms[0] * (digit-5))\n",
    "        else:\n",
    "            return roms[0] + roms[2]"
   ],
   "metadata": {
    "collapsed": false
   }
  },
  {
   "cell_type": "markdown",
   "source": [
    "### 解法二: 使用哈希表\n",
    "\n",
    "**注意**: 从 Python 3.6 之后, 字典的顺序是有序的, 但是在 Python 3.5 之前, 字典的顺序是无序的。因此, 该解法只试用于 Python 3.6 之后, i.e. Leetcode 的 Python3 模式。\n",
    "\n",
    "Python3 的字典是由 hashTable 来实现的, 相比于 Python2, 引入了额外的 indices 结构, 因此会造成额外的空间开销。\n",
    "\n",
    "![](../imgs/12_hashtable.png)"
   ],
   "metadata": {
    "collapsed": false
   }
  },
  {
   "cell_type": "code",
   "execution_count": 40,
   "outputs": [],
   "source": [
    "class Solution:\n",
    "    def intToRoman(self, num: int) -> str:\n",
    "        # 使用哈希表，按照从大到小顺序排列\n",
    "        hashmap = {1000:'M', 900:'CM', 500:'D', 400:'CD', 100:'C', 90:'XC', 50:'L', 40:'XL', 10:'X', 9:'IX', 5:'V', 4:'IV', 1:'I'}\n",
    "        res = ''\n",
    "        for key in hashmap:\n",
    "            if num // key != 0:\n",
    "                count = num // key  # 比如输入4000，count 为 4\n",
    "                res += hashmap[key] * count\n",
    "                num %= key\n",
    "        return res"
   ],
   "metadata": {
    "collapsed": false
   }
  },
  {
   "cell_type": "markdown",
   "source": [
    "## 外观数列\n",
    "\n",
    "[力扣 38](https://leetcode-cn.com/problems/count-and-say/)\n",
    "\n",
    "![](../imgs/38_naive.png)"
   ],
   "metadata": {
    "collapsed": false
   }
  },
  {
   "cell_type": "code",
   "execution_count": 41,
   "outputs": [],
   "source": [
    "class Solution:\n",
    "    def countAndSay(self, n: int) -> str:\n",
    "        s = \"1\"\n",
    "        while n > 1:\n",
    "            # 1. 构建 num_count\n",
    "            num_count = []\n",
    "            i, num, count = 1, s[0], 1\n",
    "            while i<=len(s):\n",
    "                while i<len(s) and s[i]==s[i-1]:\n",
    "                    count += 1\n",
    "                    i += 1\n",
    "                num_count.append([num, count])\n",
    "                if i >= len(s):\n",
    "                    break\n",
    "                num, count = s[i], 1\n",
    "                i += 1\n",
    "            # 2. 根据 num_count 构建 s\n",
    "            s = \"\".join([str(pair[1]) + pair[0]  for pair in num_count])\n",
    "            n -= 1\n",
    "        return s"
   ],
   "metadata": {
    "collapsed": false
   }
  },
  {
   "cell_type": "markdown",
   "source": [
    "### 官方题解: 更整洁\n",
    "\n",
    "![](../imgs/38.png)"
   ],
   "metadata": {
    "collapsed": false
   }
  },
  {
   "cell_type": "code",
   "execution_count": 42,
   "outputs": [],
   "source": [
    "def countAndSay(self, n: int) -> str:\n",
    "        prev = \"1\"\n",
    "        for i in range(n-1):\n",
    "            curr = \"\"\n",
    "            pos = 0\n",
    "            start = 0\n",
    "            while pos < len(prev):\n",
    "                while pos < len(prev) and prev[pos] == prev[start]:\n",
    "                    pos += 1\n",
    "                curr += str(pos - start) + prev[start]\n",
    "                start = pos\n",
    "            prev = curr\n",
    "        return prev"
   ],
   "metadata": {
    "collapsed": false
   }
  },
  {
   "cell_type": "markdown",
   "source": [
    "## 加一\n",
    "\n",
    "[力扣 66](https://leetcode-cn.com/problems/plus-one/)\n",
    "\n",
    "![](../imgs/66.png)"
   ],
   "metadata": {
    "collapsed": false
   }
  },
  {
   "cell_type": "code",
   "execution_count": 44,
   "outputs": [],
   "source": [
    "class Solution:\n",
    "    def plusOne(self, digits):\n",
    "        carry,already_add = 0, False\n",
    "        for i in range(len(digits)-1, -1, -1):\n",
    "            digit = digits[i] + carry\n",
    "            if not already_add:\n",
    "                digit += 1\n",
    "                already_add = True\n",
    "            carry = digit // 10\n",
    "            digits[i] = digit % 10\n",
    "\n",
    "        if carry > 0:\n",
    "            digits = [carry] + digits\n",
    "\n",
    "        return digits\n"
   ],
   "metadata": {
    "collapsed": false
   }
  }
 ],
 "metadata": {
  "kernelspec": {
   "display_name": "Python 3",
   "language": "python",
   "name": "python3"
  },
  "language_info": {
   "codemirror_mode": {
    "name": "ipython",
    "version": 2
   },
   "file_extension": ".py",
   "mimetype": "text/x-python",
   "name": "python",
   "nbconvert_exporter": "python",
   "pygments_lexer": "ipython2",
   "version": "2.7.6"
  }
 },
 "nbformat": 4,
 "nbformat_minor": 0
}
