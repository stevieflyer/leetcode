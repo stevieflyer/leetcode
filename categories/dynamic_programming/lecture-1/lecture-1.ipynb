{
 "cells": [
  {
   "cell_type": "markdown",
   "source": [
    "# Lecture 1 动态规划"
   ],
   "metadata": {
    "collapsed": false
   }
  },
  {
   "cell_type": "markdown",
   "source": [
    "## 什么是动态规划\n",
    "\n",
    "动态规划核心思想: **通过存储中间结果, 减少递归程序中的重复计算, 从而提高程序的效率**。\n",
    "\n",
    "重点:\n",
    "\n",
    "1. 观察变化，抽象出 **状态空间**\n",
    "2. 思考平凡解, 确定 dp base\n",
    "3. 多做简单尝试，思考状态转移方程, 确定 dp sweep"
   ],
   "metadata": {
    "collapsed": false
   }
  },
  {
   "cell_type": "markdown",
   "source": [
    "e.g. 斐波那契数列\n",
    "\n",
    "下面将给出两个版本的斐波那契数列的实现, 第一个版本是暴力递归实现, 第二个版本是存储中间结果的递归实现。"
   ],
   "metadata": {
    "collapsed": false
   }
  },
  {
   "cell_type": "markdown",
   "source": [
    "版本一: Fibbiacci数列的递归实现\n",
    "\n",
    "以下的这个实现没有存储任何结果, 会导致重复计算, 效率低下。"
   ],
   "metadata": {
    "collapsed": false
   }
  },
  {
   "cell_type": "code",
   "execution_count": 4,
   "metadata": {
    "collapsed": true
   },
   "outputs": [],
   "source": [
    "# 暴力递归实现\n",
    "# 时间复杂度: O(2^n)\n",
    "def fib(n):\n",
    "    if n == 1 or n == 2:\n",
    "        return 1\n",
    "    return fib(n-1) + fib(n-2)"
   ]
  },
  {
   "cell_type": "code",
   "execution_count": 17,
   "outputs": [
    {
     "name": "stdout",
     "output_type": "stream",
     "text": [
      "CPU times: total: 1.78 s\n",
      "Wall time: 1.79 s\n"
     ]
    }
   ],
   "source": [
    "%%time\n",
    "fib(35);"
   ],
   "metadata": {
    "collapsed": false
   }
  },
  {
   "cell_type": "markdown",
   "source": [
    "第二个版本的实现, 存储了中间结果。\n",
    "\n",
    "相比于 version 1, version 2 的时间复杂度大大降低。但是存储的数据结构是list, 会导致存储空间的浪费。\n",
    "\n",
    "因此动态规划: 以 **空间换时间**"
   ],
   "metadata": {
    "collapsed": false
   }
  },
  {
   "cell_type": "code",
   "execution_count": 11,
   "outputs": [],
   "source": [
    "# 递归实现, 存储中间结果\n",
    "# 时间复杂度: O(n)\n",
    "def fib_dp(n):\n",
    "    fib_dict = {}\n",
    "    fib_dict[1] = 1\n",
    "    fib_dict[2] = 1\n",
    "    for i in range(3, n+1):\n",
    "        fib_dict[i] = fib_dict[i-1] + fib_dict[i-2]\n",
    "    return fib_dict[n]"
   ],
   "metadata": {
    "collapsed": false,
    "pycharm": {
     "name": "#%%a'm\n"
    }
   }
  },
  {
   "cell_type": "code",
   "execution_count": 18,
   "outputs": [
    {
     "name": "stdout",
     "output_type": "stream",
     "text": [
      "CPU times: total: 15.6 ms\n",
      "Wall time: 1e+03 µs\n"
     ]
    }
   ],
   "source": [
    "%%time\n",
    "fib_dp(3500);"
   ],
   "metadata": {
    "collapsed": false
   }
  },
  {
   "cell_type": "markdown",
   "source": [
    "### 题目一:\n",
    "\n",
    "![ex1](./imgs/q1.png)"
   ],
   "metadata": {
    "collapsed": false
   }
  },
  {
   "cell_type": "markdown",
   "source": [
    "我们首先来看一下暴力递归的实现, 代码如下:\n",
    "\n",
    "**version 1**: 暴力递归"
   ],
   "metadata": {
    "collapsed": false
   }
  },
  {
   "cell_type": "code",
   "execution_count": 40,
   "outputs": [
    {
     "data": {
      "text/plain": "8"
     },
     "execution_count": 40,
     "metadata": {},
     "output_type": "execute_result"
    }
   ],
   "source": [
    "def wander_count(N, begin, dest, steps):\n",
    "    return wander_count_recursive(N, begin, dest, steps)\n",
    "\n",
    "def wander_count_recursive(N, begin, dest, steps):\n",
    "    if steps == 0:\n",
    "        return dest == begin\n",
    "    if begin == 1:\n",
    "        return wander_count_recursive(N, begin+1, dest, steps-1)\n",
    "    if begin == N:\n",
    "        return wander_count_recursive(N, begin-1, dest, steps-1)\n",
    "    return wander_count_recursive(N, begin+1, dest, steps-1) + wander_count_recursive(N, begin-1, dest, steps-1)\n",
    "\n",
    "wander_count(4, 2, 4, 6)"
   ],
   "metadata": {
    "collapsed": false
   }
  },
  {
   "cell_type": "markdown",
   "source": [
    "第一次优化:\n",
    "\n",
    "递归的返回值究竟由哪些参数决定？？ ==> 状态空间选择\n",
    "\n",
    "状态空间 key: (begin, steps)\n",
    "\n",
    "因此 dp 数组的形状应当是: range(begin) x range(steps)\n",
    "\n",
    "**出现重复解的递归可以优化**\n",
    "\n",
    "**version 2**: 第一次优化 **silly cache**\n",
    "\n",
    "又名 **自顶向下的动态规划**, **记忆化搜索**"
   ],
   "metadata": {
    "collapsed": false
   }
  },
  {
   "cell_type": "code",
   "execution_count": 41,
   "outputs": [
    {
     "data": {
      "text/plain": "8"
     },
     "execution_count": 41,
     "metadata": {},
     "output_type": "execute_result"
    }
   ],
   "source": [
    "def wander_count_v2(N, begin, dest, steps):\n",
    "    # begin: 1, 2, ..., N\n",
    "    # steps: 0, 1, ..., steps\n",
    "    # dp[i][j] means begin=i+1, steps=j\n",
    "    dp = [[-1] * (steps+1) for _ in range(N)]\n",
    "    return wander_count_recursive_v2(N, begin, dest, steps, dp)\n",
    "\n",
    "def wander_count_recursive_v2(N, begin, dest, steps, dp):\n",
    "    # 如果已经有结果，那么直接返回\n",
    "    if dp[begin-1][steps] != -1:\n",
    "        return dp[begin-1][steps]\n",
    "    # 否则, 计算结果并且存在 dp 里\n",
    "    if steps == 0:\n",
    "        ans = dest == begin\n",
    "    elif begin == 1:\n",
    "        ans = wander_count_recursive_v2(N, begin+1, dest, steps-1, dp)\n",
    "    elif begin == N:\n",
    "        ans = wander_count_recursive_v2(N, begin-1, dest, steps-1, dp)\n",
    "    else:\n",
    "        ans = wander_count_recursive_v2(N, begin+1, dest, steps-1, dp) + wander_count_recursive_v2(N, begin-1, dest, steps-1, dp)\n",
    "    dp[begin-1][steps] = ans\n",
    "    return ans\n",
    "\n",
    "wander_count_v2(4, 2, 4, 6)"
   ],
   "metadata": {
    "collapsed": false
   }
  },
  {
   "cell_type": "markdown",
   "source": [],
   "metadata": {
    "collapsed": false
   }
  },
  {
   "cell_type": "markdown",
   "source": [
    "第二次优化\n",
    "\n",
    "我们不再简单地从树顶开始搜索，而是考虑 dynamic。"
   ],
   "metadata": {
    "collapsed": false
   }
  },
  {
   "cell_type": "code",
   "execution_count": 42,
   "outputs": [],
   "source": [
    "# 简单定义一个工具函数, 用于打印二维数组\n",
    "def print_2d_array(arr_2d):\n",
    "    for row in arr_2d:\n",
    "        row = [str(el) for el in row]\n",
    "        print(\", \".join(row))"
   ],
   "metadata": {
    "collapsed": false
   }
  },
  {
   "cell_type": "code",
   "execution_count": 43,
   "outputs": [
    {
     "name": "stdout",
     "output_type": "stream",
     "text": [
      "0, -1, -1, -1, -1, -1, -1\n",
      "0, -1, -1, -1, -1, -1, -1\n",
      "0, -1, -1, -1, -1, -1, -1\n",
      "1, -1, -1, -1, -1, -1, -1\n",
      "0, 0, 0, 1, 0, 3, 0\n",
      "0, 0, 1, 0, 3, 0, 8\n",
      "0, 1, 0, 2, 0, 5, 0\n",
      "1, 0, 1, 0, 2, 0, 5\n"
     ]
    },
    {
     "data": {
      "text/plain": "8"
     },
     "execution_count": 43,
     "metadata": {},
     "output_type": "execute_result"
    }
   ],
   "source": [
    "def wander_count_v3(N, begin, dest, steps):\n",
    "    # begin: 1, 2, ..., N\n",
    "    # steps: 0, 1, ..., steps\n",
    "    # dp[i][j] means begin=i+1, steps=j\n",
    "    dp = [[-1] * (steps+1) for _ in range(N)]\n",
    "    # dp base, 对应于原始递归中的 recursive base\n",
    "    for i in range(N):\n",
    "        dp[i][0] = int(i == dest-1)\n",
    "\n",
    "    print_2d_array(dp)\n",
    "    # dp sweep\n",
    "    for k in range(1, steps+1):\n",
    "        # # version 1: 循环内判断\n",
    "        # for i in range(N):\n",
    "        #     # 计算 dp[i][k]\n",
    "        #     ans = 0\n",
    "        #     if i > 0:\n",
    "        #         ans += dp[i-1][k-1]\n",
    "        #     if i < N-1:\n",
    "        #         ans += dp[i+1][k-1]\n",
    "        #     dp[i][k] = ans\n",
    "        # version 2: 循环外判断\n",
    "        dp[0][k] = dp[1][k-1]\n",
    "        for i in range(1, N-1):\n",
    "            dp[i][k] = dp[i-1][k-1] + dp[i+1][k-1]\n",
    "        dp[N-1][k] = dp[N-2][k-1]\n",
    "    print_2d_array(dp)\n",
    "\n",
    "    return dp[begin-1][steps]\n",
    "\n",
    "wander_count_v3(4, 2, 4, 6)"
   ],
   "metadata": {
    "collapsed": false
   }
  },
  {
   "cell_type": "markdown",
   "source": [
    "### 题目三\n",
    "\n",
    "![](./imgs/q2.png)"
   ],
   "metadata": {
    "collapsed": false
   }
  },
  {
   "cell_type": "code",
   "execution_count": 88,
   "outputs": [
    {
     "data": {
      "text/plain": "150"
     },
     "execution_count": 88,
     "metadata": {},
     "output_type": "execute_result"
    }
   ],
   "source": [
    "arr = [10, 100, 20, 50]\n",
    "\n",
    "def win_game(arr):\n",
    "    return max(win_game_recursive(arr, 0, len(arr)-1, True), win_game_recursive(arr, 0, len(arr)-1, False))\n",
    "\n",
    "def win_game_recursive(arr, start, end, first):\n",
    "    # recursive base\n",
    "    if start == end:\n",
    "        return arr[start] if first else 0\n",
    "\n",
    "    # recursive update\n",
    "    if first:\n",
    "        return max(win_game_recursive(arr, start+1, end, not first) + arr[start], win_game_recursive(arr, start, end-1, not first) + arr[end])\n",
    "    else:\n",
    "        return min(win_game_recursive(arr, start+1, end, not first), win_game_recursive(arr, start, end-1, not first))\n",
    "win_game(arr)"
   ],
   "metadata": {
    "collapsed": false
   }
  },
  {
   "cell_type": "markdown",
   "source": [
    "改写成动态规划"
   ],
   "metadata": {
    "collapsed": false
   }
  },
  {
   "cell_type": "code",
   "execution_count": 86,
   "outputs": [
    {
     "data": {
      "text/plain": "150"
     },
     "execution_count": 86,
     "metadata": {},
     "output_type": "execute_result"
    }
   ],
   "source": [
    "def win_game(arr):\n",
    "    # dp[start][end][first]\n",
    "    dp = [[[-1] * 2 for _ in range(len(arr))] for _ in range(len(arr))]\n",
    "    # dp base\n",
    "    for i in range(len(arr)):\n",
    "        dp[i][i][1] = arr[i]\n",
    "        dp[i][i][0] = 0\n",
    "    # dp sweep\n",
    "    for i in range(len(arr)-1):\n",
    "        for j in range(len(arr)-i-1):\n",
    "            dp[j][j+i+1][0] = min(dp[j+1][j+i+1][1], dp[j][j+i][1])\n",
    "            dp[j][j+i+1][1] = max(dp[j+1][j+i+1][0] + arr[j], dp[j][j+i][0] + arr[i+j+1])\n",
    "    return dp[0][len(arr)-1][1]\n",
    "\n",
    "win_game(arr)"
   ],
   "metadata": {
    "collapsed": false
   }
  }
 ],
 "metadata": {
  "kernelspec": {
   "display_name": "Python 3",
   "language": "python",
   "name": "python3"
  },
  "language_info": {
   "codemirror_mode": {
    "name": "ipython",
    "version": 2
   },
   "file_extension": ".py",
   "mimetype": "text/x-python",
   "name": "python",
   "nbconvert_exporter": "python",
   "pygments_lexer": "ipython2",
   "version": "2.7.6"
  }
 },
 "nbformat": 4,
 "nbformat_minor": 0
}
