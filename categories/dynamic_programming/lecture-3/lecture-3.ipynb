{
 "cells": [
  {
   "cell_type": "markdown",
   "source": [
    "# Lecture 3 背包问题系列"
   ],
   "metadata": {
    "collapsed": false
   }
  },
  {
   "cell_type": "markdown",
   "source": [
    "## 01背包问题\n",
    "\n",
    "一共有 $N$ 件物品，第 $i$（ $i$ 从 $1$ 开始）件物品的重量为 $w[i]$，价值为 $v[i]$。在总重量不超过背包承载上限 $W$ 的情况下，能够装入背包的最大价值是多少？"
   ],
   "metadata": {
    "collapsed": false
   }
  },
  {
   "cell_type": "markdown",
   "source": [
    "状态空间: $(n, C), n = 1, 2, ... N, C = 0, ..., C$"
   ],
   "metadata": {
    "collapsed": false
   }
  },
  {
   "cell_type": "code",
   "execution_count": 23,
   "outputs": [],
   "source": [
    "def knakpack_01(w, v, W, ret_items=False):\n",
    "    \"\"\"\n",
    "    Use dp to solve the 0-1 knapsack problem\n",
    "\n",
    "    :param w: (list<int>) the weight of each item\n",
    "    :param v: (list<int>) the value of each item\n",
    "    :param W: (int) the capacity of the knapsack\n",
    "    :return: (int) the maximum value of the knapsack\n",
    "    \"\"\"\n",
    "    N = len(w)\n",
    "    # dp[i][j] represents the maximum value of the knapsack with capacity j and start selecting from ith item, we finally want dp[0][W]\n",
    "    dp = [[0]*(W+1) for _ in range(N)] # shape (N, W+1)\n",
    "\n",
    "    # dp init, calc dp[N-1][*]\n",
    "    for capacity in range(w[N-1], W+1):\n",
    "        dp[N-1][capacity] = v[N-1]\n",
    "\n",
    "    # dp sweep, from N-2 to 0\n",
    "    for i in range(N-2, -1, -1):\n",
    "        for capacity in range(W+1):\n",
    "            dp[i][capacity] = dp[i+1][capacity]\n",
    "            if w[i] <= capacity:\n",
    "                dp[i][capacity] = max(dp[i][capacity], dp[i+1][capacity-w[i]]+v[i])\n",
    "\n",
    "    if ret_items:\n",
    "        items= knakpack_path(w, dp)\n",
    "        return dp[0][W], items\n",
    "\n",
    "    return dp[0][W]\n",
    "\n",
    "def knakpack_path(w, dp):\n",
    "    \"\"\"\n",
    "    Reconstruction the list of items from the dp table\n",
    "\n",
    "    :param w:\n",
    "    :param dp: (list<list<int>>) the dp table, shape: (N, W+1)\n",
    "    :return: (list<int>) the path of the knapsack\n",
    "    \"\"\"\n",
    "    N, C = len(dp), len(dp[0])-1\n",
    "    items = []\n",
    "    for i in range(N):\n",
    "        if i == N-1 and dp[i][C] != 0:\n",
    "            items.append(N-1)\n",
    "            break\n",
    "        if dp[i][C] != dp[i+1][C]:\n",
    "            C -= w[i]\n",
    "            items.append(i)\n",
    "    return items"
   ],
   "metadata": {
    "collapsed": false
   }
  },
  {
   "cell_type": "markdown",
   "source": [
    "01背包-测试数据"
   ],
   "metadata": {
    "collapsed": false
   }
  },
  {
   "cell_type": "code",
   "execution_count": 24,
   "outputs": [
    {
     "data": {
      "text/plain": "(295, [1, 2, 3, 7, 8, 9])"
     },
     "execution_count": 24,
     "metadata": {},
     "output_type": "execute_result"
    }
   ],
   "source": [
    "# # toy dataset\n",
    "# w = (3, 5, 2, 4)\n",
    "# v = (5, 7, 3, 10)\n",
    "# W = 8\n",
    "# expected = 15\n",
    "\n",
    "w = (95, 4, 60, 32, 23, 72, 80, 62, 65, 46)\n",
    "v = (55, 10, 47, 5, 4, 50, 8, 61, 85, 87)\n",
    "W = 269\n",
    "expected = 295\n",
    "\n",
    "best_value, items = knakpack_01(w,v, W, ret_items=True)\n",
    "best_value, items"
   ],
   "metadata": {
    "collapsed": false
   }
  },
  {
   "cell_type": "markdown",
   "source": [
    "## 完全背包问题\n",
    "\n",
    "一共有 $N$ 种物品，第 $i$（ $i$ 从 $1$ 开始）种物品的重量为 $w[i]$，价值为 $v[i]$, 每种物品可以有无限多个。在总重量不超过背包承载上限 $W$ 的情况下，能够装入背包的最大价值是多少？"
   ],
   "metadata": {
    "collapsed": false
   }
  },
  {
   "cell_type": "markdown",
   "source": [
    "**思路 1** 转化为 01 背包\n",
    "\n",
    "我们可以考虑将第 $i$ 种物品复制 $k$ 份，$k = W / w[i]$。这样，我们就将完全背包问题转化为了 01 背包问题。但是空间复杂度较大，最坏的空间复杂度为 $O(N*W*W)$\n",
    "\n",
    "当然，我们可以参考数制的思想， 比如第 $i$ 种物品可以最多装 6 个, 我们不需要创建 6 个相同的 item i, 相反, 我们可以创建 3 个 item i, 一个 item $i*2$, 一个 item $i*4$。这样，我们就可以将空间复杂度降低到 $O(N*W*log(W))$。"
   ],
   "metadata": {
    "collapsed": false
   }
  },
  {
   "cell_type": "markdown",
   "source": [
    "**思路 2** 修改状态转移方程\n",
    "\n",
    "在 01 背包问题中， 状态转移方程为:\n",
    "  $$dp[i][C] = max(dp[i+1][C], v[i] + dp[i+1][C-w[i]])$$\n",
    "前一项代表不选择该物品，后一项代表选择该物品。后一项中的 $i+1$ 表示我们选择了该商品，接下来就只能从后面的物品中选择了。而在完全背包问题中，我们只需要去掉这一限制即可。\n",
    "\n",
    "因此，在完全背包问题中， 状态转移方程为:\n",
    "  $$dp[i][C] = max(dp[i+1][C], v[i] + dp[i][C-w[i]])$$"
   ],
   "metadata": {
    "collapsed": false
   }
  },
  {
   "cell_type": "code",
   "execution_count": 45,
   "outputs": [],
   "source": [
    "def knakpack_complete(w, v, W):\n",
    "    \"\"\"\n",
    "    Use dp to solve the complete knapsack problem\n",
    "\n",
    "    :param w: (list<int>) the weight of each item\n",
    "    :param v: (list<int>) the value of each item\n",
    "    :param W: (int) the capacity of the knapsack\n",
    "    :return: (int) the maximum value of the knapsack\n",
    "    \"\"\"\n",
    "    N = len(w)\n",
    "    # dp[i][j] represents the maximum value of the knapsack with capacity j and start selecting from ith item, we finally want dp[0][W]\n",
    "    dp = [[0]*(W+1) for _ in range(N)] # shape (N, W+1)\n",
    "\n",
    "    # dp init, calc dp[N-1][*]\n",
    "    for capacity in range(w[N-1], W+1):\n",
    "        n_items = capacity // w[N-1]\n",
    "        dp[N-1][capacity] = v[N-1] * n_items\n",
    "\n",
    "    # dp sweep, from N-2 to 0\n",
    "    for i in range(N-2, -1, -1):\n",
    "        for capacity in range(W+1):\n",
    "            dp[i][capacity] = dp[i+1][capacity]\n",
    "            if w[i] <= capacity:\n",
    "                dp[i][capacity] = max(dp[i][capacity], dp[i][capacity-w[i]]+v[i])\n",
    "    return dp[0][W]"
   ],
   "metadata": {
    "collapsed": false
   }
  },
  {
   "cell_type": "markdown",
   "source": [
    "测试完全背包问题"
   ],
   "metadata": {
    "collapsed": false
   }
  },
  {
   "cell_type": "code",
   "execution_count": 47,
   "outputs": [
    {
     "data": {
      "text/plain": "25"
     },
     "execution_count": 47,
     "metadata": {},
     "output_type": "execute_result"
    }
   ],
   "source": [
    "# toy dataset\n",
    "w = (3, 5, 2, 3)\n",
    "v = (5, 7, 6, 7)\n",
    "W = 9\n",
    "expected = 25\n",
    "\n",
    "knakpack_complete(w, v, W, ret_items=False)"
   ],
   "metadata": {
    "collapsed": false,
    "pycharm": {
     "name": "#%%a\n"
    }
   }
  },
  {
   "cell_type": "markdown",
   "source": [
    "## 多重背包问题\n",
    "\n",
    "多重背包（bounded knapsack problem）与前面不同就是每种物品是有限个: 一共有 $N$ 种物品, 第 $i$（$i$ 从 $1$ 开始）种物品的数量为 $n[i]$ ，重量为 $w[i]$, 价值为$v[i]$ .在总重量不超过背包承载上限 $W$ 的情况下，能够装入背包的最大价值是多少？"
   ],
   "metadata": {
    "collapsed": false
   }
  },
  {
   "cell_type": "markdown",
   "source": [
    "**思路 1** 转化为 01 背包\n",
    "\n",
    "类似前面的解法, 我们可以把第 $i$ 种物品复制 $k$ 份，$k = min(n[i], W / w[i])$。这样，我们就将多重背包问题转化为了 01 背包问题。但是空间复杂度较大，最坏的空间复杂度为 $O(N*W*W)$。\n",
    "\n",
    "借鉴数制的思想, 我们可以仅使用 $log(min(n[i], W / w[i]))$ 个物品 $i$, 从而将空间复杂度降低到 $O(N*W*log(W))$。"
   ],
   "metadata": {
    "collapsed": false
   }
  },
  {
   "cell_type": "markdown",
   "source": [
    "**思路 2** 修改状态转移方程\n",
    "\n",
    "对于第 i 个物品, 我们的动作空间在 0-1 背包中只有 2 个动作, 而现在有 $min(n[i], W / w[i])$ 个动作。因此，我们可以将状态转移方程修改为:\n",
    "  $$dp[i][C] = max{(dp[i+1][C], v[i]*k + dp[i+1][C-w[i]*k]), k=1,...}$$"
   ],
   "metadata": {
    "collapsed": false
   }
  },
  {
   "cell_type": "code",
   "execution_count": 68,
   "outputs": [],
   "source": [
    "def knakpack_multi(w, v, n, W):\n",
    "    \"\"\"\n",
    "    Use dp to solve the multi knapsack problem\n",
    "\n",
    "    :param w: (list<int>) the weight of each item\n",
    "    :param v: (list<int>) the value of each item\n",
    "    :param n: (list<int>) the number of each item\n",
    "    :param W: (int) the capacity of the knapsack\n",
    "    :return: (int) the maximum value of the knapsack\n",
    "    \"\"\"\n",
    "    N = len(w)\n",
    "    # dp[i][j] represents the maximum value of the knapsack with capacity j and start selecting from ith item, we finally want dp[0][W]\n",
    "    dp = [[0]*(W+1) for _ in range(N)] # shape (N, W+1)\n",
    "\n",
    "    # dp init, calc dp[N-1][*]\n",
    "    for capacity in range(w[N-1], W+1):\n",
    "        n_avai = capacity // w[N-1]\n",
    "        dp[N-1][capacity] = v[N-1] * min(n_avai, n[N-1])\n",
    "\n",
    "    # dp sweep, from N-2 to 0\n",
    "    for i in range(N-2, -1, -1):\n",
    "        for capacity in range(W+1):\n",
    "            dp[i][capacity] = dp[i+1][capacity]\n",
    "            for k in range(1, min(n[i]+1, capacity//w[i]+1)):\n",
    "                dp[i][capacity] = max(dp[i][capacity], dp[i+1][capacity-w[i]*k]+v[i]*k)\n",
    "    return dp[0][W]"
   ],
   "metadata": {
    "collapsed": false
   }
  },
  {
   "cell_type": "code",
   "execution_count": 70,
   "outputs": [
    {
     "data": {
      "text/plain": "20"
     },
     "execution_count": 70,
     "metadata": {},
     "output_type": "execute_result"
    }
   ],
   "source": [
    "# toy dataset\n",
    "w = (3, 5, 2, 3)\n",
    "v = (5, 7, 6, 7)\n",
    "n = (1, 1, 1, 2)\n",
    "W = 9\n",
    "\n",
    "expected = 20\n",
    "knakpack_multi(w, v, n, W)"
   ],
   "metadata": {
    "collapsed": false
   }
  }
 ],
 "metadata": {
  "kernelspec": {
   "display_name": "Python 3",
   "language": "python",
   "name": "python3"
  },
  "language_info": {
   "codemirror_mode": {
    "name": "ipython",
    "version": 2
   },
   "file_extension": ".py",
   "mimetype": "text/x-python",
   "name": "python",
   "nbconvert_exporter": "python",
   "pygments_lexer": "ipython2",
   "version": "2.7.6"
  }
 },
 "nbformat": 4,
 "nbformat_minor": 0
}
