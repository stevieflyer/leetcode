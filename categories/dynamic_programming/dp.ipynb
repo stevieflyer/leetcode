{
 "cells": [
  {
   "cell_type": "markdown",
   "source": [
    "## 最小代价爬楼梯\n",
    "\n",
    "[力扣 746](https://leetcode-cn.com/problems/min-cost-climbing-stairs/)\n",
    "\n",
    "![](../../imgs/746.png)"
   ],
   "metadata": {
    "collapsed": false
   }
  },
  {
   "cell_type": "code",
   "execution_count": 11,
   "metadata": {
    "collapsed": true
   },
   "outputs": [],
   "source": [
    "class Solution(object):\n",
    "    def minCostClimbingStairs(self, cost):\n",
    "        \"\"\"\n",
    "        :type cost: List[int]\n",
    "        :rtype: int\n",
    "        \"\"\"\n",
    "        n = len(cost)\n",
    "        # dp[i] 代表从第 i 级楼梯向上爬到顶的最小花费, 特别地, dp[n] = 0 用于辅助计算\n",
    "        dp = [0] * (n+1)\n",
    "        dp[n-1] = cost[n-1]\n",
    "        i = n-2\n",
    "        while i>=0:\n",
    "            dp[i] = cost[i] + min(dp[i+1], dp[i+2])\n",
    "            i-=1\n",
    "        return min(dp[0], dp[1])"
   ]
  },
  {
   "cell_type": "markdown",
   "source": [
    "## 不同路径\n",
    "\n",
    "[力扣 62](https://leetcode.cn/problems/unique-paths/)\n",
    "\n",
    "![](../../imgs/62.png)"
   ],
   "metadata": {
    "collapsed": false
   }
  },
  {
   "cell_type": "code",
   "execution_count": 12,
   "outputs": [],
   "source": [
    "class Solution(object):\n",
    "    def uniquePaths(self, m, n):\n",
    "        \"\"\"\n",
    "        :type m: int\n",
    "        :type n: int\n",
    "        :rtype: int\n",
    "        \"\"\"\n",
    "        dp = [[0] * n for _ in range(m)]\n",
    "        for i in range(m):\n",
    "            dp[i][-1] = 1\n",
    "        for j in range(n):\n",
    "            dp[-1][j] = 1\n",
    "        for i in range(m-2, -1, -1):\n",
    "            for j in range(n-2, -1, -1):\n",
    "                dp[i][j] = dp[i+1][j] + dp[i][j+1]\n",
    "        return dp[0][0]"
   ],
   "metadata": {
    "collapsed": false
   }
  },
  {
   "cell_type": "markdown",
   "source": [
    "## 不同路径 II\n",
    "\n",
    "[力扣 63](https://leetcode.cn/problems/unique-paths-ii/)\n",
    "\n",
    "![](../../imgs/63.png)"
   ],
   "metadata": {
    "collapsed": false
   }
  },
  {
   "cell_type": "code",
   "execution_count": 13,
   "outputs": [],
   "source": [
    "class Solution(object):\n",
    "    def uniquePathsWithObstacles(self, obstacleGrid):\n",
    "        \"\"\"\n",
    "        :type obstacleGrid: List[List[int]]\n",
    "        :rtype: int\n",
    "        \"\"\"\n",
    "        m, n = len(obstacleGrid), len(obstacleGrid[0])\n",
    "        dp = [[0] * n for _ in range(m)]\n",
    "\n",
    "        # dp init\n",
    "        for i in range(m-1, -1, -1):\n",
    "            if obstacleGrid[i][-1] > 0:\n",
    "                break\n",
    "            dp[i][-1] = 1\n",
    "\n",
    "        for j in range(n-1, -1, -1):\n",
    "            if obstacleGrid[-1][j] > 0:\n",
    "                break\n",
    "            dp[-1][j] = 1\n",
    "\n",
    "        for i in range(m-2, -1, -1):\n",
    "            for j in range(n-2, -1, -1):\n",
    "                # 赋值 dp[i][j]\n",
    "                if obstacleGrid[i][j] > 0:\n",
    "                    dp[i][j] = 0\n",
    "                    continue\n",
    "                dp[i][j] = dp[i+1][j] + dp[i][j+1]\n",
    "\n",
    "        return dp[0][0]"
   ],
   "metadata": {
    "collapsed": false
   }
  },
  {
   "cell_type": "markdown",
   "source": [
    "## 整数拆分\n",
    "\n",
    "[力扣 343](https://leetcode.cn/problems/integer-break/)"
   ],
   "metadata": {
    "collapsed": false
   }
  },
  {
   "cell_type": "markdown",
   "source": [
    "### Naive DP\n",
    "\n",
    "![](../../imgs/343_naive_dp.png)"
   ],
   "metadata": {
    "collapsed": false
   }
  },
  {
   "cell_type": "code",
   "execution_count": 14,
   "outputs": [],
   "source": [
    "class Solution(object):\n",
    "    def integerBreak(self, n):\n",
    "        \"\"\"\n",
    "        :type n: int\n",
    "        :rtype: int\n",
    "        \"\"\"\n",
    "        # dp[i][j] 意味着: 和为 i 的 j 个数可以达到的最大成绩, 第 0 行和第 0 列闲置不用, i >= j 才有意义\n",
    "        # i == 1...n\n",
    "        # j == 2...n\n",
    "        # dp init\n",
    "        dp = [[0] * (n+1) for _ in range(n+1)]\n",
    "        for i in range(1, n+1):\n",
    "            dp[i][1] = i\n",
    "\n",
    "        # dp sweep\n",
    "        for j in range(2, n+1):\n",
    "            for i in range(1, n+1):\n",
    "                # calculate dp[i][j]\n",
    "                potentials = []\n",
    "                for num in range(1, i+1):\n",
    "                    potentials.append(num * dp[i-num][j-1])\n",
    "                dp[i][j] = max(potentials)\n",
    "\n",
    "        return max(dp[n][2:])"
   ],
   "metadata": {
    "collapsed": false
   }
  },
  {
   "cell_type": "markdown",
   "source": [
    "### Optimized DP\n",
    "\n",
    "因为:\n",
    "\n",
    "如果一个最大的乘积里面包含一个大于或等于4的因数f，那么你可以用 $2$ 和 $f-2$ 来替换它，而不会影响结果的最大值。因为$$2*(f-2)=2f-4>=f$$。所以你永远不需要大于或等于4的因数，只需要用$1$、$2$和$3$这三个因数就可以了。但$1$是很浪费的，只有在$n$等于$2$或$3$时才需要用到。\n",
    "\n",
    "![](../../imgs/343_optimized_dp.png)"
   ],
   "metadata": {
    "collapsed": false
   }
  },
  {
   "cell_type": "code",
   "execution_count": 15,
   "outputs": [],
   "source": [
    "class Solution:\n",
    "    def integerBreak(self, n):\n",
    "        if n <= 3:\n",
    "            return n - 1\n",
    "\n",
    "        dp = [0] * (n + 1)\n",
    "        dp[2] = 1\n",
    "        for i in range(3, n + 1):\n",
    "            dp[i] = max(2 * (i - 2), 2 * dp[i - 2], 3 * (i - 3), 3 * dp[i - 3])\n",
    "\n",
    "        return dp[n]"
   ],
   "metadata": {
    "collapsed": false
   }
  },
  {
   "cell_type": "markdown",
   "source": [
    "## 不同的二叉搜索树\n",
    "\n",
    "[力扣 96](https://leetcode.cn/problems/unique-binary-search-trees/)"
   ],
   "metadata": {
    "collapsed": false
   }
  },
  {
   "cell_type": "code",
   "execution_count": 16,
   "outputs": [],
   "source": [
    "class Solution(object):\n",
    "    def numTrees(self, n):\n",
    "        \"\"\"\n",
    "        :type n: int\n",
    "        :rtype: int\n",
    "        \"\"\"\n",
    "        # dp[i] 代表有 i 个节点的二叉搜索树的个数\n",
    "        # dp init(非常重要~)\n",
    "        dp = [0] * (n + 1)\n",
    "        dp[0] = 1\n",
    "\n",
    "        # dp sweep\n",
    "        for i in range(1, n+1):\n",
    "            # 计算 dp[i], 即二叉树总共有 i 个节点，其中有 (i-1) 个孩子节点\n",
    "            for j in range(i):\n",
    "                # j 代表左子树的节点数目: 0...i-1\n",
    "                # 对应地，右子树节点数目为: i-1-j\n",
    "                dp[i] += dp[j] * dp[i-1-j]\n",
    "\n",
    "        return dp[n]"
   ],
   "metadata": {
    "collapsed": false
   }
  },
  {
   "cell_type": "markdown",
   "source": [
    "## 分割等和子集\n",
    "\n",
    "这道题和 0-1背包问题很类似, 都涉及在一个数组里求子序列和, 并使之满足一定条件。\n",
    "\n",
    "[力扣 416](https://leetcode.cn/problems/partition-equal-subset-sum/)\n",
    "\n",
    "![](../../imgs/416.png)"
   ],
   "metadata": {
    "collapsed": false
   }
  },
  {
   "cell_type": "code",
   "execution_count": 17,
   "outputs": [],
   "source": [
    "class Solution(object):\n",
    "    def canPartition(self, nums):\n",
    "        \"\"\"\n",
    "        :type nums: List[int]\n",
    "        :rtype: bool\n",
    "        \"\"\"\n",
    "        # Special case\n",
    "        n = len(nums)\n",
    "        if n < 2:\n",
    "            return False\n",
    "        total_sum = sum(nums)\n",
    "        if total_sum % 2 == 1:\n",
    "            return False\n",
    "        nums.sort()\n",
    "        target = total_sum // 2\n",
    "        if nums[-1] > target:\n",
    "            return False\n",
    "        # dp, shape (n, target+1), dp[i][j] 从第 i 个数字往后作为选取集合, 存在一个子集的和为 j, 最终目标: dp[0][target]\n",
    "        # dp init, 初始化 dp[n-1][*]\n",
    "        dp = [[False] * (target+1) for _ in range(n)]\n",
    "        dp[n-1][nums[n-1]] = True\n",
    "\n",
    "        for i in range(n-2, -1, -1):\n",
    "            for j in range(1, target+1):\n",
    "                dp[i][j] = dp[i+1][j-nums[i]] or dp[i+1][j]\n",
    "\n",
    "        return dp[0][target]"
   ],
   "metadata": {
    "collapsed": false
   }
  },
  {
   "cell_type": "markdown",
   "source": [
    "## 最后一块石头的重量\n",
    "\n",
    "[力扣 1046](https://leetcode.cn/problems/last-stone-weight/)\n",
    "\n",
    "![](../../imgs/1046.png)"
   ],
   "metadata": {
    "collapsed": false
   }
  },
  {
   "cell_type": "code",
   "execution_count": 18,
   "outputs": [],
   "source": [
    "class Solution(object):\n",
    "    def lastStoneWeight(self, stones):\n",
    "        \"\"\"\n",
    "        :type stones: List[int]\n",
    "        :rtype: int\n",
    "        \"\"\"\n",
    "        # general case\n",
    "        while len(stones) > 1:\n",
    "            stones.sort()\n",
    "            remains = abs(stones[-1] - stones[-2])\n",
    "            stones = stones[:-2]\n",
    "            if remains > 0:\n",
    "                stones = [remains] + stones\n",
    "        return 0 if len(stones) == 0 else stones[0]\n"
   ],
   "metadata": {
    "collapsed": false
   }
  },
  {
   "cell_type": "markdown",
   "source": [
    "## 最后一块石头的重量 II\n",
    "\n",
    "[力扣 1049](https://leetcode.cn/problems/last-stone-weight-ii/)\n",
    "\n",
    "这道题也是 0-1 背包问题, 问题的关键在于, 这个问题可以约化为:\n",
    "\n",
    "**把石头分为尽可能重量相近的两堆, 各堆总重量之差即是答案**\n",
    "\n",
    "==>\n",
    "\n",
    "**寻找不超过但尽可能接近总重一半的子序列**\n",
    "\n",
    "==>\n",
    "\n",
    "**0-1 背包问题, weight <=> value**\n",
    "\n",
    "![](../../imgs/1049.png)"
   ],
   "metadata": {
    "collapsed": false
   }
  },
  {
   "cell_type": "code",
   "execution_count": 19,
   "outputs": [],
   "source": [
    "class Solution(object):\n",
    "    def lastStoneWeightII(self, stones):\n",
    "        \"\"\"\n",
    "        :type stones: List[int]\n",
    "        :rtype: int\n",
    "        \"\"\"\n",
    "        # 0. 初始化\n",
    "        total_weight = sum(stones)\n",
    "        target = total_weight // 2\n",
    "        n = len(stones)\n",
    "\n",
    "        if n == 1:\n",
    "            return stones[0]\n",
    "\n",
    "        # 0-1 背包，在总重不超过 target 的情况下，可以达到的最大价值(尽可能达到 target)\n",
    "        # dp[i][j] 代表从第 i 件开始往后, 总重不超过 j 时能获得的最大价值\n",
    "\n",
    "        # 1. dp init, 初始化 dp[i][*] 这一行, i 是从右向左,第一个满足 stones[i] < target 的石头\n",
    "        dp = [0] * (target + 1)\n",
    "        i = n-1\n",
    "        while stones[i] > target:\n",
    "            i -= 1\n",
    "        for j in range(stones[i], target+1):\n",
    "            dp[j] = stones[i]\n",
    "\n",
    "        # 2. dp sweep\n",
    "        i -= 1\n",
    "        while i >= 0:\n",
    "            new_dp = dp[:]\n",
    "            for j in range(target + 1):\n",
    "                # 计算 dp[i][j], 从下往上, 一行一行地 sweep\n",
    "                if j >= stones[i]:\n",
    "                    new_dp[j] = max(dp[j], stones[i] + dp[j-stones[i]])\n",
    "            dp = new_dp\n",
    "            i -= 1\n",
    "\n",
    "        return abs(total_weight - 2*dp[target])\n"
   ],
   "metadata": {
    "collapsed": false
   }
  },
  {
   "cell_type": "markdown",
   "source": [
    "## 最小路径和\n",
    "\n",
    "[力扣 64](https://leetcode-cn.com/problems/minimum-path-sum/)\n"
   ],
   "metadata": {
    "collapsed": false
   }
  },
  {
   "cell_type": "markdown",
   "source": [
    "### 解法一: DP init 不够优雅\n",
    "\n",
    "我初始化了最后一行和最后一列，实际上最后一行足矣\n",
    "\n",
    "![](../../imgs/64.png)"
   ],
   "metadata": {
    "collapsed": false
   }
  },
  {
   "cell_type": "code",
   "execution_count": 19,
   "outputs": [],
   "source": [
    "class Solution:\n",
    "    def minPathSum(self, grid):\n",
    "        m, n = len(grid), len(grid[0])\n",
    "\n",
    "        # dp init, 初始化最后一行和最后一列\n",
    "        dp = [[0] * n for _ in range(m)]\n",
    "\n",
    "        dp[-1][-1] = grid[-1][-1]\n",
    "        for i in range(m-2, -1, -1):\n",
    "            dp[i][-1] = grid[i][-1] + dp[i+1][-1]\n",
    "        for j in range(n-2, -1, -1):\n",
    "            dp[-1][j] = grid[-1][j] + dp[-1][j+1]\n",
    "\n",
    "        # dp sweep, 从下往上, 从右往左\n",
    "        for i in range(m-2, -1, -1):\n",
    "            for j in range(n-2, -1, -1):\n",
    "                dp[i][j] = grid[i][j] + min(dp[i+1][j], dp[i][j+1])\n",
    "\n",
    "        return dp[0][0]\n"
   ],
   "metadata": {
    "collapsed": false
   }
  },
  {
   "cell_type": "markdown",
   "source": [
    "### 解法二: 优化 DP init, 就地 DP\n",
    "\n",
    "\n",
    "![](../../imgs/64_2.png)"
   ],
   "metadata": {
    "collapsed": false
   }
  },
  {
   "cell_type": "code",
   "execution_count": 1,
   "outputs": [],
   "source": [
    "class Solution:\n",
    "    def minPathSum(self, grid):\n",
    "        m, n = len(grid), len(grid[0])\n",
    "\n",
    "        # dp sweep, 从下往上, 从右往左\n",
    "        for i in range(m-1, -1, -1):\n",
    "            for j in range(n-1, -1, -1):\n",
    "                if i == m-1 and j == n-1:\n",
    "                    pass\n",
    "                elif i == m-1:\n",
    "                    grid[i][j] += grid[i][j+1]\n",
    "                elif j == n-1:\n",
    "                    grid[i][j] += grid[i+1][j]\n",
    "                else:\n",
    "                    grid[i][j] += min(grid[i][j+1], grid[i+1][j])\n",
    "        return grid[0][0]\n"
   ],
   "metadata": {
    "collapsed": false
   }
  },
  {
   "cell_type": "code",
   "execution_count": null,
   "outputs": [],
   "source": [],
   "metadata": {
    "collapsed": false
   }
  }
 ],
 "metadata": {
  "kernelspec": {
   "display_name": "Python 3",
   "language": "python",
   "name": "python3"
  },
  "language_info": {
   "codemirror_mode": {
    "name": "ipython",
    "version": 2
   },
   "file_extension": ".py",
   "mimetype": "text/x-python",
   "name": "python",
   "nbconvert_exporter": "python",
   "pygments_lexer": "ipython2",
   "version": "2.7.6"
  }
 },
 "nbformat": 4,
 "nbformat_minor": 0
}
