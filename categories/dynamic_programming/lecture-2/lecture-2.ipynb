{
 "cells": [
  {
   "cell_type": "markdown",
   "source": [
    "# Lecture 2"
   ],
   "metadata": {
    "collapsed": false
   }
  },
  {
   "cell_type": "markdown",
   "source": [
    "## 背包问题"
   ],
   "metadata": {
    "collapsed": false
   }
  },
  {
   "cell_type": "markdown",
   "source": [
    "### 0/1 背包问题\n",
    "\n",
    "给定数组 w, v。每个数组均有 N 个正整数。 w[i] 代表第 i 种东西的重量, v[i] 代表第 i 种东西的价值。\n",
    "\n",
    "给定约束，总重量不能超过 C(整数), 东西不能重复拿的情况下, 求解如何背东西(一个数组 items), 以及其最大价值(一个数字)."
   ],
   "metadata": {
    "collapsed": false
   }
  },
  {
   "cell_type": "markdown",
   "source": [
    "我们将这个过程序列化,从左到右,每个 item 依次询问是否加入背包.这有点像是对于 episodic 的过程的时间戳的建模.\n",
    "这样,状态空间就变为: (start_idx, capacity).\n",
    "\n",
    "**version 1** 简单 DP\n",
    "\n",
    "- 时间复杂度: O(N * C)\n",
    "- 空间复杂度: O(N * C)"
   ],
   "metadata": {
    "collapsed": false
   }
  },
  {
   "cell_type": "code",
   "execution_count": 1,
   "metadata": {
    "collapsed": true
   },
   "outputs": [
    {
     "data": {
      "text/plain": "50"
     },
     "execution_count": 1,
     "metadata": {},
     "output_type": "execute_result"
    }
   ],
   "source": [
    "def backpack(w, v, C):\n",
    "    N = len(w)\n",
    "    dp = [[0] * (C+1) for _ in range(N)]\n",
    "    # dp base\n",
    "    for c in range(w[N-1], C+1):\n",
    "        dp[N-1][c] = v[N-1]\n",
    "    # dp base\n",
    "    for i in range(N-2, -1, -1):\n",
    "        for c in range(C+1):\n",
    "            dp[i][c] = dp[i+1][c]\n",
    "            if w[i] <= c:\n",
    "                dp[i][c] = max(dp[i+1][c], v[i] + dp[i+1][c-w[i]])\n",
    "    return dp[0][C]\n",
    "\n",
    "w = [1, 3, 4, 5]\n",
    "v = [15, 20, 30, 35]\n",
    "C = 7\n",
    "\n",
    "backpack(w, v, C)"
   ]
  },
  {
   "cell_type": "markdown",
   "source": [
    "由于这里的 dp 只是从最后一列传播到第一列,因此这里的空间复杂度可以进一步降低为: O(C)"
   ],
   "metadata": {
    "collapsed": false
   }
  },
  {
   "cell_type": "markdown",
   "source": [
    "**version 2** 滑动数组\n",
    "\n",
    "- 时间复杂度: O(N*C)\n",
    "- 空间复杂度: O(C)"
   ],
   "metadata": {
    "collapsed": false
   }
  },
  {
   "cell_type": "code",
   "execution_count": 2,
   "outputs": [
    {
     "data": {
      "text/plain": "50"
     },
     "execution_count": 2,
     "metadata": {},
     "output_type": "execute_result"
    }
   ],
   "source": [
    "def backpack(w, v, C):\n",
    "    N = len(w)\n",
    "    dp = [0] * (C+1)\n",
    "    # dp base\n",
    "    for c in range(w[N-1], C+1):\n",
    "        dp[c] = v[N-1]\n",
    "    # dp base\n",
    "    for i in range(N-2, -1, -1):\n",
    "        new_dp = dp.copy()\n",
    "        for c in range(C+1):\n",
    "            if w[i] <= c:\n",
    "                new_dp[c] = max(dp[c], v[i] + dp[c-w[i]])\n",
    "        dp = new_dp\n",
    "    return dp[C]\n",
    "\n",
    "w = [1, 3, 4, 5]\n",
    "v = [15, 20, 30, 35]\n",
    "C = 7\n",
    "\n",
    "backpack(w, v, C)"
   ],
   "metadata": {
    "collapsed": false
   }
  },
  {
   "cell_type": "markdown",
   "source": [
    "背包问题还有其他一些问题:\n",
    "\n",
    "1. 如果数据类型为 float 怎么办?\n",
    "\n",
    "    我的思考是: 可以先 scale 到差距较大的情况下,再近似成整数.\n",
    "\n",
    "2. 如果 C 非常大,这时创建一个这样的 dp 会很没效率,怎么办?\n",
    "\n",
    "    我的思考是: 可以使用其他启发式算法,例如贪心, 或者使用列表作为字典的 key (当然, list 是 unhashable 的,但是可以考虑建立这样的辅助类来完成任务)."
   ],
   "metadata": {
    "collapsed": false
   }
  },
  {
   "cell_type": "markdown",
   "source": [
    "## 解码问题"
   ],
   "metadata": {
    "collapsed": false
   }
  },
  {
   "cell_type": "markdown",
   "source": [
    "状态空间:\n",
    "  起始位置 i, 状态为 i,意味着要解码 code[i:]"
   ],
   "metadata": {
    "collapsed": false
   }
  },
  {
   "cell_type": "code",
   "execution_count": 3,
   "outputs": [],
   "source": [
    "def decode_count(code, alphabet):\n",
    "    dp = [0] * (len(code) + 1)\n",
    "    dp[len(code)] = 1\n",
    "    i = len(code) - 1\n",
    "    not_find_last_alphabet = True\n",
    "    while not_find_last_alphabet:\n",
    "        matches = match(code[i:], alphabet)\n",
    "        if len(matches) == 0:\n",
    "            dp[i] = 0\n",
    "        else:\n",
    "            dp[i] = 1\n",
    "            not_find_last_alphabet = False\n",
    "        i -= 1\n",
    "    while i>=0:\n",
    "        matches = match(code[i:], alphabet)\n",
    "        for prefix in matches:\n",
    "            dp[i] += dp[i+len(prefix)]\n",
    "        i -= 1\n",
    "    return dp[0]\n",
    "\n",
    "def match(code, alphabet):\n",
    "    prefix = []\n",
    "    for a in alphabet:\n",
    "        if code.startswith(a):\n",
    "            prefix.append(a)\n",
    "    return prefix"
   ],
   "metadata": {
    "collapsed": false
   }
  },
  {
   "cell_type": "code",
   "execution_count": 4,
   "outputs": [
    {
     "data": {
      "text/plain": "13"
     },
     "execution_count": 4,
     "metadata": {},
     "output_type": "execute_result"
    }
   ],
   "source": [
    "code = \"111111\"\n",
    "alphabet = set([str(i+1) for i in range(26)])\n",
    "\n",
    "decode_count(code, alphabet)"
   ],
   "metadata": {
    "collapsed": false
   }
  },
  {
   "cell_type": "markdown",
   "source": [
    "刚才写的是使用于一般编码的\n",
    "\n",
    "下面再写一个专门为 digit 和英语字母对应解码的"
   ],
   "metadata": {
    "collapsed": false
   }
  },
  {
   "cell_type": "code",
   "execution_count": 5,
   "outputs": [],
   "source": [
    "def decode_count_digit(code, alphabet):\n",
    "    # dp init\n",
    "    dp = [0] * (len(code) + 1)\n",
    "    dp[len(code)] = 1  # for naturally ending\n",
    "    dp[len(code) - 1] = 1  # must match\n",
    "\n",
    "    # dp sweep\n",
    "    for i in range(len(code)-2, -1, -1):\n",
    "        if code[i] == '0':\n",
    "            continue\n",
    "        dp[i] = dp[i+1]\n",
    "        if int(code[i:i+2]) <= 26:\n",
    "            dp[i] += dp[i+2]\n",
    "    return dp[0]"
   ],
   "metadata": {
    "collapsed": false
   }
  },
  {
   "cell_type": "code",
   "execution_count": 6,
   "outputs": [
    {
     "data": {
      "text/plain": "13"
     },
     "execution_count": 6,
     "metadata": {},
     "output_type": "execute_result"
    }
   ],
   "source": [
    "code = \"111111\"\n",
    "alphabet = set([str(i+1) for i in range(27)])\n",
    "decode_count_digit(code, alphabet)"
   ],
   "metadata": {
    "collapsed": false
   }
  },
  {
   "cell_type": "markdown",
   "source": [
    "## 最长公共子序列问题"
   ],
   "metadata": {
    "collapsed": false
   }
  },
  {
   "cell_type": "markdown",
   "source": [
    "最长公共子序列问题可以使用动态规划算法\n",
    "\n",
    "依然使用从左到右的状态空间建模, 假设字符串 a 的长度为 $n_1$, 字符串 b 的长度为 $n_2$.\n",
    "那么我们的状态空间为 $S = \\{1, .., n_1\\} x \\{1, ..., n_2\\}$\n"
   ],
   "metadata": {
    "collapsed": false
   }
  },
  {
   "cell_type": "markdown",
   "source": [
    "**version 1** 暴力递归"
   ],
   "metadata": {
    "collapsed": false
   }
  },
  {
   "cell_type": "code",
   "execution_count": 24,
   "outputs": [
    {
     "data": {
      "text/plain": "3"
     },
     "execution_count": 24,
     "metadata": {},
     "output_type": "execute_result"
    }
   ],
   "source": [
    "def longest_common_seq(a, b):\n",
    "    return longest_common_seq_recursive(a, b, len(a)-1, len(b)-1)\n",
    "\n",
    "def longest_common_seq_recursive(a, b, end_a, end_b):\n",
    "    # dp[0][0]\n",
    "    if end_a == 0 and end_b == 0:\n",
    "        return int(a[0] == b[0])\n",
    "    # dp[0][*]\n",
    "    elif end_a == 0:\n",
    "        if a[end_a] == b[end_b]:\n",
    "            return 1\n",
    "        else:\n",
    "            return longest_common_seq_recursive(a, b, end_a, end_b-1)\n",
    "    # dp[*][0]\n",
    "    elif end_b == 0:\n",
    "        if a[end_a] == b[end_b]:\n",
    "            return 1\n",
    "        else:\n",
    "            return longest_common_seq_recursive(a, b, end_a-1, end_b)\n",
    "\n",
    "    # dp[i][j]\n",
    "    elif a[end_a] == b[end_b]:\n",
    "        return 1 + longest_common_seq_recursive(a, b, end_a-1, end_b-1)\n",
    "    else:\n",
    "        return max(longest_common_seq_recursive(a, b, end_a-1, end_b), longest_common_seq_recursive(a, b, end_a, end_b-1))\n",
    "\n",
    "a = \"shrugage\"\n",
    "b = \"lbhguru\"\n",
    "longest_common_seq(a,b)"
   ],
   "metadata": {
    "collapsed": false
   }
  },
  {
   "cell_type": "markdown",
   "source": [
    "**version 2** 动态规划"
   ],
   "metadata": {
    "collapsed": false
   }
  },
  {
   "cell_type": "code",
   "execution_count": 40,
   "outputs": [
    {
     "data": {
      "text/plain": "3"
     },
     "execution_count": 40,
     "metadata": {},
     "output_type": "execute_result"
    }
   ],
   "source": [
    "def longest_common_seq(a, b):\n",
    "    # we add a row and a col to store blank, dp init naturally done\n",
    "    dp = [[0] * (len(b)+1) for _ in range(len(a)+1)]\n",
    "    # dp sweep, row by row\n",
    "    for i in range(1, len(a)+1):\n",
    "        for j in range(1, len(b) + 1):\n",
    "            if a[i-1] == b[j-1]:\n",
    "                dp[i][j] = 1 + dp[i-1][j-1]\n",
    "            else:\n",
    "                dp[i][j] = max(dp[i-1][j], dp[i][j-1])\n",
    "    return dp[len(a)][len(b)]\n",
    "\n",
    "a = \"shrugage\"\n",
    "b = \"lbhguru\"\n",
    "longest_common_seq(a,b)"
   ],
   "metadata": {
    "collapsed": false
   }
  },
  {
   "cell_type": "markdown",
   "source": [
    "## 象棋问题\n",
    "\n",
    "![](./imgs/img.png)"
   ],
   "metadata": {
    "collapsed": false
   }
  },
  {
   "cell_type": "code",
   "execution_count": 75,
   "outputs": [
    {
     "data": {
      "text/plain": "8"
     },
     "execution_count": 75,
     "metadata": {},
     "output_type": "execute_result"
    }
   ],
   "source": [
    "W = 10 # x = 0, 1, ..., 9\n",
    "H = 9  # y = 0, 1, ..., 8\n",
    "def horse_jump(x, y, k):\n",
    "    # dp init, calculate (*, *, 0)\n",
    "    dp = [[[0]*(k+1) for _ in range(H)] for _ in range(W)]\n",
    "    dp[x][y][0] = 1\n",
    "\n",
    "    # dp sweep\n",
    "    # calculate dp[i][j]\n",
    "    for k_ in range(1, k+1):\n",
    "        for i in range(W):\n",
    "            for j in range(H):\n",
    "                # calculate dp[i][j][k_]\n",
    "                for (x_, y_) in next_state(i, j):\n",
    "                    dp[i][j][k_] += dp[x_][y_][k_-1]\n",
    "    # return\n",
    "    return dp[0][0][k]\n",
    "    # # you can return dp for debugging\n",
    "    # return dp\n",
    "\n",
    "def next_state(x, y):\n",
    "    result = []\n",
    "    s_1 = (x+1, y+2)\n",
    "    s_2 = (x+1, y-2)\n",
    "    s_3 = (x+2, y+1)\n",
    "    s_4 = (x+2, y-1)\n",
    "    s_5 = (x-1, y+2)\n",
    "    s_6 = (x-1, y-2)\n",
    "    s_7 = (x-2, y+1)\n",
    "    s_8 = (x-2, y-1)\n",
    "    new_states = [s_1, s_2, s_3, s_4, s_5, s_6, s_7, s_8]\n",
    "    for s in new_states:\n",
    "        if not out_board(s[0], s[1]):\n",
    "            result.append(s)\n",
    "    return result\n",
    "\n",
    "\n",
    "def out_board(x, y):\n",
    "    return x<0 or y<0 or x>W-1 or y>H-1\n",
    "\n",
    "result = horse_jump(1, 2, 3)\n",
    "result"
   ],
   "metadata": {
    "collapsed": false
   }
  },
  {
   "cell_type": "markdown",
   "source": [
    "Showing the $1^{st}$ layer of `dp`"
   ],
   "metadata": {
    "collapsed": false
   }
  },
  {
   "cell_type": "code",
   "execution_count": 72,
   "outputs": [
    {
     "data": {
      "text/plain": "array([[1, 0, 0, 0, 1, 0, 0, 0, 0],\n       [0, 0, 0, 0, 0, 0, 0, 0, 0],\n       [1, 0, 0, 0, 1, 0, 0, 0, 0],\n       [0, 1, 0, 1, 0, 0, 0, 0, 0],\n       [0, 0, 0, 0, 0, 0, 0, 0, 0],\n       [0, 0, 0, 0, 0, 0, 0, 0, 0],\n       [0, 0, 0, 0, 0, 0, 0, 0, 0],\n       [0, 0, 0, 0, 0, 0, 0, 0, 0],\n       [0, 0, 0, 0, 0, 0, 0, 0, 0],\n       [0, 0, 0, 0, 0, 0, 0, 0, 0]])"
     },
     "execution_count": 72,
     "metadata": {},
     "output_type": "execute_result"
    }
   ],
   "source": [
    "import numpy as np\n",
    "result = np.array(result)\n",
    "result[:,:,1]"
   ],
   "metadata": {
    "collapsed": false
   }
  },
  {
   "cell_type": "markdown",
   "source": [
    "Showing the $2^{nd}$ layer of `dp`"
   ],
   "metadata": {
    "collapsed": false
   }
  },
  {
   "cell_type": "code",
   "execution_count": 73,
   "outputs": [
    {
     "data": {
      "text/plain": "array([[0, 1, 0, 1, 0, 1, 0, 0, 0],\n       [1, 0, 6, 0, 1, 0, 2, 0, 0],\n       [0, 2, 0, 2, 0, 2, 0, 0, 0],\n       [0, 0, 2, 0, 0, 0, 1, 0, 0],\n       [0, 2, 0, 2, 0, 2, 0, 0, 0],\n       [1, 0, 2, 0, 1, 0, 0, 0, 0],\n       [0, 0, 0, 0, 0, 0, 0, 0, 0],\n       [0, 0, 0, 0, 0, 0, 0, 0, 0],\n       [0, 0, 0, 0, 0, 0, 0, 0, 0],\n       [0, 0, 0, 0, 0, 0, 0, 0, 0]])"
     },
     "execution_count": 73,
     "metadata": {},
     "output_type": "execute_result"
    }
   ],
   "source": [
    "result[:,:,2]"
   ],
   "metadata": {
    "collapsed": false
   }
  },
  {
   "cell_type": "markdown",
   "source": [
    "Showing the $3^{rd}$ layer of `dp`"
   ],
   "metadata": {
    "collapsed": false
   }
  },
  {
   "cell_type": "code",
   "execution_count": 74,
   "outputs": [
    {
     "data": {
      "text/plain": "array([[ 8,  0,  6,  0, 12,  0,  3,  0,  2],\n       [ 0,  5,  0,  8,  0,  4,  0,  4,  0],\n       [11,  0,  8,  0, 17,  0,  4,  0,  3],\n       [ 0, 14,  0, 18,  0,  8,  0,  6,  0],\n       [ 6,  0,  6,  0,  9,  0,  3,  0,  1],\n       [ 0,  4,  0,  6,  0,  3,  0,  3,  0],\n       [ 4,  0,  6,  0,  6,  0,  3,  0,  0],\n       [ 0,  3,  0,  3,  0,  1,  0,  0,  0],\n       [ 0,  0,  0,  0,  0,  0,  0,  0,  0],\n       [ 0,  0,  0,  0,  0,  0,  0,  0,  0]])"
     },
     "execution_count": 74,
     "metadata": {},
     "output_type": "execute_result"
    }
   ],
   "source": [
    "result[:,:,3]"
   ],
   "metadata": {
    "collapsed": false
   }
  },
  {
   "cell_type": "markdown",
   "source": [
    "## 咖啡机问题\n",
    "\n",
    "![](./imgs/img_1.png)\n"
   ],
   "metadata": {
    "collapsed": false
   }
  },
  {
   "cell_type": "code",
   "execution_count": null,
   "outputs": [],
   "source": [],
   "metadata": {
    "collapsed": false
   }
  }
 ],
 "metadata": {
  "kernelspec": {
   "display_name": "Python 3",
   "language": "python",
   "name": "python3"
  },
  "language_info": {
   "codemirror_mode": {
    "name": "ipython",
    "version": 2
   },
   "file_extension": ".py",
   "mimetype": "text/x-python",
   "name": "python",
   "nbconvert_exporter": "python",
   "pygments_lexer": "ipython2",
   "version": "2.7.6"
  }
 },
 "nbformat": 4,
 "nbformat_minor": 0
}
