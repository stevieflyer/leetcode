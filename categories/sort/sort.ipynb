{
 "cells": [
  {
   "cell_type": "markdown",
   "source": [
    "# 排序算法"
   ],
   "metadata": {
    "collapsed": false
   }
  },
  {
   "cell_type": "code",
   "execution_count": 1,
   "outputs": [],
   "source": [
    "%load_ext autoreload\n",
    "%autoreload 2\n",
    "\n",
    "from test_sort import test_sort"
   ],
   "metadata": {
    "collapsed": false
   }
  },
  {
   "cell_type": "markdown",
   "source": [
    "## $O(N^2)$ 排序算法"
   ],
   "metadata": {
    "collapsed": false
   }
  },
  {
   "cell_type": "markdown",
   "source": [
    "### 冒泡排序\n",
    "\n",
    "最坏时间复杂度: $O(N^2)$, 反序\n",
    "\n",
    "平均时间复杂度: $O(N^2)$\n",
    "\n",
    "最好时间复杂度: $O(N)$, 顺序\n",
    "\n",
    "空间复杂度: $O(1)$"
   ],
   "metadata": {
    "collapsed": false
   }
  },
  {
   "cell_type": "code",
   "execution_count": 2,
   "outputs": [
    {
     "name": "stdout",
     "output_type": "stream",
     "text": [
      "Testing bubble_sort with medium array over 2000 elements\n",
      "Success!Avg time per 100 elems: 0.027072227001190184s\n"
     ]
    }
   ],
   "source": [
    "def swap(arr, i, j):\n",
    "    \"\"\"\n",
    "    Swap arr[i] and arr[j]\n",
    "\n",
    "    Implementation use xor, we must ensure that arr[i] != arr[j]\n",
    "    \"\"\"\n",
    "    if arr[i] != arr[j]:\n",
    "        arr[i] = arr[i] ^ arr[j]\n",
    "        arr[j] = arr[j] ^ arr[i]  # arr[j] = arr[j] ^ arr[i] ^ arr[j] = 0 ^ arr[i] = arr[i]\n",
    "        arr[i] = arr[i] ^ arr[j]  # arr[i] = arr[i] ^ arr[i] ^ arr[j] = 0 ^ arr[j] = arr[j]\n",
    "\n",
    "def bubble_sort(arr):\n",
    "    \"\"\"\n",
    "    Every time, bubble a maximum to arr[N-i-1] for i in [0...,N-2]\n",
    "    \"\"\"\n",
    "    N = len(arr)\n",
    "\n",
    "    for i in range(N-1):\n",
    "        # get the biggest to the latest\n",
    "        for j in range(N-i-1):\n",
    "            if arr[j] > arr[j+1]:\n",
    "                swap(arr, j, j+1)\n",
    "\n",
    "test_sort(bubble_sort, mode='medium', verbose=True);"
   ],
   "metadata": {
    "collapsed": false
   }
  },
  {
   "cell_type": "markdown",
   "source": [
    "### 插入排序"
   ],
   "metadata": {
    "collapsed": false
   }
  },
  {
   "cell_type": "code",
   "execution_count": 3,
   "outputs": [
    {
     "name": "stdout",
     "output_type": "stream",
     "text": [
      "Testing insert_sort with medium array over 2000 elements\n",
      "Success!Avg time per 100 elems: 0.024515676498413085s\n"
     ]
    }
   ],
   "source": [
    "def insert_sort(arr):\n",
    "    \"\"\"\n",
    "    maintain an ordered subsequence (0...i) for i in range(1...N-1)\n",
    "    \"\"\"\n",
    "    N = len(arr)\n",
    "\n",
    "    for i in range(1, N):\n",
    "        j = i\n",
    "        while arr[j] < arr[j-1] and j>=1:\n",
    "            swap(arr, j, j-1)\n",
    "            j -= 1\n",
    "\n",
    "test_sort(insert_sort, mode='medium', verbose=True);"
   ],
   "metadata": {
    "collapsed": false
   }
  },
  {
   "cell_type": "markdown",
   "source": [
    "### 选择排序"
   ],
   "metadata": {
    "collapsed": false
   }
  },
  {
   "cell_type": "code",
   "execution_count": 4,
   "outputs": [
    {
     "name": "stdout",
     "output_type": "stream",
     "text": [
      "Testing select_sort with medium array over 2000 elements\n",
      "Success!Avg time per 100 elems: 0.004754304885864258s\n"
     ]
    }
   ],
   "source": [
    "def select_sort(arr):\n",
    "    \"\"\"\n",
    "    every time select the minimum in [i...N-1] to arr[i] for i in 0...N-2\n",
    "    \"\"\"\n",
    "    N = len(arr)\n",
    "\n",
    "    for i in range(N-1):\n",
    "        # find the min_val and min_idx in [i...N-1]\n",
    "        min_idx, min_val = i, arr[i]\n",
    "        for j in range(i+1, N):\n",
    "            if arr[j] < arr[min_idx]:\n",
    "                min_idx, min_val = j, arr[j]\n",
    "        # move the minimum elements in [i...N-1] to arr[i]\n",
    "        swap(arr, i, min_idx)\n",
    "\n",
    "test_sort(select_sort, mode='medium', verbose=True);"
   ],
   "metadata": {
    "collapsed": false
   }
  },
  {
   "cell_type": "markdown",
   "source": [],
   "metadata": {
    "collapsed": false
   }
  },
  {
   "cell_type": "markdown",
   "source": [
    "## $O(nlogn)$ 排序算法"
   ],
   "metadata": {
    "collapsed": false
   }
  },
  {
   "cell_type": "markdown",
   "source": [
    "### 快速排序(Quick Sort)\n",
    "\n",
    "快速排序是一种分治算法，其基本思想是：通过一趟排序将待排记录分割成独立的两部分，其中一部分记录的关键字均比另一部分的关键字小，则可分别对这两部分记录继续进行排序，以达到整个序列有序。"
   ],
   "metadata": {
    "collapsed": false
   }
  },
  {
   "cell_type": "code",
   "execution_count": 70,
   "metadata": {
    "collapsed": true
   },
   "outputs": [],
   "source": [
    "def quick_sort(arr):\n",
    "    anchor = arr[0]\n",
    "    for i in range(1, len(arr)):\n"
   ]
  },
  {
   "cell_type": "markdown",
   "source": [
    "### 归并排序(Merge Sort)"
   ],
   "metadata": {
    "collapsed": false
   }
  },
  {
   "cell_type": "code",
   "execution_count": 70,
   "outputs": [],
   "source": [],
   "metadata": {
    "collapsed": false
   }
  },
  {
   "cell_type": "markdown",
   "source": [
    "### 希尔排序 (Shell Sort)\n",
    "\n",
    "希尔排序是插入排序的一种更高效的改进版本。时间复杂度\n",
    " 希尔排序是非稳定排序算法。"
   ],
   "metadata": {
    "collapsed": false
   }
  },
  {
   "cell_type": "code",
   "execution_count": 70,
   "outputs": [],
   "source": [],
   "metadata": {
    "collapsed": false
   }
  },
  {
   "cell_type": "markdown",
   "source": [
    "### 堆排序 (Heap Sort)"
   ],
   "metadata": {
    "collapsed": false
   }
  },
  {
   "cell_type": "code",
   "execution_count": 70,
   "outputs": [],
   "source": [],
   "metadata": {
    "collapsed": false
   }
  },
  {
   "cell_type": "markdown",
   "source": [
    "## 合并两个有序数组\n",
    "\n",
    "[力扣 88](https://leetcode-cn.com/problems/merge-sorted-array/)\n",
    "\n",
    "![](../../imgs/88.png)"
   ],
   "metadata": {
    "collapsed": false
   }
  },
  {
   "cell_type": "code",
   "execution_count": null,
   "outputs": [],
   "source": [
    "class Solution:\n",
    "    def merge(self, nums1, m, nums2, n):\n",
    "        \"\"\"\n",
    "        Do not return anything, modify nums1 in-place instead.\n",
    "        \"\"\"\n",
    "        i = 0\n",
    "        for j in range(n):\n",
    "            # 将 nums2[j] 插入到 nums1 中\n",
    "            while i<m and nums2[j] > nums1[i]:\n",
    "                i += 1\n",
    "            for k in range(m-1, i-1, -1):\n",
    "                nums1[k+1] = nums1[k]\n",
    "            nums1[i] = nums2[j]\n",
    "            m += 1"
   ],
   "metadata": {
    "collapsed": false
   }
  }
 ],
 "metadata": {
  "kernelspec": {
   "display_name": "Python 3",
   "language": "python",
   "name": "python3"
  },
  "language_info": {
   "codemirror_mode": {
    "name": "ipython",
    "version": 2
   },
   "file_extension": ".py",
   "mimetype": "text/x-python",
   "name": "python",
   "nbconvert_exporter": "python",
   "pygments_lexer": "ipython2",
   "version": "2.7.6"
  }
 },
 "nbformat": 4,
 "nbformat_minor": 0
}
