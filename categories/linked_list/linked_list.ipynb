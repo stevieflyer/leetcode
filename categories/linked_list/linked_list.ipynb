{
 "cells": [
  {
   "cell_type": "markdown",
   "source": [
    "# 链表"
   ],
   "metadata": {
    "collapsed": false
   }
  },
  {
   "cell_type": "markdown",
   "source": [
    "## 删除链表的中间节点(2095)\n",
    "\n",
    "[力扣 2095](https://leetcode.cn/problems/delete-the-middle-node-of-a-linked-list/)"
   ],
   "metadata": {
    "collapsed": false
   }
  },
  {
   "cell_type": "markdown",
   "source": [
    "![](../../imgs/2095.png)"
   ],
   "metadata": {
    "collapsed": false
   }
  },
  {
   "cell_type": "code",
   "execution_count": 1,
   "outputs": [],
   "source": [
    "# Definition for singly-linked list.\n",
    "class ListNode:\n",
    "    def __init__(self, val=0, next=None):\n",
    "        self.val = val\n",
    "        self.next = next\n",
    "\n",
    "class Solution:\n",
    "    def deleteMiddle(self, head):\n",
    "        hair = ListNode(0)\n",
    "        hair.next = head\n",
    "        prev, slow, fast = None, hair, hair\n",
    "\n",
    "        while fast is not None:\n",
    "            prev = slow\n",
    "            slow = slow.next\n",
    "            fast = fast.next\n",
    "            if fast is not None:\n",
    "                fast = fast.next\n",
    "\n",
    "        # 现在 slow 指向要删除的节点, prev 指向要删除的节点之前的节点\n",
    "        prev.next = slow.next\n",
    "        return hair.next"
   ],
   "metadata": {
    "collapsed": false
   }
  },
  {
   "cell_type": "markdown",
   "source": [
    "### 奇偶链表"
   ],
   "metadata": {
    "collapsed": false
   }
  },
  {
   "cell_type": "markdown",
   "source": [
    "**注意点**\n",
    "\n",
    "这道题主要是要留意:\n",
    "\n",
    "偶链的最后一个节点的 next 指针要指向 None, 否则会造成环。\n",
    "\n",
    "![](../../imgs/328.png)"
   ],
   "metadata": {
    "collapsed": false
   }
  },
  {
   "cell_type": "code",
   "execution_count": 9,
   "outputs": [],
   "source": [
    "class ListNode:\n",
    "    def __init__(self, val=0, next=None):\n",
    "        self.val = val\n",
    "        self.next = next\n",
    "\n",
    "class Solution:\n",
    "    def oddEvenList(self, head):\n",
    "        # special case, n < 2\n",
    "        if head is None or head.next is None:\n",
    "            return head\n",
    "        # general case, n >= 2\n",
    "        odd_hair, even_hair = ListNode(), ListNode()\n",
    "        odd_hair.next = head\n",
    "\n",
    "        cur_odd, cur_even = head, even_hair\n",
    "        cur = head.next\n",
    "        is_odd = False\n",
    "\n",
    "        while cur:\n",
    "            if is_odd:\n",
    "                cur_odd.next = cur\n",
    "                cur_odd = cur_odd.next\n",
    "            else:  # is_odd is False\n",
    "                cur_even.next = cur\n",
    "                cur_even = cur_even.next\n",
    "            cur = cur.next\n",
    "            is_odd = not is_odd\n",
    "        cur_even.next = None\n",
    "        cur_odd.next = even_hair.next\n",
    "        return odd_hair.next"
   ],
   "metadata": {
    "collapsed": false
   }
  },
  {
   "cell_type": "code",
   "execution_count": null,
   "outputs": [],
   "source": [],
   "metadata": {
    "collapsed": false
   }
  }
 ],
 "metadata": {
  "kernelspec": {
   "display_name": "Python 3",
   "language": "python",
   "name": "python3"
  },
  "language_info": {
   "codemirror_mode": {
    "name": "ipython",
    "version": 2
   },
   "file_extension": ".py",
   "mimetype": "text/x-python",
   "name": "python",
   "nbconvert_exporter": "python",
   "pygments_lexer": "ipython2",
   "version": "2.7.6"
  }
 },
 "nbformat": 4,
 "nbformat_minor": 0
}
