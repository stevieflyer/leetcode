{
 "cells": [
  {
   "cell_type": "markdown",
   "source": [
    "# 二分查找"
   ],
   "metadata": {
    "collapsed": false
   }
  },
  {
   "cell_type": "markdown",
   "source": [
    "二分查找的核心思想是: **缩小问题的搜索区间**, 别无其他套路。\n",
    "\n",
    "我们定义的 `left`, `right` 本质上就是我们认为的有可能的解区间，我一般使用 [`left`, `right`] 作为解区间，当 `left` = `right` 时，意味着只有唯一可能尝试的答案了。"
   ],
   "metadata": {
    "collapsed": false
   }
  },
  {
   "cell_type": "markdown",
   "source": [
    "## 猜数字大小\n",
    "\n",
    "[力扣 374](https://leetcode-cn.com/problems/guess-number-higher-or-lower/)"
   ],
   "metadata": {
    "collapsed": false
   }
  },
  {
   "cell_type": "markdown",
   "source": [
    "**思路**\n",
    "\n",
    "本题是在 [1, n] 中猜数字。由于该问题一定有解，也就是说： [1, n] 中一定恰有一个答案。因此我们可以使用二分查找，并且当 `left` == `right` 时，我们就一定找到了答案。(注意：这种性质自然不是普遍的)"
   ],
   "metadata": {
    "collapsed": false
   }
  },
  {
   "cell_type": "code",
   "execution_count": 2,
   "metadata": {
    "collapsed": true
   },
   "outputs": [],
   "source": [
    "# The guess API is already defined for you.\n",
    "# @param num, your guess\n",
    "# @return -1 if num is higher than the picked number\n",
    "#          1 if num is lower than the picked number\n",
    "#          otherwise return 0\n",
    "# def guess(num):\n",
    "\n",
    "def guess(num):\n",
    "    if num == 6:\n",
    "        return 0\n",
    "    elif num > 6:\n",
    "        return 1\n",
    "    else:\n",
    "        return -1\n",
    "\n",
    "class Solution(object):\n",
    "    def guessNumber(self, n):\n",
    "        \"\"\"\n",
    "        :type n: int\n",
    "        :rtype: int\n",
    "        \"\"\"\n",
    "        l, r = 1, n\n",
    "        while l < r:\n",
    "            mid = (l+r) // 2\n",
    "            result = guess(mid)\n",
    "            if result == 0:\n",
    "                return mid\n",
    "            elif result == 1:\n",
    "                l = mid + 1\n",
    "            else:\n",
    "                r = mid - 1\n",
    "        return l\n"
   ]
  },
  {
   "cell_type": "markdown",
   "source": [
    "## 二分查找\n",
    "\n",
    "[力扣 704](https://leetcode-cn.com/problems/binary-search/)\n",
    "\n",
    "给定一个 n 个元素有序的（升序）整型数组 `nums` 和一个目标值 `target`  ，写一个函数搜索 `nums` 中的 `target`，如果目标值存在返回下标，否则返回 -1。\n"
   ],
   "metadata": {
    "collapsed": false
   }
  },
  {
   "cell_type": "markdown",
   "source": [
    "**思路**\n",
    "\n",
    "本题可以利用数组的 **有序性** 缩小搜索区间，不过需要注意：本题不保证数组中是有解的。也就是说，当 `left` == `right`时，我们只是说：我们的搜索空间达到了最小。\n",
    "\n",
    "因此，这道题，我们将 while 的条件改为 `left` <= `right` , 这样的话, 循环结束意味着: `left` > `right`, 也就是搜索空间为空, 那么自然就是无解了，可以返回 -1 。\n",
    "\n",
    "同时，我们也要留意是否有死循环的可能性, 也就是: `left` 最多始终保持着和 `right` 一样大的情形。好在本题中是不会的, 因为: 在本题的循环中, 只要没有找到答案, 要么 `left` 会 +1, 要么 `right` 会 -1。因此, 必然会在有限次数后结束循环。"
   ],
   "metadata": {
    "collapsed": false
   }
  },
  {
   "cell_type": "code",
   "execution_count": 3,
   "outputs": [],
   "source": [
    "class Solution(object):\n",
    "    def search(self, nums, target):\n",
    "        \"\"\"\n",
    "        :type nums: List[int]\n",
    "        :type target: int\n",
    "        :rtype: int\n",
    "        \"\"\"\n",
    "        l, r = 0, len(nums)-1\n",
    "        while l <= r:\n",
    "            m = (l+r) // 2\n",
    "            if nums[m] == target:\n",
    "                return m\n",
    "            elif nums[m] > target:\n",
    "                r = m-1\n",
    "            else:  # nums[m] < target\n",
    "                l = m+1\n",
    "        return -1"
   ],
   "metadata": {
    "collapsed": false
   }
  },
  {
   "cell_type": "markdown",
   "source": [
    "力扣二分查找相关题目:\n",
    "\n",
    "[力扣33](https://leetcode-cn.com/problems/search-in-rotated-sorted-array/) 寻找旋转有序数组中的最小值\n",
    "\n",
    "[力扣34](https://leetcode-cn.com/problems/find-first-and-last-position-of-element-in-sorted-array/) 在排序数组中查找元素的第一个和最后一个位置\n",
    "\n",
    "[力扣35](https://leetcode-cn.com/problems/search-insert-position/) 搜索插入位置\n",
    "\n",
    "[力扣81](https://leetcode-cn.com/problems/search-in-rotated-sorted-array-ii/) 搜索旋转排序数组 II\n",
    "\n",
    "[力扣153](https://leetcode-cn.com/problems/find-minimum-in-rotated-sorted-array/) 寻找旋转有序数组中的最小值\n",
    "\n",
    "[力扣154](https://leetcode-cn.com/problems/find-minimum-in-rotated-sorted-array-ii/) 寻找旋转有序数组中的最小值 II\n",
    "\n",
    "[力扣162](https://leetcode-cn.com/problems/find-peak-element/) 寻找峰值\n",
    "\n",
    "[力扣278](https://leetcode-cn.com/problems/first-bad-version/) 第一个错误的版本\n",
    "\n",
    "[力扣287](https://leetcode-cn.com/problems/find-the-duplicate-number/) 寻找重复数\n",
    "\n",
    "[力扣300](https://leetcode-cn.com/problems/longest-increasing-subsequence/) 最长上升子序列\n",
    "\n",
    "[力扣315](https://leetcode-cn.com/problems/count-of-smaller-numbers-after-self/) 计算右侧小于当前元素的个数\n",
    "\n",
    "[力扣374](https://leetcode-cn.com/problems/guess-number-higher-or-lower/) 猜数字大小\n",
    "\n",
    "[力扣378](https://leetcode-cn.com/problems/kth-smallest-element-in-a-sorted-matrix/) 有序矩阵中第K小的元素\n",
    "\n",
    "[力扣410](https://leetcode-cn.com/problems/split-array-largest-sum/) 分割数组的最大值\n",
    "\n",
    "[力扣441](https://leetcode-cn.com/problems/arranging-coins/) 排列硬币\n",
    "\n",
    "[力扣475](https://leetcode-cn.com/problems/heaters/) 供暖器\n",
    "\n",
    "[力扣540](https://leetcode-cn.com/problems/single-element-in-a-sorted-array/) 有序数组中的单一元素\n",
    "\n",
    "[力扣 852](https://leetcode-cn.com/problems/peak-index-in-a-mountain-array/) 山脉数组的峰顶索引\n",
    "\n",
    "[力扣 1095](https://leetcode-cn.com/problems/find-in-mountain-array/) 山脉数组中查找目标值"
   ],
   "metadata": {
    "collapsed": false
   }
  },
  {
   "cell_type": "markdown",
   "source": [
    "## 在排序数组中查找元素的第一个和最后一个位置\n",
    "\n",
    "[力扣34](https://leetcode-cn.com/problems/find-first-and-last-position-of-element-in-sorted-array/)"
   ],
   "metadata": {
    "collapsed": false
   }
  },
  {
   "cell_type": "markdown",
   "source": [
    "**思路**\n",
    "\n",
    "本题与一般的二分查找不同的是：要找出数组中第一个和最后一个等于目标值的元素的位置。因此，在 `nums[m]` == `target` 时，我们不能立即返回，而是要继续向左或向右搜索，直到找到第一个和最后一个等于目标值的元素的位置。"
   ],
   "metadata": {
    "collapsed": false
   }
  },
  {
   "cell_type": "markdown",
   "source": [
    "### 方法一: 递归\n",
    "\n",
    "在寻找第一个元素时，我们要尝试再向左二分搜索，因此我们定义函数: `findFirst(nums, target, end)`, 这个函数将在 nums[0...end] 上寻找第一个等于 `target` 的位置。在这个函数的 while 循环中, 我们自然而然地使用如下的递归:\n",
    "```python\n",
    "# in findFirst\n",
    "# ... in while(l<=r) loop\n",
    "else: # nums[m] == target\n",
    "    pass\n",
    "    potential_first = self.findFirst(nums, target, m-1)\n",
    "    if potential_first != -1:\n",
    "        m = min(potential_first, m)\n",
    "    return m\n",
    "# ...\n",
    "```\n",
    "\n",
    "寻找最后一个元素的思路是类似的。\n",
    "\n",
    "具体直接看下面的代码。"
   ],
   "metadata": {
    "collapsed": false
   }
  },
  {
   "cell_type": "code",
   "execution_count": 4,
   "outputs": [],
   "source": [
    "class Solution(object):\n",
    "    def searchRange(self, nums, target):\n",
    "        \"\"\"\n",
    "        :type nums: List[int]\n",
    "        :type target: int\n",
    "        :rtype: List[int]\n",
    "        \"\"\"\n",
    "        l, r = 0, len(nums)-1\n",
    "        if len(nums) == 0:\n",
    "            return [-1, -1]\n",
    "\n",
    "        first = self.findFirst(nums, target, r)\n",
    "        if first == -1:\n",
    "            return [-1, -1]\n",
    "        last = self.findLast(nums, target, first)\n",
    "        return [first, last]\n",
    "\n",
    "    def findFirst(self, nums, target, end):\n",
    "        l, r = 0, end\n",
    "        while l <= r:\n",
    "            m = (l+r) // 2\n",
    "            if nums[m] < target:\n",
    "                l = m+1\n",
    "            elif nums[m] > target:\n",
    "                r = m-1\n",
    "            else: # nums[m] == target, return\n",
    "                pass\n",
    "                potential_first = self.findFirst(nums, target, m-1)\n",
    "                if potential_first != -1:\n",
    "                    m = min(potential_first, m)\n",
    "                return m\n",
    "        return -1\n",
    "\n",
    "    def findLast(self, nums, target, start):\n",
    "        l, r = start, len(nums)-1\n",
    "        while l <= r:\n",
    "            m = (l+r) // 2\n",
    "            if nums[m] < target:\n",
    "                l = m+1\n",
    "            elif nums[m] > target:\n",
    "                r = m-1\n",
    "            else: # nums[m] == target, return\n",
    "                pass\n",
    "                potential_last = self.findLast(nums, target, m+1)\n",
    "                if potential_last != -1:\n",
    "                    m = max(potential_last, m)\n",
    "                return m\n",
    "        return -1"
   ],
   "metadata": {
    "collapsed": false
   }
  },
  {
   "cell_type": "markdown",
   "source": [
    "### 方法二: 迭代\n",
    "\n",
    "我们也可以去除掉 `findFirst` 和 `findLast` 中的递归逻辑, 使用迭代来完成。\n",
    "\n",
    "在这个实现中, 我们改变了 while 循环的终止条件, 防止了 `l` == `mid` 时死循环的情况。并且当我们循环终止时,搜索空间并非空时, 我们不能忘记在循环外做一次判断。"
   ],
   "metadata": {
    "collapsed": false
   }
  },
  {
   "cell_type": "code",
   "execution_count": 5,
   "outputs": [],
   "source": [
    "class Solution(object):\n",
    "    def searchRange(self, nums, target):\n",
    "        \"\"\"\n",
    "        :type nums: List[int]\n",
    "        :type target: int\n",
    "        :rtype: List[int]\n",
    "        \"\"\"\n",
    "        l, r = 0, len(nums)-1\n",
    "        if len(nums) == 0:\n",
    "            return [-1, -1]\n",
    "\n",
    "        first = self.findFirst(nums, target, r)\n",
    "        if first == -1:\n",
    "            return [-1, -1]\n",
    "        last = self.findLast(nums, target, first)\n",
    "        return [first, last]\n",
    "\n",
    "    def findFirst(self, nums, target, end):\n",
    "        l, r = 0, end\n",
    "        while l < r:\n",
    "            m = (l+r) // 2\n",
    "            if nums[m] < target:\n",
    "                l = m+1\n",
    "            elif nums[m] > target:\n",
    "                r = m-1\n",
    "            else: # nums[m] == target, return\n",
    "                r = m\n",
    "        if nums[l] == target:\n",
    "            return l\n",
    "        return -1\n",
    "\n",
    "    def findLast(self, nums, target, start):\n",
    "        l, r = start, len(nums)-1\n",
    "        while l < r:\n",
    "            m = (l+r) // 2\n",
    "            if nums[m] < target:\n",
    "                l = m+1\n",
    "            elif nums[m] > target:\n",
    "                r = m-1\n",
    "            else: # nums[m] == target, return\n",
    "                if l == m:\n",
    "                    return l if nums[r] != target else r\n",
    "                l = m\n",
    "        if nums[r] == target:\n",
    "            return r\n",
    "        return -1\n",
    "\n"
   ],
   "metadata": {
    "collapsed": false
   }
  },
  {
   "cell_type": "markdown",
   "source": [
    "## x 的平方根\n",
    "\n",
    "[力扣69](https://leetcode-cn.com/problems/sqrtx/)"
   ],
   "metadata": {
    "collapsed": false
   }
  },
  {
   "cell_type": "markdown",
   "source": [
    "**思路**\n",
    "\n",
    "二分查找。"
   ],
   "metadata": {
    "collapsed": false
   }
  },
  {
   "cell_type": "markdown",
   "source": [
    "### 方法一\n",
    "\n",
    "- 查找范围: [0...x], 事实上, 也可以使用 [0...(x/2+1)], 但是在 leetcode 里，这样反而更加耗时，这不知道是为什么。不过由于总体上并没有优化复杂度的阶数, 都是 $O(log(n))$, 因此就使用 [0...x] 了。\n",
    "\n",
    "- 满足条件: 找到 $m$ , 使得\n",
    "  $$m^2<=x<(m+1)^2$$\n",
    "- 是否必然有解: 必然有"
   ],
   "metadata": {
    "collapsed": false
   }
  },
  {
   "cell_type": "code",
   "execution_count": 6,
   "outputs": [],
   "source": [
    "class Solution(object):\n",
    "    def mySqrt(self, x):\n",
    "        \"\"\"\n",
    "        :type x: int\n",
    "        :rtype: int\n",
    "        \"\"\"\n",
    "        # ans 初始范围: 0...x-1\n",
    "        # 终止条件: ans * ans <= x and (ans+1) * (ans+1) > x\n",
    "        l, r = 0, x\n",
    "        while l<r:\n",
    "            m = (l+r) // 2\n",
    "            cur_square, nex_square = m*m, (m+1)*(m+1)\n",
    "            if x>=cur_square and x<nex_square:\n",
    "                return m\n",
    "            elif x<cur_square:\n",
    "                r = m-1\n",
    "            else:  # x>=nex_square\n",
    "                l = m+1\n",
    "        return l"
   ],
   "metadata": {
    "collapsed": false,
    "pycharm": {
     "name": "#%%a\n"
    }
   }
  },
  {
   "cell_type": "markdown",
   "source": [
    "### 方法二:\n",
    "\n",
    "二分查找, 寻找第一个 $m$  使得 $$x < m^2$$\n",
    "\n",
    "那么答案就是:  $m-1$"
   ],
   "metadata": {
    "collapsed": false
   }
  },
  {
   "cell_type": "code",
   "execution_count": 7,
   "outputs": [],
   "source": [
    "class Solution(object):\n",
    "    def mySqrt(self, x):\n",
    "        \"\"\"\n",
    "        :type x: int\n",
    "        :rtype: int\n",
    "        \"\"\"\n",
    "        # 寻找 x<m^2 的第一个 m\n",
    "        l, r = 0, x+1\n",
    "        while l<r:\n",
    "            m = (l+r) // 2\n",
    "            square = m*m\n",
    "            if x >= square:\n",
    "                l = m+1\n",
    "            else: # 满足条件, 接下来要找第一个\n",
    "                r = m\n",
    "        return l-1"
   ],
   "metadata": {
    "collapsed": false
   }
  },
  {
   "cell_type": "markdown",
   "source": [
    "## 搜索插入位置\n",
    "\n",
    "[力扣35](https://leetcode-cn.com/problems/search-insert-position/)"
   ],
   "metadata": {
    "collapsed": false
   }
  },
  {
   "cell_type": "markdown",
   "source": [
    "主要关注出循环后的 `l` 位置, 如果 `target` > `nums[l]`, 那么就返回 `l+1`, 否则都可以返回 `l`"
   ],
   "metadata": {
    "collapsed": false
   }
  },
  {
   "cell_type": "code",
   "execution_count": 8,
   "outputs": [],
   "source": [
    "class Solution(object):\n",
    "    def searchInsert(self, nums, target):\n",
    "        \"\"\"\n",
    "        :type nums: List[int]\n",
    "        :type target: int\n",
    "        :rtype: int\n",
    "        \"\"\"\n",
    "        l, r = 0, len(nums)-1\n",
    "        while l<r:\n",
    "            m = (l+r) // 2\n",
    "            if nums[m] == target:\n",
    "                return m\n",
    "            elif nums[m] > target:\n",
    "                r = m -1\n",
    "            else:  # nums[m] < target\n",
    "                l = m + 1\n",
    "        if nums[l] >= target:\n",
    "            return l\n",
    "        else:\n",
    "            return l+1\n"
   ],
   "metadata": {
    "collapsed": false
   }
  },
  {
   "cell_type": "markdown",
   "source": [
    "## 寻找重复数\n",
    "\n",
    "[力扣287](https://leetcode-cn.com/problems/find-the-duplicate-number/)"
   ],
   "metadata": {
    "collapsed": false
   }
  },
  {
   "cell_type": "markdown",
   "source": [
    "### 方法一: 二分查找\n",
    "\n",
    "题目中的重要信息:\n",
    "\n",
    "1. 有且只有 **1个数** 出现重复\n",
    "2. 数组长度为 $n+1$, 数的范围是 [$1$...$n$]\n",
    "\n",
    "结合这些信息，尤其是第二条信息，我们有以下重要观察:\n",
    "\n",
    "取 $m$ 为 [$1$...$n$] 中的一个数字\n",
    "1. 如果整个数组中不大于 $m$ 的数字的个数 $N_m$ 满足:\n",
    "   $$N_m > m$$\n",
    "   根据抽屉原理, 在 [$1$...$m$] 中就必然存在重复数字。我们就可以缩小搜索范围为: [$1$...$m$]\n",
    "2. 否则, 在 [$1$...$m$] 中必然没有重复数字, 可以缩小搜索范围为: [$m+1$...$n$]\n",
    "\n",
    "这样, 我们就可以轻松地写出以下二分查找算法。\n",
    "\n",
    "- 时间复杂度: $O(N log(N))$\n",
    "- 空间复杂度: $O(1)$"
   ],
   "metadata": {
    "collapsed": false
   }
  },
  {
   "cell_type": "code",
   "execution_count": 9,
   "outputs": [],
   "source": [
    "class Solution(object):\n",
    "    def findDuplicate(self, nums):\n",
    "        \"\"\"\n",
    "        :type nums: List[int]\n",
    "        :rtype: int\n",
    "        \"\"\"\n",
    "        l, r = 1, len(nums)-1\n",
    "        while l < r:\n",
    "            m = (l+r) // 2\n",
    "            count = 0\n",
    "            for num in nums:\n",
    "                if num <= m:\n",
    "                    count += 1\n",
    "\n",
    "            if count <= m:\n",
    "                l = m+1\n",
    "            else:\n",
    "                r = m\n",
    "        return l\n"
   ],
   "metadata": {
    "collapsed": false
   }
  },
  {
   "cell_type": "markdown",
   "source": [
    "### 方法二: 线性复杂度方法 环形链表(tricky)"
   ],
   "metadata": {
    "collapsed": false
   }
  },
  {
   "cell_type": "code",
   "execution_count": 9,
   "outputs": [],
   "source": [],
   "metadata": {
    "collapsed": false
   }
  },
  {
   "cell_type": "markdown",
   "source": [
    "## 有效三角形个数\n",
    "\n",
    "[力扣611](https://leetcode-cn.com/problems/valid-triangle-number/)"
   ],
   "metadata": {
    "collapsed": false
   }
  },
  {
   "cell_type": "code",
   "execution_count": 9,
   "outputs": [],
   "source": [],
   "metadata": {
    "collapsed": false
   }
  }
 ],
 "metadata": {
  "kernelspec": {
   "display_name": "Python 3",
   "language": "python",
   "name": "python3"
  },
  "language_info": {
   "codemirror_mode": {
    "name": "ipython",
    "version": 2
   },
   "file_extension": ".py",
   "mimetype": "text/x-python",
   "name": "python",
   "nbconvert_exporter": "python",
   "pygments_lexer": "ipython2",
   "version": "2.7.6"
  }
 },
 "nbformat": 4,
 "nbformat_minor": 0
}
