{
 "cells": [
  {
   "cell_type": "markdown",
   "source": [
    "## 无重复字符的最长子串\n",
    "\n",
    "[力扣 3](https://leetcode.cn/problems/longest-substring-without-repeating-characters/)\n",
    "\n",
    "注意点:\n",
    "\n",
    "1. 双指针每一次 while 循环都要注意指针不要越界\n",
    "2. 注意自己定义的指针的开闭约定\n",
    "3. 留意指针是否具有单向移动的特点\n",
    "\n",
    "![](../../imgs/3.png)"
   ],
   "metadata": {
    "collapsed": false
   }
  },
  {
   "cell_type": "code",
   "execution_count": null,
   "metadata": {
    "collapsed": true
   },
   "outputs": [],
   "source": [
    "class Solution(object):\n",
    "    def lengthOfLongestSubstring(self, s):\n",
    "        \"\"\"\n",
    "        :type s: str\n",
    "        :rtype: int\n",
    "        \"\"\"\n",
    "        n = len(s)\n",
    "        i, j, max_length = 0, 0, 0\n",
    "        while i<=j and j<n:\n",
    "            while j<n and s[j] not in s[i:j]:\n",
    "                j += 1\n",
    "                max_length = max(max_length, j-i)\n",
    "            # 出现重复子串\n",
    "            i += 1\n",
    "            if i == j:\n",
    "                j += 1\n",
    "        return max_length\n"
   ]
  },
  {
   "cell_type": "code",
   "execution_count": 2,
   "outputs": [],
   "source": [
    "from collections import OrderedDict\n",
    "\n",
    "rom_2_num = OrderedDict(IV=   4, IX=    9, I=    1, V=    5,\n",
    "                        XL=  40, XC=   90, X=   10, L=   50,\n",
    "                        CD= 400, CM=  900, C=  100, D=  500,\n",
    "                        M= 1000)"
   ],
   "metadata": {
    "collapsed": false
   }
  },
  {
   "cell_type": "code",
   "execution_count": 3,
   "outputs": [
    {
     "name": "stdout",
     "output_type": "stream",
     "text": [
      "IV\n",
      "IX\n",
      "I\n",
      "V\n",
      "XL\n",
      "XC\n",
      "X\n",
      "L\n",
      "CD\n",
      "CM\n",
      "C\n",
      "D\n",
      "M\n"
     ]
    }
   ],
   "source": [
    "for rom in rom_2_num:\n",
    "    print(rom)"
   ],
   "metadata": {
    "collapsed": false
   }
  },
  {
   "cell_type": "code",
   "execution_count": 4,
   "outputs": [],
   "source": [
    "from collections import OrderedDict\n",
    "\n",
    "class Solution(object):\n",
    "    def romanToInt(self, s):\n",
    "        \"\"\"\n",
    "        :type s: str\n",
    "        :rtype: int\n",
    "        \"\"\"\n",
    "        # rom_2_num = OrderedDict(IV=4,IX=9, 'I':   1, 'V':   5,\n",
    "        #              'XL':  40, 'XC':  90, 'X':  10, 'L':  50,\n",
    "        #              'CD': 400, 'CM': 900, 'C': 100, 'D': 500,\n",
    "        #              'M': 1000})\n",
    "\n",
    "        rom_2_num = OrderedDict(IV=   4, IX=    9, I=    1, V=    5,\n",
    "                                XL=  40, XC=   90, X=   10, L=   50,\n",
    "                                CD= 400, CM=  900, C=  100, D=  500,\n",
    "                                M= 1000)\n",
    "\n",
    "        i, n, res = 0, len(s), 0\n",
    "        while i < n:\n",
    "            for rom in rom_2_num:\n",
    "                print('matching rom: ', rom)\n",
    "                if len(rom) <= n-i and rom == s[i:i+len(rom)]:\n",
    "                    print('rom: ', rom, \", val: \", rom_2_num[rom])\n",
    "                    res += rom_2_num[rom]\n",
    "                    i += len(rom)\n",
    "                    break\n",
    "        return res\n"
   ],
   "metadata": {
    "collapsed": false
   }
  },
  {
   "cell_type": "code",
   "execution_count": 5,
   "outputs": [
    {
     "name": "stdout",
     "output_type": "stream",
     "text": [
      "matching rom:  IV\n",
      "matching rom:  IX\n",
      "matching rom:  I\n",
      "matching rom:  V\n",
      "matching rom:  XL\n",
      "matching rom:  XC\n",
      "matching rom:  X\n",
      "matching rom:  L\n",
      "rom:  L , val:  50\n",
      "matching rom:  IV\n",
      "rom:  IV , val:  4\n"
     ]
    },
    {
     "data": {
      "text/plain": "54"
     },
     "execution_count": 5,
     "metadata": {},
     "output_type": "execute_result"
    }
   ],
   "source": [
    "Solution().romanToInt(\"LIV\")"
   ],
   "metadata": {
    "collapsed": false
   }
  },
  {
   "cell_type": "code",
   "execution_count": null,
   "outputs": [],
   "source": [
    "rom_2_num = (\n",
    "            ['IV',   4], ['IX',   9], ['I',   1], ['V',   5],\n",
    "            ['XL',  40], ['XC',  90], ['X',  10],['L',  50],\n",
    "            ['CD', 400], ['CM', 900], ['C', 100],['D', 500],\n",
    "            ['M', 1000])"
   ],
   "metadata": {
    "collapsed": false
   }
  }
 ],
 "metadata": {
  "kernelspec": {
   "display_name": "Python 3",
   "language": "python",
   "name": "python3"
  },
  "language_info": {
   "codemirror_mode": {
    "name": "ipython",
    "version": 2
   },
   "file_extension": ".py",
   "mimetype": "text/x-python",
   "name": "python",
   "nbconvert_exporter": "python",
   "pygments_lexer": "ipython2",
   "version": "2.7.6"
  }
 },
 "nbformat": 4,
 "nbformat_minor": 0
}
