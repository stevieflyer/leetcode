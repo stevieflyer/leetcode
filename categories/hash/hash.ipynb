{
 "cells": [
  {
   "cell_type": "markdown",
   "source": [
    "## 有效的数独(36)\n",
    "\n",
    "[力扣 36](https://leetcode-cn.com/problems/valid-sudoku/)\n",
    "\n",
    "![](../../imgs/36.png)"
   ],
   "metadata": {
    "collapsed": false
   }
  },
  {
   "cell_type": "code",
   "execution_count": null,
   "metadata": {
    "collapsed": true
   },
   "outputs": [],
   "source": [
    "class Solution:\n",
    "    def isValidSudoku(self, board):\n",
    "        row_visit = [[False] * 9 for _ in range(9)]\n",
    "        col_visit = [[False] * 9 for _ in range(9)]\n",
    "        block_visit = [[False] * 9 for _ in range(9)]\n",
    "\n",
    "        for i in range(9):\n",
    "            for j in range(9):\n",
    "                val = (ord(board[i][j])-ord('0')-1) if board[i][j] != '.' else -1\n",
    "                if val >= 0:\n",
    "                    # 检查行\n",
    "                    if row_visit[i][val]:\n",
    "                        return False\n",
    "                    else: # 尚未访问\n",
    "                        row_visit[i][val] = True\n",
    "\n",
    "                    # 检查列\n",
    "                    if col_visit[j][val]:\n",
    "                        return False\n",
    "                    else:\n",
    "                        col_visit[j][val] = True\n",
    "\n",
    "                    # 检查 block\n",
    "                    block_no = (i // 3) * 3 + (j // 3)\n",
    "                    if block_visit[block_no][val]:\n",
    "                        return False\n",
    "                    else:\n",
    "                        block_visit[block_no][val] = True\n",
    "\n",
    "        return True\n"
   ]
  }
 ],
 "metadata": {
  "kernelspec": {
   "display_name": "Python 3",
   "language": "python",
   "name": "python3"
  },
  "language_info": {
   "codemirror_mode": {
    "name": "ipython",
    "version": 2
   },
   "file_extension": ".py",
   "mimetype": "text/x-python",
   "name": "python",
   "nbconvert_exporter": "python",
   "pygments_lexer": "ipython2",
   "version": "2.7.6"
  }
 },
 "nbformat": 4,
 "nbformat_minor": 0
}
