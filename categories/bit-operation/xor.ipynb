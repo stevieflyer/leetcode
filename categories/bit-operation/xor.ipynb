{
 "cells": [
  {
   "cell_type": "markdown",
   "source": [
    "# XOR 运算\n",
    "\n",
    "异或运算，两种角度:\n",
    "\n",
    "1. 相同为0，不同为1\n",
    "2. 等价于无进位相加\n",
    "\n",
    "由 2 可以看出， 异或满足 **交互律** 与 **结合律**"
   ],
   "metadata": {
    "collapsed": false
   }
  },
  {
   "cell_type": "markdown",
   "source": [
    "## Q1. 奇数次的数 1\n",
    "\n",
    "给定数组 arr, arr 中只有 1 个数出现了奇数次，其余都出现了偶数次，打印这个数。"
   ],
   "metadata": {
    "collapsed": false
   }
  },
  {
   "cell_type": "code",
   "execution_count": 2,
   "metadata": {
    "collapsed": true
   },
   "outputs": [
    {
     "name": "stdout",
     "output_type": "stream",
     "text": [
      "correct answer: 2\n"
     ]
    },
    {
     "data": {
      "text/plain": "2"
     },
     "execution_count": 2,
     "metadata": {},
     "output_type": "execute_result"
    }
   ],
   "source": [
    "def odd_times_num(arr):\n",
    "    result = arr[0]\n",
    "    for i in range(1, len(arr)):\n",
    "        result ^= arr[i]\n",
    "    return result\n",
    "\n",
    "arr = [1, 2, 2, 1, 2, 3, 3]\n",
    "\n",
    "print('correct answer: 2')\n",
    "odd_times_num(arr)"
   ]
  },
  {
   "cell_type": "markdown",
   "source": [
    "## Q2: 奇数次的数 2\n",
    "\n",
    "给定数组 arr, arr 中有2个数出现了奇数次，其余都出现了偶数次，打印所有这些数。"
   ],
   "metadata": {
    "collapsed": false
   }
  },
  {
   "cell_type": "code",
   "execution_count": 5,
   "outputs": [
    {
     "name": "stdout",
     "output_type": "stream",
     "text": [
      "correct number: 1, 3\n"
     ]
    },
    {
     "data": {
      "text/plain": "(1, 3)"
     },
     "execution_count": 5,
     "metadata": {},
     "output_type": "execute_result"
    }
   ],
   "source": [
    "def odd_times_2_nums(arr):\n",
    "    # 1. get a^b\n",
    "    eor = arr[0]\n",
    "    for i in range(1, len(arr)):\n",
    "        eor ^= arr[i]\n",
    "    # 2. get the last 1 of a^b\n",
    "    right_one = eor & (~eor+1)\n",
    "\n",
    "    # 3. get a, b in group\n",
    "    a, b = 0, 0\n",
    "    for elem in arr:\n",
    "        if elem & right_one == 0:\n",
    "            a ^= elem\n",
    "    b = eor ^ a\n",
    "    return a, b\n",
    "\n",
    "arr = [2, 2, 3, 3, 1, 3, 2, 2, 4, 4, 1, 1]\n",
    "print('correct number: 1, 3')\n",
    "odd_times_2_nums(arr)"
   ],
   "metadata": {
    "collapsed": false
   }
  },
  {
   "cell_type": "code",
   "execution_count": null,
   "outputs": [],
   "source": [],
   "metadata": {
    "collapsed": false
   }
  }
 ],
 "metadata": {
  "kernelspec": {
   "display_name": "Python 3",
   "language": "python",
   "name": "python3"
  },
  "language_info": {
   "codemirror_mode": {
    "name": "ipython",
    "version": 2
   },
   "file_extension": ".py",
   "mimetype": "text/x-python",
   "name": "python",
   "nbconvert_exporter": "python",
   "pygments_lexer": "ipython2",
   "version": "2.7.6"
  }
 },
 "nbformat": 4,
 "nbformat_minor": 0
}
