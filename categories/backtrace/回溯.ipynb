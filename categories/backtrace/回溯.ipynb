{
 "cells": [
  {
   "cell_type": "markdown",
   "source": [
    "# 回溯算法"
   ],
   "metadata": {
    "collapsed": false
   }
  },
  {
   "cell_type": "markdown",
   "source": [
    "## 组合\n",
    "\n",
    "[力扣 77](https://leetcode-cn.com/problems/combinations/)"
   ],
   "metadata": {
    "collapsed": false
   }
  },
  {
   "cell_type": "markdown",
   "source": [
    "### 方法一: DFS"
   ],
   "metadata": {
    "collapsed": false
   }
  },
  {
   "cell_type": "code",
   "execution_count": 12,
   "outputs": [],
   "source": [
    "class Solution(object):\n",
    "    def combine(self, n, k):\n",
    "        \"\"\"\n",
    "        :type n: int\n",
    "        :type k: int\n",
    "        :rtype: List[List[int]]\n",
    "        \"\"\"\n",
    "        paths = []\n",
    "        path = []\n",
    "\n",
    "        def backtrace(n, start, left):\n",
    "            # 回溯剪枝(这一步很重要, 344ms --> 28ms)\n",
    "            if n+1-start<left:\n",
    "                return\n",
    "\n",
    "            # 回溯返回\n",
    "            if left == 0:\n",
    "                paths.append(path[:])\n",
    "                return\n",
    "\n",
    "            # DFS\n",
    "            for i in range(start, n+1):\n",
    "                path.append(i)\n",
    "                backtrace(n, i+1, left-1)\n",
    "                path.pop()\n",
    "\n",
    "        backtrace(n, 1, k)\n",
    "        return paths"
   ],
   "metadata": {
    "collapsed": false
   }
  },
  {
   "cell_type": "markdown",
   "source": [
    "### 方法二: BFS"
   ],
   "metadata": {
    "collapsed": false
   }
  },
  {
   "cell_type": "code",
   "execution_count": 13,
   "outputs": [],
   "source": [
    "class Solution(object):\n",
    "    def combine(self, n, k):\n",
    "        \"\"\"\n",
    "        :type n: int\n",
    "        :type k: int\n",
    "        :rtype: List[List[int]]\n",
    "        \"\"\"\n",
    "        paths = []\n",
    "\n",
    "        #             n = 5, k = 3\n",
    "        #          1              2            3\n",
    "        #    2     3    4      3      4        4\n",
    "        #  3 4 5  4 5   5     4 5     5        5\n",
    "\n",
    "        return paths"
   ],
   "metadata": {
    "collapsed": false
   }
  },
  {
   "cell_type": "markdown",
   "source": [
    "## 子集\n",
    "\n",
    "[力扣 78](https://leetcode-cn.com/problems/subsets/)"
   ],
   "metadata": {
    "collapsed": false
   }
  },
  {
   "cell_type": "markdown",
   "source": [
    "### 方法一: DFS"
   ],
   "metadata": {
    "collapsed": false
   }
  },
  {
   "cell_type": "code",
   "execution_count": 14,
   "metadata": {
    "collapsed": true
   },
   "outputs": [],
   "source": [
    "class Solution(object):\n",
    "    def subsets(self, nums):\n",
    "        \"\"\"\n",
    "        :type nums: List[int]\n",
    "        :rtype: List[List[int]]\n",
    "        \"\"\"\n",
    "        paths = []\n",
    "        path = []\n",
    "\n",
    "        def backtrace(nums, start_idx):\n",
    "            # 注意这里要使用切片进行复制, 否则 python 中的列表是引用传递\n",
    "            paths.append(path[:])\n",
    "\n",
    "            for i in range(start_idx, len(nums)):\n",
    "                path.append(nums[i])\n",
    "                backtrace(nums, i+1)\n",
    "                path.pop()\n",
    "\n",
    "        backtrace(nums, 0)\n",
    "        return paths\n"
   ]
  },
  {
   "cell_type": "markdown",
   "source": [
    "### 方法二: BFS"
   ],
   "metadata": {
    "collapsed": false
   }
  },
  {
   "cell_type": "code",
   "execution_count": 15,
   "outputs": [],
   "source": [
    "class Solution(object):\n",
    "    def subsets(self, nums):\n",
    "        \"\"\"\n",
    "        :type nums: List[int]\n",
    "        :rtype: List[List[int]]\n",
    "        \"\"\"\n",
    "        paths = [[]]\n",
    "\n",
    "        for i in range(len(nums)):\n",
    "            # 注意这里要使用切片进行复制, 否则 python 中的列表是引用传递\n",
    "            for path in paths[:]:\n",
    "                paths.append(path + [nums[i]])\n",
    "\n",
    "        return paths"
   ],
   "metadata": {
    "collapsed": false
   }
  },
  {
   "cell_type": "markdown",
   "source": [],
   "metadata": {
    "collapsed": false
   }
  },
  {
   "cell_type": "markdown",
   "source": [
    "## 子集 II\n",
    "\n",
    "[力扣 90](https://leetcode-cn.com/problems/subsets-ii/)"
   ],
   "metadata": {
    "collapsed": false
   }
  },
  {
   "cell_type": "markdown",
   "source": [
    "### 方法一: DFS\n",
    "\n",
    "解 DFS 主要就是要画出递归树, 然后找到重复的子问题，确定剪枝策略即可。\n",
    "\n",
    "![](../../imgs/90.png)\n",
    "\n",
    "本题的剪枝策略很简单: 如果当前元素和前一个元素相同, 则跳过当前元素, 因为前一个元素已经包含了当前元素的所有子集。\n",
    "\n"
   ],
   "metadata": {
    "collapsed": false
   }
  },
  {
   "cell_type": "code",
   "execution_count": 16,
   "outputs": [],
   "source": [
    "class Solution:\n",
    "    def subsetsWithDup(self, nums):\n",
    "        nums.sort()\n",
    "        paths = []\n",
    "        path = []\n",
    "\n",
    "        def backtrace(start_idx):\n",
    "            paths.append(path[:])\n",
    "\n",
    "            for i in range(start_idx, len(nums)):\n",
    "                if i > start_idx and nums[i] == nums[i-1]:\n",
    "                    continue\n",
    "                path.append(nums[i])\n",
    "                backtrace(i+1)\n",
    "                path.pop()\n",
    "\n",
    "        backtrace(0)\n",
    "        return paths"
   ],
   "metadata": {
    "collapsed": false
   }
  },
  {
   "cell_type": "markdown",
   "source": [
    "## 组合总和\n",
    "\n",
    "[力扣 39](https://leetcode-cn.com/problems/combination-sum/)"
   ],
   "metadata": {
    "collapsed": false
   }
  },
  {
   "cell_type": "markdown",
   "source": [
    "### 方法一: DFS"
   ],
   "metadata": {
    "collapsed": false
   }
  },
  {
   "cell_type": "code",
   "execution_count": 17,
   "outputs": [],
   "source": [
    "class Solution(object):\n",
    "    def combinationSum(self, candidates, target):\n",
    "        \"\"\"\n",
    "        :type candidates: List[int]\n",
    "        :type target: int\n",
    "        :rtype: List[List[int]]\n",
    "        \"\"\"\n",
    "        paths = []\n",
    "        path = []\n",
    "        candidates.sort()\n",
    "        def backtrace(candidates, start_idx, target):\n",
    "            # 回溯返回\n",
    "            if target == 0:\n",
    "                paths.append(path[:])\n",
    "                return\n",
    "\n",
    "            # 回溯剪枝\n",
    "            if start_idx>=len(candidates) or candidates[start_idx] > target:\n",
    "                return\n",
    "\n",
    "            # DFS\n",
    "            for i in range(start_idx, len(candidates)):\n",
    "                path.append(candidates[i])\n",
    "                backtrace(candidates, i, target-candidates[i])\n",
    "                path.pop()\n",
    "\n",
    "        backtrace(candidates, 0, target)\n",
    "        return paths"
   ],
   "metadata": {
    "collapsed": false
   }
  },
  {
   "cell_type": "markdown",
   "source": [
    "## 组合问题 II\n",
    "\n",
    "[力扣 40](https://leetcode-cn.com/problems/combination-sum-ii/)"
   ],
   "metadata": {
    "collapsed": false
   }
  },
  {
   "cell_type": "markdown",
   "source": [
    "### 方法一: DFS"
   ],
   "metadata": {
    "collapsed": false
   }
  },
  {
   "cell_type": "code",
   "execution_count": 18,
   "outputs": [],
   "source": [
    "class Solution(object):\n",
    "    def combinationSum2(self, candidates, target):\n",
    "        \"\"\"\n",
    "        :type candidates: List[int]\n",
    "        :type target: int\n",
    "        :rtype: List[List[int]]\n",
    "        \"\"\"\n",
    "        paths = []\n",
    "        path = []\n",
    "        candidates.sort()\n",
    "\n",
    "        def backtrace(candidates, start_idx, target):\n",
    "            if target == 0:\n",
    "                paths.append(path[:])\n",
    "                return\n",
    "\n",
    "            if start_idx == len(candidates) or candidates[start_idx] > target:\n",
    "                return\n",
    "\n",
    "            for i in range(start_idx, len(candidates)):\n",
    "                if i>start_idx and candidates[i] == candidates[i-1]:\n",
    "                    continue\n",
    "                path.append(candidates[i])\n",
    "                backtrace(candidates, i+1, target-candidates[i])\n",
    "                path.pop()\n",
    "\n",
    "        backtrace(candidates, 0, target)\n",
    "        return paths"
   ],
   "metadata": {
    "collapsed": false
   }
  },
  {
   "cell_type": "markdown",
   "source": [
    "## 分割回文串\n",
    "\n",
    "[力扣 131](https://leetcode-cn.com/problems/palindrome-partitioning/)"
   ],
   "metadata": {
    "collapsed": false
   }
  },
  {
   "cell_type": "markdown",
   "source": [
    "### 方法一: DFS"
   ],
   "metadata": {
    "collapsed": false
   }
  },
  {
   "cell_type": "code",
   "execution_count": 19,
   "outputs": [],
   "source": [
    "class Solution(object):\n",
    "    def partition(self, s):\n",
    "        \"\"\"\n",
    "        :type s: str\n",
    "        :rtype: List[List[str]]\n",
    "        \"\"\"\n",
    "        paths = []\n",
    "        path = []\n",
    "\n",
    "        def backtrace(start_idx):\n",
    "            if start_idx == len(s):\n",
    "                paths.append(path[:])\n",
    "\n",
    "            for j in range(start_idx+1, len(s)+1):\n",
    "                if self.isPalindrome(s[start_idx:j]):\n",
    "                    path.append(s[start_idx:j])\n",
    "                    backtrace(j)\n",
    "                    path.pop()\n",
    "\n",
    "        backtrace(0)\n",
    "        return paths\n",
    "\n",
    "    def isPalindrome(self, s):\n",
    "        if len(s) == 0:\n",
    "            return True\n",
    "        return s[0]==s[-1] and self.isPalindrome(s[1:-1])"
   ],
   "metadata": {
    "collapsed": false
   }
  },
  {
   "cell_type": "markdown",
   "source": [
    "### 方法二: DFS + DP 预处理\n",
    "\n",
    "![](../../imgs/131.png)"
   ],
   "metadata": {
    "collapsed": false
   }
  },
  {
   "cell_type": "code",
   "execution_count": 20,
   "outputs": [],
   "source": [
    "class Solution(object):\n",
    "    def partition(self, s):\n",
    "        \"\"\"\n",
    "        :type s: str\n",
    "        :rtype: List[List[str]]\n",
    "        \"\"\"\n",
    "        paths = []\n",
    "        path = []\n",
    "        n = len(s)\n",
    "\n",
    "        # 动态规划预处理\n",
    "        dp = [[True] * n for _ in range(n)]\n",
    "        for i in range(n - 1, -1, -1):\n",
    "            for j in range(i + 1, n):\n",
    "                dp[i][j] = (s[i] == s[j]) and dp[i + 1][j - 1]\n",
    "\n",
    "        def backtrace(start_idx):\n",
    "            if start_idx == len(s):\n",
    "                paths.append(path[:])\n",
    "\n",
    "            for j in range(start_idx+1, len(s)+1):\n",
    "                if dp[start_idx][j-1]:\n",
    "                    path.append(s[start_idx:j])\n",
    "                    backtrace(j)\n",
    "                    path.pop()\n",
    "        backtrace(0)\n",
    "        return paths"
   ],
   "metadata": {
    "collapsed": false
   }
  },
  {
   "cell_type": "markdown",
   "source": [
    "## 复原 IP 地址\n",
    "\n",
    "[力扣 93](https://leetcode-cn.com/problems/restore-ip-addresses/)"
   ],
   "metadata": {
    "collapsed": false
   }
  },
  {
   "cell_type": "markdown",
   "source": [
    "### 方法一: 回溯\n",
    "\n",
    "几个注意点:\n",
    "\n",
    "1. **排除前导零**: 这里我是通过控制 `max_j` 的大小来实现的: 如果 `s[start_idx]` 为 0, 那么当前位置最多取 1 位, 否则最多取 3 位\n",
    "2. **回溯剪枝**: 如果剩余的位数大于 `remains * 3`, 那么就不用继续往下搜索了, 这使得时间: 24ms --> 12ms\n",
    "\n",
    "![](../../imgs/93.png)"
   ],
   "metadata": {
    "collapsed": false
   }
  },
  {
   "cell_type": "code",
   "execution_count": 21,
   "outputs": [],
   "source": [
    "class Solution(object):\n",
    "    def restoreIpAddresses(self, s):\n",
    "        \"\"\"\n",
    "        :type s: str\n",
    "        :rtype: List[str]\n",
    "        \"\"\"\n",
    "        paths = []\n",
    "        path = []\n",
    "        n = len(s)\n",
    "        def backtrace(start_idx, remains):\n",
    "            # 回溯返回\n",
    "            if remains == 0:\n",
    "                if start_idx == n:\n",
    "                    paths.append(\".\".join(path))\n",
    "                return\n",
    "\n",
    "            # 回溯剪枝\n",
    "            if start_idx == n or ((n-start_idx) > remains * 3):\n",
    "                return\n",
    "\n",
    "            # 排除前导零\n",
    "            if s[start_idx] == '0':\n",
    "                max_j = min(1, n-start_idx)\n",
    "            else:\n",
    "                max_j = min(3, n-start_idx)\n",
    "\n",
    "            for j in range(1, max_j + 1):\n",
    "                # j = 1...n - start_idx\n",
    "                # start_idx + j = start_idx+1... n\n",
    "                num = int(s[start_idx:start_idx+j])\n",
    "                if num < 256:\n",
    "                    path.append(str(num))\n",
    "                    backtrace(start_idx+j, remains-1)\n",
    "                    path.pop()\n",
    "                else:\n",
    "                    break\n",
    "        backtrace(0, 4)\n",
    "        return paths"
   ],
   "metadata": {
    "collapsed": false
   }
  },
  {
   "cell_type": "markdown",
   "source": [
    "## 递增子序列\n",
    "\n",
    "[力扣 491](https://leetcode.cn/problems/non-decreasing-subsequences/)"
   ],
   "metadata": {
    "collapsed": false
   }
  },
  {
   "cell_type": "markdown",
   "source": [
    "**思路**\n",
    "\n",
    "本题还是回溯+去重, 要找到去重的逻辑，一定要画出回溯树，这是最直观的方法。\n",
    "\n",
    "例如, 输入为: [4, 7, 6, 7] 时, 回溯树如下:\n",
    "\n",
    "![](../../imgs/491_tree.png)\n"
   ],
   "metadata": {
    "collapsed": false
   }
  },
  {
   "cell_type": "code",
   "execution_count": null,
   "outputs": [],
   "source": [
    "class Solution(object):\n",
    "    def findSubsequences(self, nums):\n",
    "        \"\"\"\n",
    "        :type nums: List[int]\n",
    "        :rtype: List[List[int]]\n",
    "        \"\"\"\n",
    "        paths = []\n",
    "        path = []\n",
    "        n = len(nums)\n",
    "        def backtrace(start_idx):\n",
    "            # 返回答案\n",
    "            if len(path) > 1:\n",
    "                paths.append(path[:])\n",
    "\n",
    "            for i in range(start_idx, n):\n",
    "                should_continue = False\n",
    "                for j in range(start_idx, i):\n",
    "                    if nums[i] == nums[j]:\n",
    "                        should_continue = True\n",
    "\n",
    "                if should_continue:\n",
    "                    continue\n",
    "\n",
    "                if len(path)==0 or path[-1]<=nums[i]:\n",
    "                    path.append(nums[i])\n",
    "                    backtrace(i+1)\n",
    "                    path.pop()\n",
    "\n",
    "        backtrace(0)\n",
    "        return paths"
   ],
   "metadata": {
    "collapsed": false
   }
  },
  {
   "cell_type": "markdown",
   "source": [
    "## 全排列\n",
    "\n",
    "[力扣 46](https://leetcode.cn/problems/permutations/)"
   ],
   "metadata": {
    "collapsed": false
   }
  },
  {
   "cell_type": "code",
   "execution_count": null,
   "outputs": [],
   "source": [
    "class Solution(object):\n",
    "    def permute(self, nums):\n",
    "        \"\"\"\n",
    "        :type nums: List[int]\n",
    "        :rtype: List[List[int]]\n",
    "        \"\"\"\n",
    "        paths = []\n",
    "        path = []\n",
    "        def backtrace():\n",
    "            if len(path) == len(nums):\n",
    "                paths.append(path[:])\n",
    "                return\n",
    "            for num in nums:\n",
    "                if num not in path:\n",
    "                    path.append(num)\n",
    "                    backtrace()\n",
    "                    path.pop()\n",
    "        backtrace()\n",
    "        return paths"
   ],
   "metadata": {
    "collapsed": false
   }
  },
  {
   "cell_type": "markdown",
   "source": [
    "## 全排列 II\n",
    "\n",
    "[力扣 47](https://leetcode.cn/problems/permutations-ii/)"
   ],
   "metadata": {
    "collapsed": false
   }
  },
  {
   "cell_type": "markdown",
   "source": [
    "本题的回溯稍稍需要画出回溯树。\n",
    "\n",
    "在回溯树中, 我们发现去重是需要利用到 `used` 状态数组的。回溯树如下:\n",
    "\n",
    "![](../../imgs/47_tree.png)\n",
    "\n",
    "运行性能如下:\n",
    "\n",
    "![](../../imgs/47.png)"
   ],
   "metadata": {
    "collapsed": false
   }
  },
  {
   "cell_type": "code",
   "execution_count": 22,
   "outputs": [],
   "source": [
    "class Solution(object):\n",
    "    def permuteUnique(self, nums):\n",
    "        \"\"\"\n",
    "        :type nums: List[int]\n",
    "        :rtype: List[List[int]]\n",
    "        \"\"\"\n",
    "        paths = []\n",
    "        path = []\n",
    "        used = []\n",
    "\n",
    "        nums.sort()\n",
    "        n = len(nums)\n",
    "\n",
    "        def backtrace():\n",
    "            if len(path) == n:\n",
    "                paths.append(path[:])\n",
    "                return\n",
    "\n",
    "            for i in range(n):\n",
    "                # 回溯去重\n",
    "                if i>0 and nums[i]==nums[i-1] and (i-1 not in used):\n",
    "                    continue\n",
    "                if i not in used:\n",
    "                    path.append(nums[i])\n",
    "                    used.append(i)\n",
    "                    backtrace()\n",
    "                    used.pop()\n",
    "                    path.pop()\n",
    "\n",
    "        backtrace()\n",
    "        return paths"
   ],
   "metadata": {
    "collapsed": false
   }
  },
  {
   "cell_type": "code",
   "execution_count": 23,
   "outputs": [
    {
     "ename": "TypeError",
     "evalue": "unsupported operand type(s) for -: 'list' and 'list'",
     "output_type": "error",
     "traceback": [
      "\u001B[1;31m---------------------------------------------------------------------------\u001B[0m",
      "\u001B[1;31mTypeError\u001B[0m                                 Traceback (most recent call last)",
      "Cell \u001B[1;32mIn[23], line 1\u001B[0m\n\u001B[1;32m----> 1\u001B[0m \u001B[43m[\u001B[49m\u001B[38;5;241;43m1\u001B[39;49m\u001B[43m,\u001B[49m\u001B[43m \u001B[49m\u001B[38;5;241;43m2\u001B[39;49m\u001B[43m,\u001B[49m\u001B[43m \u001B[49m\u001B[38;5;241;43m3\u001B[39;49m\u001B[43m]\u001B[49m\u001B[43m \u001B[49m\u001B[38;5;241;43m-\u001B[39;49m\u001B[43m \u001B[49m\u001B[43m[\u001B[49m\u001B[38;5;241;43m1\u001B[39;49m\u001B[43m]\u001B[49m\n",
      "\u001B[1;31mTypeError\u001B[0m: unsupported operand type(s) for -: 'list' and 'list'"
     ]
    }
   ],
   "source": [
    "[1, 2, 3] - [1]"
   ],
   "metadata": {
    "collapsed": false
   }
  },
  {
   "cell_type": "markdown",
   "source": [
    "## N 皇后\n",
    "\n",
    "[力扣 51](https://leetcode.cn/problems/n-queens/)\n",
    "\n",
    "![](../../imgs/51.png)"
   ],
   "metadata": {
    "collapsed": false
   }
  },
  {
   "cell_type": "code",
   "execution_count": 30,
   "outputs": [],
   "source": [
    "class Solution(object):\n",
    "    def solveNQueens(self, n):\n",
    "        \"\"\"\n",
    "        :type n: int\n",
    "        :rtype: List[List[str]]\n",
    "        \"\"\"\n",
    "        paths = []\n",
    "        path = []\n",
    "        used_cols = []\n",
    "\n",
    "        def backtrace(steps, row):\n",
    "            # 回溯返回解\n",
    "            if steps == 0:\n",
    "                paths.append(path[:])\n",
    "\n",
    "            avail_cols = [col for col in range(n) if col not in used_cols]\n",
    "            for col in avail_cols:\n",
    "                # 尝试在 (row, col) 处放置皇后\n",
    "                # 如果 row, col 不是可行解, 跳过当前选择\n",
    "                should_continue = False\n",
    "                for used_row, used_col in path:\n",
    "                    if used_row == row or used_col == col or abs(row - used_row) == abs(col - used_col):\n",
    "                        should_continue = True\n",
    "                        break\n",
    "                if should_continue:\n",
    "                    continue\n",
    "                # 现在, row, col 是一个可行解, 进一步回溯\n",
    "                if [row, col] not in path:\n",
    "                    path.append([row, col])\n",
    "                    used_cols.append(col)\n",
    "                    backtrace(steps-1, row+1)\n",
    "                    used_cols.pop()\n",
    "                    path.pop()\n",
    "        backtrace(n, 0)\n",
    "        return self.draw(paths)\n",
    "\n",
    "    def draw(self, paths):\n",
    "        str_solutions = []\n",
    "        if len(paths) == 0:\n",
    "            return str_solutions\n",
    "        n = len(paths[0])\n",
    "        for path in paths:\n",
    "            str_solution = []\n",
    "            for row, col in path:\n",
    "                str_solution.append('.'*col +  'Q' + '.'*(n-col-1))\n",
    "            str_solutions.append(str_solution)\n",
    "        return str_solutions"
   ],
   "metadata": {
    "collapsed": false
   }
  }
 ],
 "metadata": {
  "kernelspec": {
   "display_name": "Python 3",
   "language": "python",
   "name": "python3"
  },
  "language_info": {
   "codemirror_mode": {
    "name": "ipython",
    "version": 2
   },
   "file_extension": ".py",
   "mimetype": "text/x-python",
   "name": "python",
   "nbconvert_exporter": "python",
   "pygments_lexer": "ipython2",
   "version": "2.7.6"
  }
 },
 "nbformat": 4,
 "nbformat_minor": 0
}
