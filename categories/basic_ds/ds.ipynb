{
 "cells": [
  {
   "cell_type": "markdown",
   "source": [
    "# 基础数据结构"
   ],
   "metadata": {
    "collapsed": false
   }
  },
  {
   "cell_type": "markdown",
   "source": [
    "## 用队列实现栈(232)\n",
    "\n",
    "[力扣 232](https://leetcode-cn.com/problems/implement-queue-using-stacks/)"
   ],
   "metadata": {
    "collapsed": false
   }
  },
  {
   "cell_type": "markdown",
   "source": [
    "![](../../imgs/225.png)"
   ],
   "metadata": {
    "collapsed": false
   }
  },
  {
   "cell_type": "code",
   "execution_count": 1,
   "metadata": {
    "collapsed": true
   },
   "outputs": [],
   "source": [
    "class MyStack:\n",
    "\n",
    "    def __init__(self):\n",
    "        self.store = []\n",
    "        self.temp = []\n",
    "\n",
    "    def push(self, x: int) -> None:\n",
    "        self.store.push(x)\n",
    "\n",
    "    def pop(self) -> int:\n",
    "        while len(self.store) > 1:\n",
    "            self.temp.append(self.store.pop(0))\n",
    "        pop_elem = self.store.pop(0)\n",
    "        while len(self.temp) > 0:\n",
    "            self.store.append(self.temp.pop(0))\n",
    "        return pop_elem\n",
    "\n",
    "    def top(self) -> int:\n",
    "        while len(self.store) > 1:\n",
    "            self.temp.append(self.store.pop(0))\n",
    "        top_elem = self.store[0]\n",
    "        self.temp.append(self.store.pop(0))\n",
    "        while len(self.temp) > 0:\n",
    "            self.store.append(self.temp.pop(0))\n",
    "        return top_elem\n",
    "\n",
    "    def empty(self) -> bool:\n",
    "        return len(self.store) == 0"
   ]
  },
  {
   "cell_type": "code",
   "execution_count": 29,
   "outputs": [
    {
     "name": "stdout",
     "output_type": "stream",
     "text": [
      "self.K: 2\n",
      "self.K: 2\n",
      "before next, i=0, k=0\n",
      "in next, i=0, k=0\n",
      "after next, i=0, k=1\n",
      "self.K: 2\n",
      "counter:  1\n",
      "self.i:  0\n",
      "self.k:  1\n",
      "self.v_list[self.k]:  []\n",
      "len(self.v_list[self.k]):  0\n",
      "before next, i=0, k=1\n",
      "in next, i=1, k=1\n"
     ]
    },
    {
     "ename": "IndexError",
     "evalue": "list index out of range",
     "output_type": "error",
     "traceback": [
      "\u001B[1;31m---------------------------------------------------------------------------\u001B[0m",
      "\u001B[1;31mIndexError\u001B[0m                                Traceback (most recent call last)",
      "Cell \u001B[1;32mIn[29], line 51\u001B[0m\n\u001B[0;32m     49\u001B[0m v1, v2 \u001B[38;5;241m=\u001B[39m [\u001B[38;5;241m1\u001B[39m], []\n\u001B[0;32m     50\u001B[0m i, v \u001B[38;5;241m=\u001B[39m ZigzagIterator(v1, v2), []\n\u001B[1;32m---> 51\u001B[0m \u001B[38;5;28;01mwhile\u001B[39;00m i\u001B[38;5;241m.\u001B[39mhasNext(): v\u001B[38;5;241m.\u001B[39mappend(i\u001B[38;5;241m.\u001B[39mnext())\n",
      "Cell \u001B[1;32mIn[29], line 20\u001B[0m, in \u001B[0;36mZigzagIterator.next\u001B[1;34m(self)\u001B[0m\n\u001B[0;32m     17\u001B[0m     counter \u001B[38;5;241m+\u001B[39m\u001B[38;5;241m=\u001B[39m \u001B[38;5;241m1\u001B[39m\n\u001B[0;32m     18\u001B[0m \u001B[38;5;28mprint\u001B[39m(\u001B[38;5;124m'\u001B[39m\u001B[38;5;124min next, i=\u001B[39m\u001B[38;5;132;01m{}\u001B[39;00m\u001B[38;5;124m, k=\u001B[39m\u001B[38;5;132;01m{}\u001B[39;00m\u001B[38;5;124m'\u001B[39m\u001B[38;5;241m.\u001B[39mformat(\u001B[38;5;28mself\u001B[39m\u001B[38;5;241m.\u001B[39mi, \u001B[38;5;28mself\u001B[39m\u001B[38;5;241m.\u001B[39mk))\n\u001B[1;32m---> 20\u001B[0m next_elem \u001B[38;5;241m=\u001B[39m \u001B[38;5;28;43mself\u001B[39;49m\u001B[38;5;241;43m.\u001B[39;49m\u001B[43mv_list\u001B[49m\u001B[43m[\u001B[49m\u001B[38;5;28;43mself\u001B[39;49m\u001B[38;5;241;43m.\u001B[39;49m\u001B[43mk\u001B[49m\u001B[43m]\u001B[49m\u001B[43m[\u001B[49m\u001B[38;5;28;43mself\u001B[39;49m\u001B[38;5;241;43m.\u001B[39;49m\u001B[43mi\u001B[49m\u001B[43m]\u001B[49m\n\u001B[0;32m     21\u001B[0m \u001B[38;5;28mself\u001B[39m\u001B[38;5;241m.\u001B[39mk \u001B[38;5;241m=\u001B[39m (\u001B[38;5;28mself\u001B[39m\u001B[38;5;241m.\u001B[39mk \u001B[38;5;241m+\u001B[39m \u001B[38;5;241m1\u001B[39m) \u001B[38;5;241m%\u001B[39m \u001B[38;5;28mself\u001B[39m\u001B[38;5;241m.\u001B[39mK\n\u001B[0;32m     22\u001B[0m \u001B[38;5;28;01mif\u001B[39;00m \u001B[38;5;28mself\u001B[39m\u001B[38;5;241m.\u001B[39mk \u001B[38;5;241m==\u001B[39m \u001B[38;5;241m0\u001B[39m:\n\u001B[0;32m     23\u001B[0m     \u001B[38;5;66;03m# 如果是重新回到开头, 那么就要 i += 1\u001B[39;00m\n\u001B[0;32m     24\u001B[0m     \u001B[38;5;66;03m# counter = 0\u001B[39;00m\n",
      "\u001B[1;31mIndexError\u001B[0m: list index out of range"
     ]
    }
   ],
   "source": [
    "class ZigzagIterator:\n",
    "    def __init__(self, v1, v2):\n",
    "        self.v_list = [v1, v2]\n",
    "        self.K = len(self.v_list)\n",
    "        self.k = 0\n",
    "        self.i = 0\n",
    "        print('self.K:', self.K)\n",
    "\n",
    "    def next(self) -> int:\n",
    "        print('before next, i={}, k={}'.format(self.i, self.k))\n",
    "\n",
    "        counter = 0\n",
    "        while counter < self.K and self.i >= len(self.v_list[self.k]):\n",
    "            self.k = (self.k + 1) % self.K\n",
    "            if self.k == 0:\n",
    "                self.i += 1\n",
    "            counter += 1\n",
    "        print('in next, i={}, k={}'.format(self.i, self.k))\n",
    "\n",
    "        next_elem = self.v_list[self.k][self.i]\n",
    "        self.k = (self.k + 1) % self.K\n",
    "        if self.k == 0:\n",
    "            # 如果是重新回到开头, 那么就要 i += 1\n",
    "            # counter = 0\n",
    "            self.i += 1\n",
    "            # while counter < self.K and self.i >= len(self.v_list[self.k]):\n",
    "            #     self.k = (self.k + 1) % self.K\n",
    "            #     counter += 1\n",
    "        print('after next, i={}, k={}'.format(self.i, self.k))\n",
    "        return next_elem\n",
    "\n",
    "    def hasNext(self) -> bool:\n",
    "        counter = 0\n",
    "        k_copy = self.k\n",
    "        print('self.K:', self.K)\n",
    "        while counter < self.K and self.i >= len(self.v_list[k_copy]):\n",
    "            k_copy = (k_copy + 1) % self.K\n",
    "            counter += 1\n",
    "            print('counter: ', counter)\n",
    "            print('self.i: ', self.i)\n",
    "            print('self.k: ', self.k)\n",
    "            print('self.v_list[self.k]: ', self.v_list[self.k])\n",
    "            print('len(self.v_list[self.k]): ', len(self.v_list[self.k]))\n",
    "        if counter >= self.K:\n",
    "            return False\n",
    "        return True\n",
    "\n",
    "# Your ZigzagIterator object will be instantiated and called as such:\n",
    "v1, v2 = [1], []\n",
    "i, v = ZigzagIterator(v1, v2), []\n",
    "while i.hasNext(): v.append(i.next())"
   ],
   "metadata": {
    "collapsed": false
   }
  },
  {
   "cell_type": "code",
   "execution_count": 8,
   "outputs": [
    {
     "data": {
      "text/plain": "[1, 3, 2, 4, 5, 6]"
     },
     "execution_count": 8,
     "metadata": {},
     "output_type": "execute_result"
    }
   ],
   "source": [
    "v"
   ],
   "metadata": {
    "collapsed": false
   }
  },
  {
   "cell_type": "code",
   "execution_count": null,
   "outputs": [],
   "source": [],
   "metadata": {
    "collapsed": false
   }
  }
 ],
 "metadata": {
  "kernelspec": {
   "display_name": "Python 3",
   "language": "python",
   "name": "python3"
  },
  "language_info": {
   "codemirror_mode": {
    "name": "ipython",
    "version": 2
   },
   "file_extension": ".py",
   "mimetype": "text/x-python",
   "name": "python",
   "nbconvert_exporter": "python",
   "pygments_lexer": "ipython2",
   "version": "2.7.6"
  }
 },
 "nbformat": 4,
 "nbformat_minor": 0
}
