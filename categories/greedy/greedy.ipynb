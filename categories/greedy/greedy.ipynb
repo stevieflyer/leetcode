{
 "cells": [
  {
   "cell_type": "markdown",
   "source": [
    "# 贪心算法"
   ],
   "metadata": {
    "collapsed": false
   }
  },
  {
   "cell_type": "markdown",
   "source": [
    "## 分发饼干(455)\n",
    "\n",
    "[力扣 455. 分发饼干](https://leetcode-cn.com/problems/assign-cookies/)"
   ],
   "metadata": {
    "collapsed": false
   }
  },
  {
   "cell_type": "markdown",
   "source": [
    "![](../../imgs/455.png)"
   ],
   "metadata": {
    "collapsed": false
   }
  },
  {
   "cell_type": "code",
   "execution_count": 2,
   "outputs": [],
   "source": [
    "class Solution:\n",
    "    def findContentChildren(self, g, s):\n",
    "        g.sort()  # children\n",
    "        s.sort()  # cookies\n",
    "\n",
    "        i, ans = 0, 0\n",
    "        for child in g:\n",
    "            while i<len(s) and s[i] < child:\n",
    "                i += 1\n",
    "            if i == len(s):\n",
    "                break\n",
    "            ans += 1\n",
    "            i += 1\n",
    "        return ans"
   ],
   "metadata": {
    "collapsed": false
   }
  },
  {
   "cell_type": "markdown",
   "source": [],
   "metadata": {
    "collapsed": false
   }
  },
  {
   "cell_type": "markdown",
   "source": [
    "## 摆动序列(376)\n",
    "\n",
    "[力扣 376. 摆动序列](https://leetcode-cn.com/problems/wiggle-subsequence/)"
   ],
   "metadata": {
    "collapsed": false
   }
  },
  {
   "cell_type": "markdown",
   "source": [
    "**思路**\n",
    "\n",
    "贪心算法, 从左到右, 如果可以锯齿, 那么就锯齿, 否则, 更新 `last_digit` 为当前数字, 使得下一次更可能为锯齿。\n",
    "\n",
    "实现过程中, 需要注意初始化的细节。\n",
    "\n",
    "![](../../imgs/376.png)"
   ],
   "metadata": {
    "collapsed": false
   }
  },
  {
   "cell_type": "code",
   "execution_count": 3,
   "outputs": [],
   "source": [
    "class Solution:\n",
    "    def wiggleMaxLength(self, nums):\n",
    "        n = len(nums)\n",
    "        # special case\n",
    "        if n == 1:\n",
    "            return n\n",
    "\n",
    "        # general case, n > 2\n",
    "        length, i, last_digit = 1, 1, nums[0]\n",
    "\n",
    "        # 1. init\n",
    "        while i<n and nums[i]==last_digit:\n",
    "            i += 1\n",
    "        if i == n:\n",
    "            return length\n",
    "        expect_inc = last_digit > nums[i]\n",
    "        length += 1\n",
    "        last_digit = nums[i]\n",
    "        i += 1\n",
    "\n",
    "        # 2. iterate\n",
    "        while i < n:\n",
    "            if  (expect_inc and nums[i]>last_digit) or ((not expect_inc) and nums[i]<last_digit):\n",
    "                length += 1\n",
    "                expect_inc = not expect_inc\n",
    "            last_digit = nums[i]\n",
    "            i += 1\n",
    "\n",
    "        return length"
   ],
   "metadata": {
    "collapsed": false
   }
  },
  {
   "cell_type": "markdown",
   "source": [
    "## 最大子数组和(53)\n",
    "\n",
    "[力扣 53. 最大子序和](https://leetcode-cn.com/problems/maximum-subarray/)"
   ],
   "metadata": {
    "collapsed": false
   }
  },
  {
   "cell_type": "markdown",
   "source": [
    "### 方法一: 此处, 贪心 <=> 动态规划\n",
    "\n",
    "**动态规划理解**:\n",
    "\n",
    "`dp[i]` 代表以 `nums[i]` 结尾的最大子数组和。不过此处由于状态转移为:\n",
    "\n",
    " $$dp[i] = max(dp[i-1]+nums[i], nums[i])$$\n",
    "\n",
    "即, `dp[i]` 只与 `dp[i-1]` 有关, 因此我们可以只存储一个数字 dp 即可, 而不是数组。\n",
    "\n",
    "**贪心理解**:\n",
    "\n",
    "从左到右取数, 一旦当前总和为负数, 那么就抛弃之前的数字, 从当前数字开始重新计算总和。\n",
    "\n",
    "**小发现**:\n",
    "\n",
    "同样的代码, 在 Python3 运行环境需要内存 29.5MB, 但是在 Python 中只需要 21.6 MB。\n",
    "\n",
    "![](../../imgs/53_dp.png)"
   ],
   "metadata": {
    "collapsed": false
   }
  },
  {
   "cell_type": "code",
   "execution_count": null,
   "outputs": [],
   "source": [
    "class Solution:\n",
    "    def maxSubArray(self, nums):\n",
    "        dp, max_sum = 0, nums[0]\n",
    "        for i in range(len(nums)):\n",
    "            dp = dp + nums[i] if dp > 0 else nums[i]\n",
    "            if dp > max_sum:\n",
    "                max_sum = dp\n",
    "        return max_sum\n"
   ],
   "metadata": {
    "collapsed": false
   }
  },
  {
   "cell_type": "markdown",
   "source": [
    "## 股票买卖 II(122)\n",
    "\n",
    "[力扣 122. 买卖股票的最佳时机 II](https://leetcode-cn.com/problems/best-time-to-buy-and-sell-stock-ii/)"
   ],
   "metadata": {
    "collapsed": false
   }
  },
  {
   "cell_type": "markdown",
   "source": [
    "![](../../imgs/122.png)"
   ],
   "metadata": {
    "collapsed": false
   }
  },
  {
   "cell_type": "code",
   "execution_count": 8,
   "outputs": [],
   "source": [
    "class Solution(object):\n",
    "    def maxProfit(self, prices):\n",
    "        n = len(prices)\n",
    "        total_profit = 0\n",
    "\n",
    "        hold = -1\n",
    "        for i in range(n):\n",
    "            if hold == -1:\n",
    "                # 手头没有股票, 看准时机买\n",
    "                if i<n-1 and prices[i] >= prices[i+1]:\n",
    "                    continue\n",
    "                else:\n",
    "                    # 跌停, 买入股票\n",
    "                    hold = prices[i]\n",
    "            else:\n",
    "                # 已经持有股票了, 看准时机卖\n",
    "                if i<n-1 and prices[i] <= prices[i+1]:\n",
    "                    continue\n",
    "                else:\n",
    "                    # 涨停, 卖出股票\n",
    "                    total_profit += (prices[i] - hold)\n",
    "                    hold = -1\n",
    "        return total_profit\n"
   ],
   "metadata": {
    "collapsed": false
   }
  },
  {
   "cell_type": "markdown",
   "source": [
    "## 跳跃游戏 I(55)\n",
    "\n",
    "[力扣 55. 跳跃游戏](https://leetcode-cn.com/problems/jump-game/)"
   ],
   "metadata": {
    "collapsed": false
   }
  },
  {
   "cell_type": "markdown",
   "source": [
    "## 方法一: 动态规划\n",
    "\n",
    "本题可以使用动态规划, 但是由于状态转移的计算需要 $O(n)$ 时间复杂度为 $O(n^2)$, 会濒临超时边缘。\n",
    "\n",
    "- 时间复杂度: $O(n^2)$\n",
    "- 空间复杂度: $O(n)$"
   ],
   "metadata": {
    "collapsed": false
   }
  },
  {
   "cell_type": "code",
   "execution_count": null,
   "outputs": [],
   "source": [
    " class Solution(object):\n",
    "    def canJump(self, nums):\n",
    "        \"\"\"\n",
    "        :type nums: List[int]\n",
    "        :rtype: bool\n",
    "        \"\"\"\n",
    "        # 动态规划，反而比较费时间空间\n",
    "        n = len(nums)\n",
    "        dp = [False] * n\n",
    "        dp[n-1] = True\n",
    "        for i in range(n-2, -1, -1):\n",
    "            # calcualte dp[i] based on dp[i+1...n-1]\n",
    "            for j in range(i+1, min(i+nums[i]+1, n)):\n",
    "                if dp[j]:\n",
    "                    dp[i] =  True\n",
    "                    break\n",
    "        return dp[0]"
   ],
   "metadata": {
    "collapsed": false
   }
  },
  {
   "cell_type": "markdown",
   "source": [
    "### 方法二: 贪心策略"
   ],
   "metadata": {
    "collapsed": false
   }
  },
  {
   "cell_type": "code",
   "execution_count": null,
   "outputs": [],
   "source": [
    "class Solution(object):\n",
    "    def canJump(self, nums):\n",
    "        \"\"\"\n",
    "        :type nums: List[int]\n",
    "        :rtype: bool\n",
    "        \"\"\"\n",
    "        # 最佳解法： 贪心\n",
    "        cur_best = 0\n",
    "        for i in range(0, len(nums)):\n",
    "            if i > cur_best:\n",
    "                return False\n",
    "            cur_best = max(cur_best, i + nums[i])\n",
    "            if cur_best >= len(nums) - 1:\n",
    "                return True\n"
   ],
   "metadata": {
    "collapsed": false
   }
  },
  {
   "cell_type": "markdown",
   "source": [
    "## 跳跃游戏 II(45)\n",
    "\n",
    "[力扣 45. 跳跃游戏 II](https://leetcode-cn.com/problems/jump-game-ii/)"
   ],
   "metadata": {
    "collapsed": false
   }
  },
  {
   "cell_type": "markdown",
   "source": [
    "### 方法一: 动态规划\n",
    "\n",
    "本题可以使用动态规划, 但是由于状态转移的计算需要 $O(n)$ 时间复杂度为 $O(n^2)$, 会濒临超时边缘。\n",
    "\n",
    "- 时间复杂度: $O(n^2)$\n",
    "- 空间复杂度: $O(n)$\n",
    "\n",
    "![](../../imgs/45_dp.png)"
   ],
   "metadata": {
    "collapsed": false
   }
  },
  {
   "cell_type": "code",
   "execution_count": 4,
   "metadata": {
    "collapsed": true
   },
   "outputs": [],
   "source": [
    "class Solution:\n",
    "    def jump(self, nums):\n",
    "        # special case\n",
    "        n = len(nums)\n",
    "        if n == 1:\n",
    "            return 0\n",
    "\n",
    "        # general case, n >= 2\n",
    "        # 1. dp init\n",
    "        dp = [n] * n\n",
    "        dp[n-1] = 0\n",
    "\n",
    "        # 2. dp sweep\n",
    "        for i in range(n-2, -1, -1):\n",
    "            # i = n-2...0\n",
    "            if nums[i] + i >= n-1:\n",
    "                dp[i] = 1\n",
    "                continue\n",
    "            for j in range(nums[i], -1, -1):\n",
    "                dp[i] = min(dp[i], dp[i+j]+1)\n",
    "\n",
    "        return dp[0]\n"
   ]
  },
  {
   "cell_type": "markdown",
   "source": [
    "### 方法二: 贪心策略\n",
    "\n",
    "贪心策略: 尽可能扩大可达范围!\n",
    "\n",
    "![](../../imgs/45_greedy.png)"
   ],
   "metadata": {
    "collapsed": false
   }
  },
  {
   "cell_type": "code",
   "execution_count": null,
   "outputs": [],
   "source": [
    "class Solution:\n",
    "    def jump(self, nums):\n",
    "        n = len(nums)\n",
    "        # special case\n",
    "        if n == 1:\n",
    "            return 0\n",
    "        # general case\n",
    "        i, steps = 0, 1\n",
    "        max_coverage = nums[0]\n",
    "        while i < n and max_coverage < n-1:\n",
    "            for j in range(i+1, max_coverage+1):\n",
    "                if nums[j]+j > max_coverage:\n",
    "                    max_coverage = nums[j]+j\n",
    "                    if max_coverage >= n-1:\n",
    "                        break\n",
    "                    i = j\n",
    "            steps += 1\n",
    "        return steps\n"
   ],
   "metadata": {
    "collapsed": false
   }
  },
  {
   "cell_type": "markdown",
   "source": [
    "## K次取反后最大化的数组和(1005)\n",
    "\n",
    "[力扣 1005. K 次取反后最大化的数组和](https://leetcode-cn.com/problems/maximize-sum-of-array-after-k-negations/)"
   ],
   "metadata": {
    "collapsed": false
   }
  },
  {
   "cell_type": "markdown",
   "source": [
    "### 方法一: 贪心策略\n",
    "\n",
    "按照绝对值从大到小排序。\n",
    "\n",
    "从左向右遍历\n",
    "1. 如果是负数, 则取反, 直至 k 用尽\n",
    "2. 如果取反了所有负数后,  k 仍没有用尽且 k 为奇数, 则将**绝对值**最小的数取反\n",
    "\n",
    "这里我们使用了 python 列表自带的 `sort` 方法, 一般这个方法的时间复杂度为 $O(nlogn)$。\n",
    "\n",
    "- 时间复杂度: $O(nlogn)$\n",
    "- 空间复杂度: $O(1)$\n",
    "\n",
    "![](../../imgs/1005.png)"
   ],
   "metadata": {
    "collapsed": false
   }
  },
  {
   "cell_type": "code",
   "execution_count": 9,
   "outputs": [],
   "source": [
    "class Solution:\n",
    "    def largestSumAfterKNegations(self, nums, k):\n",
    "        a = sorted(nums, key=lambda x: abs(x), reverse=True)\n",
    "        for i, x in enumerate(a):\n",
    "            if x < 0 and k > 0:\n",
    "                a[i] *= -1\n",
    "                k -= 1\n",
    "        if k % 2 == 1:\n",
    "            a[-1] *= -1\n",
    "        return sum(a)\n"
   ],
   "metadata": {
    "collapsed": false
   }
  },
  {
   "cell_type": "markdown",
   "source": [
    "### 方法二: 空间换时间: 桶排序 +  贪心\n",
    "\n",
    "这里的排序我们也可以不使用 `sort` 方法, 而是使用桶排序, 而桶排序的时间复杂度为 $O(n)$, 空间复杂度为 $O(n)$。\n",
    "\n",
    "- 时间复杂度: $O(n)$\n",
    "- 空间复杂度: $O(n)$"
   ],
   "metadata": {
    "collapsed": false
   }
  },
  {
   "cell_type": "code",
   "execution_count": 10,
   "outputs": [],
   "source": [
    "from collections import Counter\n",
    "\n",
    "class Solution:\n",
    "    def largestSumAfterKNegations(self, nums, k):\n",
    "        freq = Counter(nums)\n",
    "        ans = sum(nums)\n",
    "        for i in range(-100, 0):\n",
    "            if freq[i]:\n",
    "                ops = min(k, freq[i])\n",
    "                ans += -i * ops * 2\n",
    "                freq[i] -= ops\n",
    "                freq[-i] += ops\n",
    "                k -= ops\n",
    "                if k == 0:\n",
    "                    break\n",
    "\n",
    "        if k > 0 and k % 2 == 1 and not freq[0]:\n",
    "            for i in range(1, 101):\n",
    "                if freq[i]:\n",
    "                    ans -= i * 2\n",
    "                    break\n",
    "\n",
    "        return ans"
   ],
   "metadata": {
    "collapsed": false
   }
  },
  {
   "cell_type": "markdown",
   "source": [
    "## 加油站(134)\n",
    "\n",
    "[力扣 134. 加油站](https://leetcode-cn.com/problems/gas-station/)"
   ],
   "metadata": {
    "collapsed": false
   }
  },
  {
   "cell_type": "markdown",
   "source": [
    "### 方法一: 暴力法\n",
    "\n",
    "我们遍历每一个位置作为起点, 然后模拟跑一圈, 如果成功了, 就返回起点。\n",
    "\n",
    "这种做法十分直观, 但是由于本题的 `n` 的范围达到了 $10^5$, 因此这种 $O(n^2) $必然是会超时的。\n",
    "\n",
    "- 时间复杂度: $O(n^2)$\n",
    "- 空间复杂度: $O(1)$"
   ],
   "metadata": {
    "collapsed": false
   }
  },
  {
   "cell_type": "code",
   "execution_count": 12,
   "outputs": [],
   "source": [
    "class Solution:\n",
    "    def canCompleteCircuit(self, gas, cost):\n",
    "        n = len(gas)\n",
    "\n",
    "        for i in range(n):\n",
    "            # 尝试以 i 为起点, 模拟跑一圈\n",
    "            j = i\n",
    "            oil = 0\n",
    "            while j != i + len(gas):\n",
    "                cur = j % len(gas)\n",
    "                oil += (gas[cur] - cost[cur])\n",
    "                j += 1\n",
    "                if oil < 0:\n",
    "                    break\n",
    "            # 如果成功了, 就返回 i\n",
    "            if j == i + len(gas) and oil>=0:\n",
    "                return i\n",
    "        # 尝试遍了, 也没有找到解, 返回 -1\n",
    "        return -1"
   ],
   "metadata": {
    "collapsed": false
   }
  },
  {
   "cell_type": "markdown",
   "source": [
    "### 方法二: 贪心策略\n",
    "\n",
    "**贪心策略1: 快速排除无效解**\n",
    "\n",
    "我们从数组开头往后跑, 如果一旦发现油不够了, 则说明该位置之前的任何一个位置都不能作为起点, 因为如果从这些位置出发, 都会发现油不够。所以, 我们直接将下一个位置作为可能的起点开始尝试, 并且将油量清零。这样的策略就是 $O(N)$ 的时间复杂度了。\n",
    "\n",
    "上面的贪心有效性可以简单证明如下:\n",
    "\n",
    "- 车辆从 $0$ 位置跑到 $i$ 位置油量不够, 这也说明: 从 $0$ 位置跑到 $1...i-1$ 位置的油都是够的, 因此当车辆经过 $j$ 位置($0<=j<=i$)时, 车辆的油量必然是大于等于 $0$ 的。\n",
    "- 如果车辆从 $j$ 位置出发, 即: 车辆初始油量为 $0$ 从 $j$ 位置出发, 然而从上面的结论我们可以看到, 哪怕初始油量 $j >= 0$ 时也无法到达 $i$, 那么以 $j$ 为起点则是肯定到不了 $i$ 的。\n",
    "- 因此, 我们可以排除 $0...i-1$ 所有位置的可能性。\n",
    "\n",
    "**贪心策略2: 只要 $sum(cost)<=sum(gas)$ 就一定有解**\n",
    "\n",
    "![](../../imgs/134_greedy.png)"
   ],
   "metadata": {
    "collapsed": false
   }
  },
  {
   "cell_type": "code",
   "execution_count": null,
   "outputs": [],
   "source": [
    "class Solution:\n",
    "    def canCompleteCircuit(self, gas, cost):\n",
    "        if sum(gas) < sum(cost):\n",
    "            return -1\n",
    "\n",
    "        n = len(gas)\n",
    "        start = 0       # 记录出发点，从索引0开始\n",
    "        oil = 0       # 记录汽车实际油量\n",
    "        for i in range(n):\n",
    "            oil += (gas[i] - cost[i])  # 每个站点加油量相当于 gas[i] - cost[i]\n",
    "            if oil < 0:       # 在i处的油量<0，说明从之前站点出发的车均无法到达i\n",
    "                start = i+1     # 尝试从下一个站点i+1重新出发\n",
    "                oil = 0       # 重新出发时油量置为0\n",
    "\n",
    "        return start    # 解是唯一的"
   ],
   "metadata": {
    "collapsed": false
   }
  },
  {
   "cell_type": "code",
   "execution_count": 13,
   "outputs": [],
   "source": [
    "a = [1, 2, 3]"
   ],
   "metadata": {
    "collapsed": false
   }
  },
  {
   "cell_type": "code",
   "execution_count": 14,
   "outputs": [
    {
     "data": {
      "text/plain": "[3, 2, 1]"
     },
     "execution_count": 14,
     "metadata": {},
     "output_type": "execute_result"
    }
   ],
   "source": [
    "a[::-1]"
   ],
   "metadata": {
    "collapsed": false
   }
  },
  {
   "cell_type": "code",
   "execution_count": 15,
   "outputs": [
    {
     "name": "stdout",
     "output_type": "stream",
     "text": [
      "0\n",
      "2\n",
      "4\n"
     ]
    }
   ],
   "source": [
    "for i in range(0, 5, 2):\n",
    "    print(i)"
   ],
   "metadata": {
    "collapsed": false
   }
  },
  {
   "cell_type": "code",
   "execution_count": 16,
   "outputs": [
    {
     "data": {
      "text/plain": "'321'"
     },
     "execution_count": 16,
     "metadata": {},
     "output_type": "execute_result"
    }
   ],
   "source": [
    "a = '123'\n",
    "\n",
    "a[::-1]"
   ],
   "metadata": {
    "collapsed": false
   }
  },
  {
   "cell_type": "code",
   "execution_count": 18,
   "outputs": [
    {
     "data": {
      "text/plain": "'dc'"
     },
     "execution_count": 18,
     "metadata": {},
     "output_type": "execute_result"
    }
   ],
   "source": [
    "a = \"abcd\"\n",
    "\n",
    "a[2:4][::-1]"
   ],
   "metadata": {
    "collapsed": false
   }
  },
  {
   "cell_type": "code",
   "execution_count": null,
   "outputs": [],
   "source": [],
   "metadata": {
    "collapsed": false
   }
  }
 ],
 "metadata": {
  "kernelspec": {
   "display_name": "Python 3",
   "language": "python",
   "name": "python3"
  },
  "language_info": {
   "codemirror_mode": {
    "name": "ipython",
    "version": 2
   },
   "file_extension": ".py",
   "mimetype": "text/x-python",
   "name": "python",
   "nbconvert_exporter": "python",
   "pygments_lexer": "ipython2",
   "version": "2.7.6"
  }
 },
 "nbformat": 4,
 "nbformat_minor": 0
}
