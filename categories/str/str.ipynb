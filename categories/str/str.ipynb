{
 "cells": [
  {
   "cell_type": "markdown",
   "source": [
    "# String"
   ],
   "metadata": {
    "collapsed": false
   }
  },
  {
   "cell_type": "markdown",
   "source": [
    "## 反转字符串 II(541)\n",
    "\n",
    "[力扣 541](https://leetcode-cn.com/problems/reverse-string-ii/)"
   ],
   "metadata": {
    "collapsed": false
   }
  },
  {
   "cell_type": "markdown",
   "source": [
    "![](../../imgs/541.png)"
   ],
   "metadata": {
    "collapsed": false
   }
  },
  {
   "cell_type": "code",
   "execution_count": 2,
   "metadata": {
    "collapsed": true
   },
   "outputs": [],
   "source": [
    "class Solution:\n",
    "    def reverseStr(self, s: str, k: int) -> str:\n",
    "        n = len(s)\n",
    "\n",
    "        ans = []\n",
    "        should_reverse = True\n",
    "        for start in range(0, n, k):\n",
    "            end = min(n-1, start + k - 1)\n",
    "            # 反转 s[start...end]\n",
    "            if should_reverse:\n",
    "                ans.append(s[start:end+1][::-1])\n",
    "            else:\n",
    "                ans.append(s[start:end+1])\n",
    "            should_reverse = not should_reverse\n",
    "        return \"\".join(ans)\n"
   ]
  },
  {
   "cell_type": "markdown",
   "source": [
    "## 反转字符串中的单词 (151)\n",
    "\n",
    "[力扣 151](https://leetcode-cn.com/problems/reverse-words-in-a-string/)"
   ],
   "metadata": {
    "collapsed": false
   }
  },
  {
   "cell_type": "markdown",
   "source": [
    "![](../../imgs/151.png)"
   ],
   "metadata": {
    "collapsed": false
   }
  },
  {
   "cell_type": "code",
   "execution_count": 3,
   "outputs": [],
   "source": [
    "class Solution:\n",
    "    def reverseWords(self, s: str) -> str:\n",
    "        n = len(s)\n",
    "        words = []\n",
    "\n",
    "        i, j = 0, 0\n",
    "        while j < n:\n",
    "            # 每次循环开始时, i == j\n",
    "            # 1. 跳过空格\n",
    "            while j < n and s[j] == ' ':\n",
    "                i += 1\n",
    "                j += 1\n",
    "            if j == n:\n",
    "                break\n",
    "            # 2. i, j 都已经指向单词开头, 接下来找单词结尾\n",
    "            while j < n and s[j] != ' ':\n",
    "                j += 1\n",
    "            # 3. 现在, j 指向了空格或者字符串结尾的 NULL, s[i:j] 就是一个单词\n",
    "            words.append(s[i:j])\n",
    "\n",
    "            # 4. 保持 i, j 在下次循环时一致\n",
    "            i = j\n",
    "\n",
    "        return \" \".join(words[::-1])"
   ],
   "metadata": {
    "collapsed": false
   }
  },
  {
   "cell_type": "code",
   "execution_count": 3,
   "outputs": [],
   "source": [],
   "metadata": {
    "collapsed": false
   }
  }
 ],
 "metadata": {
  "kernelspec": {
   "display_name": "Python 3",
   "language": "python",
   "name": "python3"
  },
  "language_info": {
   "codemirror_mode": {
    "name": "ipython",
    "version": 2
   },
   "file_extension": ".py",
   "mimetype": "text/x-python",
   "name": "python",
   "nbconvert_exporter": "python",
   "pygments_lexer": "ipython2",
   "version": "2.7.6"
  }
 },
 "nbformat": 4,
 "nbformat_minor": 0
}
