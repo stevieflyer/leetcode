{
 "cells": [
  {
   "cell_type": "markdown",
   "source": [
    "## 子集\n",
    "\n",
    "[力扣 72](https://leetcode.cn/problems/subsets/)\n"
   ],
   "metadata": {
    "collapsed": false
   }
  },
  {
   "cell_type": "markdown",
   "source": [
    "### 方法一: DFS"
   ],
   "metadata": {
    "collapsed": false
   }
  },
  {
   "cell_type": "code",
   "execution_count": 1,
   "metadata": {
    "collapsed": true
   },
   "outputs": [],
   "source": [
    "class Solution(object):\n",
    "    ans = []\n",
    "    def subsets(self, nums):\n",
    "        \"\"\"\n",
    "        :type nums: List[int]\n",
    "        :rtype: List[List[int]]\n",
    "        \"\"\"\n",
    "        self.ans = [[]]\n",
    "        self.backtrace(nums, [])\n",
    "        return self.ans\n",
    "\n",
    "    def backtrace(self, nums, sub):\n",
    "        if len(nums) == 0:\n",
    "            return\n",
    "        # 有当前元素\n",
    "        self.ans.append(sub + [nums[0]])\n",
    "        self.backtrace(nums[1:], sub + [nums[0]])\n",
    "        # 没有当前元素\n",
    "        self.backtrace(nums[1:], sub)\n"
   ]
  },
  {
   "cell_type": "markdown",
   "source": [
    "### 方法二: BFS\n",
    "\n",
    "我们留意每次 `nums` 规模扩大时增加的项目。\n",
    "\n",
    "[] -->  [1]   --> [2], [1, 2]  --> [3], [1,3], [2,3], [1,2,3]"
   ],
   "metadata": {
    "collapsed": false
   }
  },
  {
   "cell_type": "code",
   "execution_count": 2,
   "outputs": [],
   "source": [
    "class Solution(object):\n",
    "    def subsets(self, nums):\n",
    "        \"\"\"\n",
    "        :type nums: List[int]\n",
    "        :rtype: List[List[int]]\n",
    "        \"\"\"\n",
    "        ans = [[]]\n",
    "        n = len(nums)\n",
    "        for i in range(n):\n",
    "            for j in range(len(ans)):\n",
    "                ans.append(ans[j] + [nums[i]])\n",
    "        return ans\n"
   ],
   "metadata": {
    "collapsed": false
   }
  },
  {
   "cell_type": "markdown",
   "source": [
    "## 子集 II\n",
    "\n",
    "[力扣 78](https://leetcode.cn/problems/subsets-ii/)"
   ],
   "metadata": {
    "collapsed": false
   }
  },
  {
   "cell_type": "markdown",
   "source": [
    "### BFS\n",
    "\n",
    "\n",
    "[] -->(1) [1]  -->(2) [2], [1, 2]  -->(2) [2,2], [1,2,2] -->(2) [2,2,2], [1,2,2,2]\n",
    "\n",
    "![](../../imgs/78.png)\n"
   ],
   "metadata": {
    "collapsed": false
   }
  },
  {
   "cell_type": "code",
   "execution_count": 3,
   "outputs": [],
   "source": [
    "class Solution(object):\n",
    "    def subsetsWithDup(self, nums):\n",
    "        \"\"\"\n",
    "        :type nums: List[int]\n",
    "        :rtype: List[List[int]]\n",
    "        \"\"\"\n",
    "        nums.sort()\n",
    "        n = len(nums)\n",
    "        ans = [[], [nums[0]]]\n",
    "        last_added = [[nums[0]]]\n",
    "        for i in range(1, n):\n",
    "            # 如果不同, 则与所有的相组合\n",
    "            if nums[i] != nums[i-1]:\n",
    "                last_added = []\n",
    "                for j in range(len(ans)):\n",
    "                    last_added.append(ans[j] + [nums[i]])\n",
    "                ans.extend(last_added)\n",
    "            # 如果相同了\n",
    "            else:\n",
    "                new_last_added = []\n",
    "                for j in range(len(last_added)):\n",
    "                    new_last_added.append(last_added[j] + [nums[i]])\n",
    "                ans.extend(new_last_added)\n",
    "                last_added = new_last_added\n",
    "        return ans\n"
   ],
   "metadata": {
    "collapsed": false
   }
  },
  {
   "cell_type": "markdown",
   "source": [
    "## 方法二: 回溯"
   ],
   "metadata": {
    "collapsed": false
   }
  },
  {
   "cell_type": "code",
   "execution_count": 4,
   "outputs": [],
   "source": [
    "class Solution(object):\n",
    "    def subsetsWithDup(self, nums):\n",
    "        res = []\n",
    "        path = []\n",
    "        nums.sort() # 去重需要先对数组进行排序\n",
    "\n",
    "        def backtracking(nums, startIndex):\n",
    "            # 终止条件\n",
    "            res.append(path[:])\n",
    "            if startIndex == len(nums):\n",
    "                return\n",
    "\n",
    "            # for循环\n",
    "            for i in range(startIndex, len(nums)):\n",
    "                # 数层去重\n",
    "                if i > startIndex and nums[i] == nums[i-1]: # 去重\n",
    "                    continue\n",
    "                path.append(nums[i])\n",
    "                backtracking(nums, i+1)\n",
    "                path.pop()\n",
    "\n",
    "        backtracking(nums, 0)\n",
    "        return res"
   ],
   "metadata": {
    "collapsed": false
   }
  },
  {
   "cell_type": "markdown",
   "source": [
    "## 组合\n",
    "\n",
    "[力扣](https://leetcode.cn/problems/combinations/)\n",
    "\n",
    "![](../../imgs/77.png)"
   ],
   "metadata": {
    "collapsed": false
   }
  },
  {
   "cell_type": "code",
   "execution_count": 5,
   "outputs": [],
   "source": [
    "class Solution(object):\n",
    "    def combine(self, n, k):\n",
    "        \"\"\"\n",
    "        :type n: int\n",
    "        :type k: int\n",
    "        :rtype: List[List[int]]\n",
    "        \"\"\"\n",
    "        ans = []\n",
    "        def backtrace(start, combo, left):\n",
    "            # 没有足够选择了, 直接返回\n",
    "            if n+1-start == left:\n",
    "                ans.append(combo + [i for i in range(start, n+1)])\n",
    "                return\n",
    "            # 选择结束, 返回\n",
    "            if left == 0:\n",
    "                ans.append(combo)\n",
    "                return\n",
    "\n",
    "            backtrace(start+1, combo, left)\n",
    "            backtrace(start+1, combo + [start], left-1)\n",
    "\n",
    "        backtrace(1, [], k)\n",
    "        return ans"
   ],
   "metadata": {
    "collapsed": false
   }
  },
  {
   "cell_type": "markdown",
   "source": [
    "## 最大子数组和\n",
    "\n",
    "[力扣 53](https://leetcode.cn/problems/maximum-subarray/)"
   ],
   "metadata": {
    "collapsed": false
   }
  },
  {
   "cell_type": "markdown",
   "source": [
    "### 方法一: 动态规划, 转化为股票买卖问题\n",
    "\n",
    "转化为股票买卖问题 I\n",
    "\n",
    "![](../../imgs/53_dp.png)"
   ],
   "metadata": {
    "collapsed": false
   }
  },
  {
   "cell_type": "code",
   "execution_count": 6,
   "outputs": [],
   "source": [
    "class Solution(object):\n",
    "    def maxSubArray(self, nums):\n",
    "        \"\"\"\n",
    "        :type nums: List[int]\n",
    "        :rtype: int\n",
    "        \"\"\"\n",
    "        n = len(nums)\n",
    "\n",
    "        for i in range(1, n):\n",
    "            nums[i] += nums[i-1]\n",
    "        nums = [0] + nums\n",
    "\n",
    "        max_price, max_sum = nums[-1], nums[-1]\n",
    "        i = n-1\n",
    "        while i >= 0:\n",
    "            max_sum = max(max_sum, max_price - nums[i])\n",
    "            max_price = max(max_price, nums[i])\n",
    "            i -= 1\n",
    "        return max_sum\n"
   ],
   "metadata": {
    "collapsed": false
   }
  },
  {
   "cell_type": "markdown",
   "source": [
    "### 方法二: 直接动态规划\n",
    "\n",
    "子问题: dp[i] := 以 `nums[i]` 结尾的最大子序列和为多少？\n",
    "\n",
    "![](../../imgs/53_dp2.png)"
   ],
   "metadata": {
    "collapsed": false
   }
  },
  {
   "cell_type": "code",
   "execution_count": 7,
   "outputs": [],
   "source": [
    "class Solution(object):\n",
    "    def maxSubArray(self, nums):\n",
    "        n = len(nums)\n",
    "\n",
    "        # dp init\n",
    "        dp = 0\n",
    "        max_sum = nums[0]\n",
    "\n",
    "        # dp sweep\n",
    "        for i in range(1, n):\n",
    "            dp = max(nums[i], nums[i]+dp)\n",
    "            max_sum = max(max_sum, dp)\n",
    "\n",
    "        return max_sum"
   ],
   "metadata": {
    "collapsed": false
   }
  },
  {
   "cell_type": "markdown",
   "source": [
    "## 插入区间\n",
    "\n",
    "[力扣 57.](https://leetcode.cn/problems/insert-interval/)"
   ],
   "metadata": {
    "collapsed": false
   }
  },
  {
   "cell_type": "code",
   "execution_count": 8,
   "outputs": [],
   "source": [
    "class Solution(object):\n",
    "    def findLast(self, intervals, target, start, end):\n",
    "        l, r = start, end\n",
    "        while l < r:\n",
    "            m = (l+r) // 2\n",
    "            if target < intervals[m][0]:\n",
    "                r = m - 1\n",
    "            else:  # 已经满足条件\n",
    "                if l == m:\n",
    "                    break\n",
    "                l = m\n",
    "        if r < 0:\n",
    "            return r\n",
    "        elif target >= intervals[r][0]:\n",
    "            return r\n",
    "        else:\n",
    "            return r-1\n",
    "\n",
    "    def insert(self, intervals, newInterval):\n",
    "        \"\"\"\n",
    "        :type intervals: List[List[int]]\n",
    "        :type newInterval: List[int]\n",
    "        :rtype: List[List[int]]\n",
    "        \"\"\"\n",
    "        n = len(intervals)\n",
    "\n",
    "        # 1. 在 intervals[0...n-1] 中找到 newInterval[0] >= intervals[i][0] 的最后一个位置 i\n",
    "        left = self.findLast(intervals, newInterval[0], 0, n-1)\n",
    "\n",
    "        # 2. 在 intervals[i...n-1] 中找到 newInterval[1] >= intervals[j][0] 的最后一个位置 j\n",
    "        right = self.findLast(intervals, newInterval[1], max(left, 0), n-1)\n",
    "\n",
    "        if left == -1:\n",
    "            # 开头\n",
    "            left_part = []\n",
    "            lower = newInterval[0]\n",
    "        elif left == n-1 and newInterval[0] > intervals[-1][1]:\n",
    "            left_part = intervals\n",
    "            lower = newInterval[0]\n",
    "        else:\n",
    "            if newInterval[0] <= intervals[left][1]:\n",
    "                left_part = intervals[:left]\n",
    "                lower = intervals[left][0]\n",
    "            else:\n",
    "                left_part = intervals[:left+1]\n",
    "                lower = newInterval[0]\n",
    "        upper = newInterval[1] if right == -1 else max(intervals[right][1], newInterval[1])\n",
    "\n",
    "        return left_part + [[lower, upper]] + intervals[right+1:]\n"
   ],
   "metadata": {
    "collapsed": false
   }
  }
 ],
 "metadata": {
  "kernelspec": {
   "display_name": "Python 3",
   "language": "python",
   "name": "python3"
  },
  "language_info": {
   "codemirror_mode": {
    "name": "ipython",
    "version": 2
   },
   "file_extension": ".py",
   "mimetype": "text/x-python",
   "name": "python",
   "nbconvert_exporter": "python",
   "pygments_lexer": "ipython2",
   "version": "2.7.6"
  }
 },
 "nbformat": 4,
 "nbformat_minor": 0
}
